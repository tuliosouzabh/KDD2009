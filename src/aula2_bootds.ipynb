{
 "cells": [
  {
   "cell_type": "markdown",
   "metadata": {},
   "source": [
    "# Aula 2 - Bootcamp DataScience \n",
    "\n",
    "## Analise Exploratória\n",
    "\n",
    "### Inicio\n",
    "\n",
    "Para download do dataset acesse o link abaixo                                                                                    \n",
    "\n",
    "https://www.kaggle.com/dongeorge/beer-consumption-sao-paulo/downloads/beer-consumption-sao-paulo.zip/2"
   ]
  },
  {
   "cell_type": "code",
   "execution_count": 115,
   "metadata": {},
   "outputs": [],
   "source": [
    "#Importando os pacotes necessários\n",
    "import pandas as pd\n",
    "import numpy as np\n",
    "import matplotlib.pyplot as plt\n",
    "import seaborn as sns\n",
    "from datetime import datetime\n"
   ]
  },
  {
   "cell_type": "code",
   "execution_count": 127,
   "metadata": {},
   "outputs": [],
   "source": [
    "#Lendo os dados\n",
    "df = pd.read_csv('../data/Consumo_cerveja.csv', decimal = ',', sep = ';')"
   ]
  },
  {
   "cell_type": "code",
   "execution_count": 128,
   "metadata": {},
   "outputs": [
    {
     "data": {
      "text/plain": [
       "(365, 7)"
      ]
     },
     "execution_count": 128,
     "metadata": {},
     "output_type": "execute_result"
    }
   ],
   "source": [
    "df.shape"
   ]
  },
  {
   "cell_type": "code",
   "execution_count": 129,
   "metadata": {},
   "outputs": [
    {
     "data": {
      "text/html": [
       "<div>\n",
       "<style scoped>\n",
       "    .dataframe tbody tr th:only-of-type {\n",
       "        vertical-align: middle;\n",
       "    }\n",
       "\n",
       "    .dataframe tbody tr th {\n",
       "        vertical-align: top;\n",
       "    }\n",
       "\n",
       "    .dataframe thead th {\n",
       "        text-align: right;\n",
       "    }\n",
       "</style>\n",
       "<table border=\"1\" class=\"dataframe\">\n",
       "  <thead>\n",
       "    <tr style=\"text-align: right;\">\n",
       "      <th></th>\n",
       "      <th>Data</th>\n",
       "      <th>Temperatura Media (C)</th>\n",
       "      <th>Temperatura Minima (C)</th>\n",
       "      <th>Temperatura Maxima (C)</th>\n",
       "      <th>Precipitacao (mm)</th>\n",
       "      <th>Final de Semana</th>\n",
       "      <th>Consumo de cerveja (litros)</th>\n",
       "    </tr>\n",
       "  </thead>\n",
       "  <tbody>\n",
       "    <tr>\n",
       "      <th>0</th>\n",
       "      <td>01/01/2015</td>\n",
       "      <td>27.30</td>\n",
       "      <td>23.9</td>\n",
       "      <td>32.5</td>\n",
       "      <td>0.0</td>\n",
       "      <td>0</td>\n",
       "      <td>25.46</td>\n",
       "    </tr>\n",
       "    <tr>\n",
       "      <th>1</th>\n",
       "      <td>02/01/2015</td>\n",
       "      <td>27.02</td>\n",
       "      <td>24.5</td>\n",
       "      <td>33.5</td>\n",
       "      <td>0.0</td>\n",
       "      <td>0</td>\n",
       "      <td>28.97</td>\n",
       "    </tr>\n",
       "    <tr>\n",
       "      <th>2</th>\n",
       "      <td>03/01/2015</td>\n",
       "      <td>24.82</td>\n",
       "      <td>22.4</td>\n",
       "      <td>29.9</td>\n",
       "      <td>0.0</td>\n",
       "      <td>1</td>\n",
       "      <td>30.81</td>\n",
       "    </tr>\n",
       "    <tr>\n",
       "      <th>3</th>\n",
       "      <td>04/01/2015</td>\n",
       "      <td>23.98</td>\n",
       "      <td>21.5</td>\n",
       "      <td>28.6</td>\n",
       "      <td>1.2</td>\n",
       "      <td>1</td>\n",
       "      <td>29.80</td>\n",
       "    </tr>\n",
       "    <tr>\n",
       "      <th>4</th>\n",
       "      <td>05/01/2015</td>\n",
       "      <td>23.82</td>\n",
       "      <td>21.0</td>\n",
       "      <td>28.3</td>\n",
       "      <td>0.0</td>\n",
       "      <td>0</td>\n",
       "      <td>28.90</td>\n",
       "    </tr>\n",
       "  </tbody>\n",
       "</table>\n",
       "</div>"
      ],
      "text/plain": [
       "         Data  Temperatura Media (C)  Temperatura Minima (C)  \\\n",
       "0  01/01/2015                  27.30                    23.9   \n",
       "1  02/01/2015                  27.02                    24.5   \n",
       "2  03/01/2015                  24.82                    22.4   \n",
       "3  04/01/2015                  23.98                    21.5   \n",
       "4  05/01/2015                  23.82                    21.0   \n",
       "\n",
       "   Temperatura Maxima (C)  Precipitacao (mm)  Final de Semana  \\\n",
       "0                    32.5                0.0                0   \n",
       "1                    33.5                0.0                0   \n",
       "2                    29.9                0.0                1   \n",
       "3                    28.6                1.2                1   \n",
       "4                    28.3                0.0                0   \n",
       "\n",
       "   Consumo de cerveja (litros)  \n",
       "0                        25.46  \n",
       "1                        28.97  \n",
       "2                        30.81  \n",
       "3                        29.80  \n",
       "4                        28.90  "
      ]
     },
     "execution_count": 129,
     "metadata": {},
     "output_type": "execute_result"
    }
   ],
   "source": [
    "#plotando os primeiros casos do dataframe\n",
    "df.head()"
   ]
  },
  {
   "cell_type": "code",
   "execution_count": 56,
   "metadata": {},
   "outputs": [
    {
     "data": {
      "text/plain": [
       "Data                           365\n",
       "Temperatura Media (C)          365\n",
       "Temperatura Minima (C)         365\n",
       "Temperatura Maxima (C)         365\n",
       "Precipitacao (mm)              365\n",
       "Final de Semana                365\n",
       "Consumo de cerveja (litros)    365\n",
       "dtype: int64"
      ]
     },
     "execution_count": 56,
     "metadata": {},
     "output_type": "execute_result"
    }
   ],
   "source": [
    "#Contando valores validos\n",
    "df.count()"
   ]
  },
  {
   "cell_type": "code",
   "execution_count": 57,
   "metadata": {},
   "outputs": [
    {
     "data": {
      "text/plain": [
       "Data                            object\n",
       "Temperatura Media (C)          float64\n",
       "Temperatura Minima (C)         float64\n",
       "Temperatura Maxima (C)         float64\n",
       "Precipitacao (mm)              float64\n",
       "Final de Semana                  int64\n",
       "Consumo de cerveja (litros)    float64\n",
       "dtype: object"
      ]
     },
     "execution_count": 57,
     "metadata": {},
     "output_type": "execute_result"
    }
   ],
   "source": [
    "#plotando o tipo de dados\n",
    "df.dtypes"
   ]
  },
  {
   "cell_type": "code",
   "execution_count": 58,
   "metadata": {},
   "outputs": [
    {
     "data": {
      "text/plain": [
       "Index(['Data', 'Temperatura Media (C)', 'Temperatura Minima (C)',\n",
       "       'Temperatura Maxima (C)', 'Precipitacao (mm)', 'Final de Semana',\n",
       "       'Consumo de cerveja (litros)'],\n",
       "      dtype='object')"
      ]
     },
     "execution_count": 58,
     "metadata": {},
     "output_type": "execute_result"
    }
   ],
   "source": [
    "#printando o nome das colunas\n",
    "df.columns"
   ]
  },
  {
   "cell_type": "code",
   "execution_count": 130,
   "metadata": {},
   "outputs": [
    {
     "data": {
      "text/plain": [
       "Index(['data', 'media', 'min', 'max', 'precipitacao', 'fds',\n",
       "       'consumo_cerveja'],\n",
       "      dtype='object')"
      ]
     },
     "execution_count": 130,
     "metadata": {},
     "output_type": "execute_result"
    }
   ],
   "source": [
    "#Vamos trocar os nomes das variaveis para facilitar o trabalho\n",
    "df.columns = ['data', 'media', 'min', 'max', 'precipitacao', 'fds', 'consumo_cerveja']\n",
    "df.columns"
   ]
  },
  {
   "cell_type": "code",
   "execution_count": 132,
   "metadata": {},
   "outputs": [],
   "source": [
    "#trocar a variavel fds para o tipo object e a data para pd.DateTime\n",
    "df['fds'] = df['fds'].astype('category')\n",
    "df['data'] = pd.to_datetime(df['data'])"
   ]
  },
  {
   "cell_type": "code",
   "execution_count": 133,
   "metadata": {},
   "outputs": [],
   "source": [
    "#Vamos quebrar a data em dia mes e ano\n",
    "df['ano'] = df['data'].dt.year\n",
    "df['mes'] = df['data'].dt.month\n",
    "df['dia'] = df['data'].dt.day"
   ]
  },
  {
   "cell_type": "code",
   "execution_count": 65,
   "metadata": {
    "scrolled": true
   },
   "outputs": [
    {
     "data": {
      "text/html": [
       "<div>\n",
       "<style scoped>\n",
       "    .dataframe tbody tr th:only-of-type {\n",
       "        vertical-align: middle;\n",
       "    }\n",
       "\n",
       "    .dataframe tbody tr th {\n",
       "        vertical-align: top;\n",
       "    }\n",
       "\n",
       "    .dataframe thead th {\n",
       "        text-align: right;\n",
       "    }\n",
       "</style>\n",
       "<table border=\"1\" class=\"dataframe\">\n",
       "  <thead>\n",
       "    <tr style=\"text-align: right;\">\n",
       "      <th></th>\n",
       "      <th>data</th>\n",
       "      <th>media</th>\n",
       "      <th>min</th>\n",
       "      <th>max</th>\n",
       "      <th>precipitacao</th>\n",
       "      <th>fds</th>\n",
       "      <th>consumo_cerveja</th>\n",
       "      <th>ano</th>\n",
       "      <th>mes</th>\n",
       "      <th>dia</th>\n",
       "    </tr>\n",
       "  </thead>\n",
       "  <tbody>\n",
       "    <tr>\n",
       "      <th>0</th>\n",
       "      <td>2015-01-01</td>\n",
       "      <td>27.30</td>\n",
       "      <td>23.9</td>\n",
       "      <td>32.5</td>\n",
       "      <td>0.0</td>\n",
       "      <td>0</td>\n",
       "      <td>25.46</td>\n",
       "      <td>2015</td>\n",
       "      <td>1</td>\n",
       "      <td>1</td>\n",
       "    </tr>\n",
       "    <tr>\n",
       "      <th>1</th>\n",
       "      <td>2015-02-01</td>\n",
       "      <td>27.02</td>\n",
       "      <td>24.5</td>\n",
       "      <td>33.5</td>\n",
       "      <td>0.0</td>\n",
       "      <td>0</td>\n",
       "      <td>28.97</td>\n",
       "      <td>2015</td>\n",
       "      <td>2</td>\n",
       "      <td>1</td>\n",
       "    </tr>\n",
       "    <tr>\n",
       "      <th>2</th>\n",
       "      <td>2015-03-01</td>\n",
       "      <td>24.82</td>\n",
       "      <td>22.4</td>\n",
       "      <td>29.9</td>\n",
       "      <td>0.0</td>\n",
       "      <td>1</td>\n",
       "      <td>30.81</td>\n",
       "      <td>2015</td>\n",
       "      <td>3</td>\n",
       "      <td>1</td>\n",
       "    </tr>\n",
       "    <tr>\n",
       "      <th>3</th>\n",
       "      <td>2015-04-01</td>\n",
       "      <td>23.98</td>\n",
       "      <td>21.5</td>\n",
       "      <td>28.6</td>\n",
       "      <td>1.2</td>\n",
       "      <td>1</td>\n",
       "      <td>29.80</td>\n",
       "      <td>2015</td>\n",
       "      <td>4</td>\n",
       "      <td>1</td>\n",
       "    </tr>\n",
       "    <tr>\n",
       "      <th>4</th>\n",
       "      <td>2015-05-01</td>\n",
       "      <td>23.82</td>\n",
       "      <td>21.0</td>\n",
       "      <td>28.3</td>\n",
       "      <td>0.0</td>\n",
       "      <td>0</td>\n",
       "      <td>28.90</td>\n",
       "      <td>2015</td>\n",
       "      <td>5</td>\n",
       "      <td>1</td>\n",
       "    </tr>\n",
       "  </tbody>\n",
       "</table>\n",
       "</div>"
      ],
      "text/plain": [
       "        data  media   min   max  precipitacao fds  consumo_cerveja   ano  mes  \\\n",
       "0 2015-01-01  27.30  23.9  32.5           0.0   0            25.46  2015    1   \n",
       "1 2015-02-01  27.02  24.5  33.5           0.0   0            28.97  2015    2   \n",
       "2 2015-03-01  24.82  22.4  29.9           0.0   1            30.81  2015    3   \n",
       "3 2015-04-01  23.98  21.5  28.6           1.2   1            29.80  2015    4   \n",
       "4 2015-05-01  23.82  21.0  28.3           0.0   0            28.90  2015    5   \n",
       "\n",
       "   dia  \n",
       "0    1  \n",
       "1    1  \n",
       "2    1  \n",
       "3    1  \n",
       "4    1  "
      ]
     },
     "execution_count": 65,
     "metadata": {},
     "output_type": "execute_result"
    }
   ],
   "source": [
    "#printando os casos\n",
    "df.head()"
   ]
  },
  {
   "cell_type": "markdown",
   "metadata": {},
   "source": [
    "### Trabalhando com medidas de tendencia central"
   ]
  },
  {
   "cell_type": "code",
   "execution_count": 66,
   "metadata": {},
   "outputs": [
    {
     "data": {
      "text/plain": [
       "9271.7"
      ]
     },
     "execution_count": 66,
     "metadata": {},
     "output_type": "execute_result"
    }
   ],
   "source": [
    "## Vamos calcular a média do consumo de cerveja\n",
    "## Primeiro vamos somar todas as linhas da coluna\n",
    "df['consumo_cerveja'].sum()"
   ]
  },
  {
   "cell_type": "code",
   "execution_count": 67,
   "metadata": {},
   "outputs": [
    {
     "data": {
      "text/plain": [
       "365"
      ]
     },
     "execution_count": 67,
     "metadata": {},
     "output_type": "execute_result"
    }
   ],
   "source": [
    "## Agora vamos contar todos os casos em que temos consumo de cerveja no dataset\n",
    "df['consumo_cerveja'].count()"
   ]
  },
  {
   "cell_type": "code",
   "execution_count": 70,
   "metadata": {},
   "outputs": [
    {
     "data": {
      "text/html": [
       "<div>\n",
       "<style scoped>\n",
       "    .dataframe tbody tr th:only-of-type {\n",
       "        vertical-align: middle;\n",
       "    }\n",
       "\n",
       "    .dataframe tbody tr th {\n",
       "        vertical-align: top;\n",
       "    }\n",
       "\n",
       "    .dataframe thead th {\n",
       "        text-align: right;\n",
       "    }\n",
       "</style>\n",
       "<table border=\"1\" class=\"dataframe\">\n",
       "  <thead>\n",
       "    <tr style=\"text-align: right;\">\n",
       "      <th></th>\n",
       "      <th>data</th>\n",
       "      <th>media</th>\n",
       "      <th>min</th>\n",
       "      <th>max</th>\n",
       "      <th>precipitacao</th>\n",
       "      <th>fds</th>\n",
       "      <th>consumo_cerveja</th>\n",
       "      <th>ano</th>\n",
       "      <th>mes</th>\n",
       "      <th>dia</th>\n",
       "      <th>consumo_medio</th>\n",
       "    </tr>\n",
       "  </thead>\n",
       "  <tbody>\n",
       "    <tr>\n",
       "      <th>0</th>\n",
       "      <td>2015-01-01</td>\n",
       "      <td>27.30</td>\n",
       "      <td>23.9</td>\n",
       "      <td>32.5</td>\n",
       "      <td>0.0</td>\n",
       "      <td>0</td>\n",
       "      <td>25.46</td>\n",
       "      <td>2015</td>\n",
       "      <td>1</td>\n",
       "      <td>1</td>\n",
       "      <td>25.401918</td>\n",
       "    </tr>\n",
       "    <tr>\n",
       "      <th>1</th>\n",
       "      <td>2015-02-01</td>\n",
       "      <td>27.02</td>\n",
       "      <td>24.5</td>\n",
       "      <td>33.5</td>\n",
       "      <td>0.0</td>\n",
       "      <td>0</td>\n",
       "      <td>28.97</td>\n",
       "      <td>2015</td>\n",
       "      <td>2</td>\n",
       "      <td>1</td>\n",
       "      <td>25.401918</td>\n",
       "    </tr>\n",
       "    <tr>\n",
       "      <th>2</th>\n",
       "      <td>2015-03-01</td>\n",
       "      <td>24.82</td>\n",
       "      <td>22.4</td>\n",
       "      <td>29.9</td>\n",
       "      <td>0.0</td>\n",
       "      <td>1</td>\n",
       "      <td>30.81</td>\n",
       "      <td>2015</td>\n",
       "      <td>3</td>\n",
       "      <td>1</td>\n",
       "      <td>25.401918</td>\n",
       "    </tr>\n",
       "    <tr>\n",
       "      <th>3</th>\n",
       "      <td>2015-04-01</td>\n",
       "      <td>23.98</td>\n",
       "      <td>21.5</td>\n",
       "      <td>28.6</td>\n",
       "      <td>1.2</td>\n",
       "      <td>1</td>\n",
       "      <td>29.80</td>\n",
       "      <td>2015</td>\n",
       "      <td>4</td>\n",
       "      <td>1</td>\n",
       "      <td>25.401918</td>\n",
       "    </tr>\n",
       "    <tr>\n",
       "      <th>4</th>\n",
       "      <td>2015-05-01</td>\n",
       "      <td>23.82</td>\n",
       "      <td>21.0</td>\n",
       "      <td>28.3</td>\n",
       "      <td>0.0</td>\n",
       "      <td>0</td>\n",
       "      <td>28.90</td>\n",
       "      <td>2015</td>\n",
       "      <td>5</td>\n",
       "      <td>1</td>\n",
       "      <td>25.401918</td>\n",
       "    </tr>\n",
       "  </tbody>\n",
       "</table>\n",
       "</div>"
      ],
      "text/plain": [
       "        data  media   min   max  precipitacao fds  consumo_cerveja   ano  mes  \\\n",
       "0 2015-01-01  27.30  23.9  32.5           0.0   0            25.46  2015    1   \n",
       "1 2015-02-01  27.02  24.5  33.5           0.0   0            28.97  2015    2   \n",
       "2 2015-03-01  24.82  22.4  29.9           0.0   1            30.81  2015    3   \n",
       "3 2015-04-01  23.98  21.5  28.6           1.2   1            29.80  2015    4   \n",
       "4 2015-05-01  23.82  21.0  28.3           0.0   0            28.90  2015    5   \n",
       "\n",
       "   dia  consumo_medio  \n",
       "0    1      25.401918  \n",
       "1    1      25.401918  \n",
       "2    1      25.401918  \n",
       "3    1      25.401918  \n",
       "4    1      25.401918  "
      ]
     },
     "execution_count": 70,
     "metadata": {},
     "output_type": "execute_result"
    }
   ],
   "source": [
    "#Agora vamos dividir a soma do consumo pela media de cerveja\n",
    "df['consumo_medio'] = df['consumo_cerveja'].sum() / (df['consumo_cerveja'].count())\n",
    "df.head()"
   ]
  },
  {
   "cell_type": "code",
   "execution_count": 71,
   "metadata": {},
   "outputs": [
    {
     "data": {
      "text/plain": [
       "25.40191780821916"
      ]
     },
     "execution_count": 71,
     "metadata": {},
     "output_type": "execute_result"
    }
   ],
   "source": [
    "#Se aplicarmos a função mean, também teremos o mesmo resultado\n",
    "df['consumo_cerveja'].mean()"
   ]
  },
  {
   "cell_type": "code",
   "execution_count": 72,
   "metadata": {
    "collapsed": true
   },
   "outputs": [
    {
     "name": "stdout",
     "output_type": "stream",
     "text": [
      "0      25.46\n",
      "1      28.97\n",
      "2      30.81\n",
      "3      29.80\n",
      "4      28.90\n",
      "5      28.22\n",
      "6      29.73\n",
      "7      28.40\n",
      "8      24.89\n",
      "9      37.94\n",
      "10     36.25\n",
      "11     25.74\n",
      "12     26.99\n",
      "13     31.83\n",
      "14     25.72\n",
      "15     29.94\n",
      "16     37.69\n",
      "17     30.52\n",
      "18     29.27\n",
      "19     35.13\n",
      "20     29.13\n",
      "21     25.80\n",
      "22     21.78\n",
      "23     28.35\n",
      "24     31.09\n",
      "25     21.52\n",
      "26     29.97\n",
      "27     22.60\n",
      "28     22.70\n",
      "29     26.85\n",
      "       ...  \n",
      "335    30.47\n",
      "336    28.41\n",
      "337    29.51\n",
      "338    32.45\n",
      "339    32.78\n",
      "340    23.38\n",
      "341    27.71\n",
      "342    27.14\n",
      "343    22.93\n",
      "344    30.74\n",
      "345    29.58\n",
      "346    29.19\n",
      "347    28.13\n",
      "348    28.62\n",
      "349    21.06\n",
      "350    24.34\n",
      "351    27.04\n",
      "352    32.54\n",
      "353    30.13\n",
      "354    24.83\n",
      "355    26.83\n",
      "356    26.47\n",
      "357    31.57\n",
      "358    26.31\n",
      "359    21.96\n",
      "360    32.31\n",
      "361    26.10\n",
      "362    22.31\n",
      "363    20.47\n",
      "364    22.45\n",
      "Name: consumo_cerveja, Length: 365, dtype: float64\n"
     ]
    }
   ],
   "source": [
    "#Vamos calcular a mediana do consumo de cerveja\n",
    "#Para isto vamos salvar uma lista com todos nossos dados\n",
    "lista = df['consumo_cerveja']\n",
    "print(lista)"
   ]
  },
  {
   "cell_type": "code",
   "execution_count": 75,
   "metadata": {
    "collapsed": true
   },
   "outputs": [
    {
     "name": "stdout",
     "output_type": "stream",
     "text": [
      "202    14.34\n",
      "183    14.94\n",
      "151    16.23\n",
      "169    16.75\n",
      "130    16.96\n",
      "251    16.98\n",
      "250    17.08\n",
      "174    17.24\n",
      "132    17.29\n",
      "47     17.40\n",
      "231    17.66\n",
      "270    17.73\n",
      "238    17.89\n",
      "120    17.94\n",
      "127    18.15\n",
      "186    18.45\n",
      "207    18.98\n",
      "203    19.03\n",
      "131    19.05\n",
      "111    19.11\n",
      "165    19.12\n",
      "126    19.14\n",
      "246    19.35\n",
      "175    19.46\n",
      "139    19.53\n",
      "208    19.64\n",
      "182    19.73\n",
      "118    19.76\n",
      "188    19.85\n",
      "35     19.95\n",
      "       ...  \n",
      "325    31.93\n",
      "31     32.06\n",
      "269    32.18\n",
      "360    32.31\n",
      "338    32.45\n",
      "212    32.47\n",
      "199    32.47\n",
      "352    32.54\n",
      "265    32.59\n",
      "289    32.67\n",
      "94     32.71\n",
      "339    32.78\n",
      "73     32.87\n",
      "164    32.98\n",
      "280    33.18\n",
      "192    33.30\n",
      "282    33.33\n",
      "93     33.45\n",
      "220    33.52\n",
      "107    33.82\n",
      "259    33.93\n",
      "331    34.38\n",
      "283    34.50\n",
      "262    34.70\n",
      "19     35.13\n",
      "303    35.78\n",
      "287    35.86\n",
      "10     36.25\n",
      "16     37.69\n",
      "9      37.94\n",
      "Name: consumo_cerveja, Length: 365, dtype: float64\n"
     ]
    }
   ],
   "source": [
    "#Vamos ordenar os valores de forma crescente\n",
    "lista = lista.sort_values()\n",
    "print(lista)"
   ]
  },
  {
   "cell_type": "code",
   "execution_count": 85,
   "metadata": {},
   "outputs": [
    {
     "data": {
      "text/plain": [
       "consumo_cerveja    24.87\n",
       "Name: 182, dtype: float64"
      ]
     },
     "execution_count": 85,
     "metadata": {},
     "output_type": "execute_result"
    }
   ],
   "source": [
    "#Como temos 365 casos (0 a 364) a mediana sera o valor da posição 182 dos dados ordenados\n",
    "#Para bucar este valor primeiro teremos que resetar o indice da lista\n",
    "lista= lista.reset_index()\n",
    "lista = lista.drop(columns = 'index')\n",
    "lista.loc[182]"
   ]
  },
  {
   "cell_type": "code",
   "execution_count": 84,
   "metadata": {},
   "outputs": [
    {
     "data": {
      "text/plain": [
       "24.87"
      ]
     },
     "execution_count": 84,
     "metadata": {},
     "output_type": "execute_result"
    }
   ],
   "source": [
    "#tambem podemos utilizar a função median() para calcular a mediana \n",
    "df['consumo_cerveja'].median()"
   ]
  },
  {
   "cell_type": "code",
   "execution_count": 86,
   "metadata": {},
   "outputs": [],
   "source": [
    "##Vamos calcular o desvio padrão\n",
    "#Primeiro calculamos a distancia de cada ponto da media\n",
    "df['distancia'] = df['consumo_cerveja'] - df['consumo_medio']"
   ]
  },
  {
   "cell_type": "code",
   "execution_count": 87,
   "metadata": {},
   "outputs": [],
   "source": [
    "# Segundo elevamos a distancia ao quadrado\n",
    "df['quadrado_distancia'] = df['distancia'] **2"
   ]
  },
  {
   "cell_type": "code",
   "execution_count": 88,
   "metadata": {},
   "outputs": [
    {
     "data": {
      "text/plain": [
       "7044.129657534248"
      ]
     },
     "execution_count": 88,
     "metadata": {},
     "output_type": "execute_result"
    }
   ],
   "source": [
    "#Somamos o quadrado da distancia\n",
    "df['quadrado_distancia'].sum()"
   ]
  },
  {
   "cell_type": "code",
   "execution_count": 89,
   "metadata": {},
   "outputs": [
    {
     "data": {
      "text/plain": [
       "19.298985363107526"
      ]
     },
     "execution_count": 89,
     "metadata": {},
     "output_type": "execute_result"
    }
   ],
   "source": [
    "#dividimos pelo numero de casos\n",
    "df['quadrado_distancia'].sum() / df['quadrado_distancia'].count()"
   ]
  },
  {
   "cell_type": "code",
   "execution_count": 100,
   "metadata": {},
   "outputs": [
    {
     "data": {
      "text/plain": [
       "4.393"
      ]
     },
     "execution_count": 100,
     "metadata": {},
     "output_type": "execute_result"
    }
   ],
   "source": [
    "#Tiramos a raiz quadrada da distancia\n",
    "round(np.sqrt(df['quadrado_distancia'].sum() / df['quadrado_distancia'].count()),3)"
   ]
  },
  {
   "cell_type": "code",
   "execution_count": 98,
   "metadata": {},
   "outputs": [
    {
     "data": {
      "text/plain": [
       "4.399"
      ]
     },
     "execution_count": 98,
     "metadata": {},
     "output_type": "execute_result"
    }
   ],
   "source": [
    "#Realizando a mesma operação com o pandas std\n",
    "round(df['consumo_cerveja'].std(),3)"
   ]
  },
  {
   "cell_type": "code",
   "execution_count": 101,
   "metadata": {},
   "outputs": [
    {
     "data": {
      "text/html": [
       "<div>\n",
       "<style scoped>\n",
       "    .dataframe tbody tr th:only-of-type {\n",
       "        vertical-align: middle;\n",
       "    }\n",
       "\n",
       "    .dataframe tbody tr th {\n",
       "        vertical-align: top;\n",
       "    }\n",
       "\n",
       "    .dataframe thead th {\n",
       "        text-align: right;\n",
       "    }\n",
       "</style>\n",
       "<table border=\"1\" class=\"dataframe\">\n",
       "  <thead>\n",
       "    <tr style=\"text-align: right;\">\n",
       "      <th></th>\n",
       "      <th>data</th>\n",
       "      <th>media</th>\n",
       "      <th>min</th>\n",
       "      <th>max</th>\n",
       "      <th>precipitacao</th>\n",
       "      <th>fds</th>\n",
       "      <th>consumo_cerveja</th>\n",
       "      <th>ano</th>\n",
       "      <th>mes</th>\n",
       "      <th>dia</th>\n",
       "      <th>consumo_medio</th>\n",
       "      <th>distancia</th>\n",
       "      <th>quadrado_distancia</th>\n",
       "    </tr>\n",
       "  </thead>\n",
       "  <tbody>\n",
       "    <tr>\n",
       "      <th>0</th>\n",
       "      <td>2015-01-01</td>\n",
       "      <td>27.30</td>\n",
       "      <td>23.9</td>\n",
       "      <td>32.5</td>\n",
       "      <td>0.0</td>\n",
       "      <td>0</td>\n",
       "      <td>25.46</td>\n",
       "      <td>2015</td>\n",
       "      <td>1</td>\n",
       "      <td>1</td>\n",
       "      <td>25.401918</td>\n",
       "      <td>0.058082</td>\n",
       "      <td>0.003374</td>\n",
       "    </tr>\n",
       "    <tr>\n",
       "      <th>1</th>\n",
       "      <td>2015-02-01</td>\n",
       "      <td>27.02</td>\n",
       "      <td>24.5</td>\n",
       "      <td>33.5</td>\n",
       "      <td>0.0</td>\n",
       "      <td>0</td>\n",
       "      <td>28.97</td>\n",
       "      <td>2015</td>\n",
       "      <td>2</td>\n",
       "      <td>1</td>\n",
       "      <td>25.401918</td>\n",
       "      <td>3.568082</td>\n",
       "      <td>12.731211</td>\n",
       "    </tr>\n",
       "    <tr>\n",
       "      <th>2</th>\n",
       "      <td>2015-03-01</td>\n",
       "      <td>24.82</td>\n",
       "      <td>22.4</td>\n",
       "      <td>29.9</td>\n",
       "      <td>0.0</td>\n",
       "      <td>1</td>\n",
       "      <td>30.81</td>\n",
       "      <td>2015</td>\n",
       "      <td>3</td>\n",
       "      <td>1</td>\n",
       "      <td>25.401918</td>\n",
       "      <td>5.408082</td>\n",
       "      <td>29.247353</td>\n",
       "    </tr>\n",
       "    <tr>\n",
       "      <th>3</th>\n",
       "      <td>2015-04-01</td>\n",
       "      <td>23.98</td>\n",
       "      <td>21.5</td>\n",
       "      <td>28.6</td>\n",
       "      <td>1.2</td>\n",
       "      <td>1</td>\n",
       "      <td>29.80</td>\n",
       "      <td>2015</td>\n",
       "      <td>4</td>\n",
       "      <td>1</td>\n",
       "      <td>25.401918</td>\n",
       "      <td>4.398082</td>\n",
       "      <td>19.343127</td>\n",
       "    </tr>\n",
       "    <tr>\n",
       "      <th>4</th>\n",
       "      <td>2015-05-01</td>\n",
       "      <td>23.82</td>\n",
       "      <td>21.0</td>\n",
       "      <td>28.3</td>\n",
       "      <td>0.0</td>\n",
       "      <td>0</td>\n",
       "      <td>28.90</td>\n",
       "      <td>2015</td>\n",
       "      <td>5</td>\n",
       "      <td>1</td>\n",
       "      <td>25.401918</td>\n",
       "      <td>3.498082</td>\n",
       "      <td>12.236579</td>\n",
       "    </tr>\n",
       "  </tbody>\n",
       "</table>\n",
       "</div>"
      ],
      "text/plain": [
       "        data  media   min   max  precipitacao fds  consumo_cerveja   ano  mes  \\\n",
       "0 2015-01-01  27.30  23.9  32.5           0.0   0            25.46  2015    1   \n",
       "1 2015-02-01  27.02  24.5  33.5           0.0   0            28.97  2015    2   \n",
       "2 2015-03-01  24.82  22.4  29.9           0.0   1            30.81  2015    3   \n",
       "3 2015-04-01  23.98  21.5  28.6           1.2   1            29.80  2015    4   \n",
       "4 2015-05-01  23.82  21.0  28.3           0.0   0            28.90  2015    5   \n",
       "\n",
       "   dia  consumo_medio  distancia  quadrado_distancia  \n",
       "0    1      25.401918   0.058082            0.003374  \n",
       "1    1      25.401918   3.568082           12.731211  \n",
       "2    1      25.401918   5.408082           29.247353  \n",
       "3    1      25.401918   4.398082           19.343127  \n",
       "4    1      25.401918   3.498082           12.236579  "
      ]
     },
     "execution_count": 101,
     "metadata": {},
     "output_type": "execute_result"
    }
   ],
   "source": [
    "df.head()"
   ]
  },
  {
   "cell_type": "markdown",
   "metadata": {},
   "source": [
    "### Exercicio\n",
    "\n",
    "#### Calcular a media, mediana e desvio padrão do consumo de cerveja por mês\n"
   ]
  },
  {
   "cell_type": "markdown",
   "metadata": {},
   "source": [
    "### Observando a distribuição dos dados"
   ]
  },
  {
   "cell_type": "code",
   "execution_count": 146,
   "metadata": {},
   "outputs": [
    {
     "data": {
      "text/plain": [
       "<matplotlib.axes._subplots.AxesSubplot at 0x1b9c97956d8>"
      ]
     },
     "execution_count": 146,
     "metadata": {},
     "output_type": "execute_result"
    },
    {
     "data": {
      "image/png": "[encoded data removed]",
      "text/plain": [
       "<Figure size 432x288 with 1 Axes>"
      ]
     },
     "metadata": {
      "needs_background": "light"
     },
     "output_type": "display_data"
    }
   ],
   "source": [
    "df['consumo_cerveja'].plot.hist(bins = 30)"
   ]
  },
  {
   "cell_type": "code",
   "execution_count": 147,
   "metadata": {},
   "outputs": [
    {
     "data": {
      "text/plain": [
       "<matplotlib.axes._subplots.AxesSubplot at 0x1b9c98406d8>"
      ]
     },
     "execution_count": 147,
     "metadata": {},
     "output_type": "execute_result"
    },
    {
     "data": {
      "image/png": "[encoded data removed]",
      "text/plain": [
       "<Figure size 432x288 with 1 Axes>"
      ]
     },
     "metadata": {
      "needs_background": "light"
     },
     "output_type": "display_data"
    }
   ],
   "source": [
    "df['max'].plot.hist(bins = 30)"
   ]
  },
  {
   "cell_type": "code",
   "execution_count": 150,
   "metadata": {},
   "outputs": [
    {
     "data": {
      "text/plain": [
       "<matplotlib.axes._subplots.AxesSubplot at 0x1b9c98a25c0>"
      ]
     },
     "execution_count": 150,
     "metadata": {},
     "output_type": "execute_result"
    },
    {
     "data": {
      "image/png": "[encoded data removed]",
      "text/plain": [
       "<Figure size 432x288 with 1 Axes>"
      ]
     },
     "metadata": {
      "needs_background": "light"
     },
     "output_type": "display_data"
    }
   ],
   "source": [
    "df['fds'].astype('int64').plot.hist(bins = 30)"
   ]
  },
  {
   "cell_type": "markdown",
   "metadata": {},
   "source": [
    "### Exercicio\n",
    "\n",
    "#### Fazer a distribuição dos dados das outras variaveis e analisá-las."
   ]
  },
  {
   "cell_type": "code",
   "execution_count": null,
   "metadata": {},
   "outputs": [],
   "source": []
  },
  {
   "cell_type": "markdown",
   "metadata": {},
   "source": [
    "### Percentis"
   ]
  },
  {
   "cell_type": "code",
   "execution_count": 151,
   "metadata": {},
   "outputs": [
    {
     "data": {
      "text/plain": [
       "27.717999999999996"
      ]
     },
     "execution_count": 151,
     "metadata": {},
     "output_type": "execute_result"
    }
   ],
   "source": [
    "#Vamos verificar os valores dos percentis dos dados\n",
    "np.quantile(df['consumo_cerveja'], 0.70)"
   ]
  },
  {
   "cell_type": "code",
   "execution_count": 152,
   "metadata": {},
   "outputs": [
    {
     "data": {
      "text/plain": [
       "16.8844"
      ]
     },
     "execution_count": 152,
     "metadata": {},
     "output_type": "execute_result"
    }
   ],
   "source": [
    "#Vamos verificar os valores dos percentis dos dados\n",
    "np.quantile(df['consumo_cerveja'], 0.01)"
   ]
  },
  {
   "cell_type": "code",
   "execution_count": 153,
   "metadata": {},
   "outputs": [
    {
     "data": {
      "text/html": [
       "<div>\n",
       "<style scoped>\n",
       "    .dataframe tbody tr th:only-of-type {\n",
       "        vertical-align: middle;\n",
       "    }\n",
       "\n",
       "    .dataframe tbody tr th {\n",
       "        vertical-align: top;\n",
       "    }\n",
       "\n",
       "    .dataframe thead th {\n",
       "        text-align: right;\n",
       "    }\n",
       "</style>\n",
       "<table border=\"1\" class=\"dataframe\">\n",
       "  <thead>\n",
       "    <tr style=\"text-align: right;\">\n",
       "      <th></th>\n",
       "      <th>media</th>\n",
       "      <th>min</th>\n",
       "      <th>max</th>\n",
       "      <th>precipitacao</th>\n",
       "      <th>consumo_cerveja</th>\n",
       "      <th>ano</th>\n",
       "      <th>mes</th>\n",
       "      <th>dia</th>\n",
       "      <th>consumo_medio</th>\n",
       "      <th>distancia</th>\n",
       "      <th>quadrado_distancia</th>\n",
       "      <th>diadasemana</th>\n",
       "    </tr>\n",
       "  </thead>\n",
       "  <tbody>\n",
       "    <tr>\n",
       "      <th>count</th>\n",
       "      <td>365.000000</td>\n",
       "      <td>365.000000</td>\n",
       "      <td>365.000000</td>\n",
       "      <td>365.000000</td>\n",
       "      <td>365.000000</td>\n",
       "      <td>365.0</td>\n",
       "      <td>365.000000</td>\n",
       "      <td>365.000000</td>\n",
       "      <td>3.650000e+02</td>\n",
       "      <td>3.650000e+02</td>\n",
       "      <td>365.000000</td>\n",
       "      <td>365.0</td>\n",
       "    </tr>\n",
       "    <tr>\n",
       "      <th>mean</th>\n",
       "      <td>21.226356</td>\n",
       "      <td>17.461370</td>\n",
       "      <td>26.611507</td>\n",
       "      <td>5.196712</td>\n",
       "      <td>25.401918</td>\n",
       "      <td>2015.0</td>\n",
       "      <td>6.526027</td>\n",
       "      <td>15.720548</td>\n",
       "      <td>2.540192e+01</td>\n",
       "      <td>-3.533247e-15</td>\n",
       "      <td>19.298985</td>\n",
       "      <td>3.0</td>\n",
       "    </tr>\n",
       "    <tr>\n",
       "      <th>std</th>\n",
       "      <td>3.180108</td>\n",
       "      <td>2.826185</td>\n",
       "      <td>4.317366</td>\n",
       "      <td>12.417844</td>\n",
       "      <td>4.399091</td>\n",
       "      <td>0.0</td>\n",
       "      <td>3.452584</td>\n",
       "      <td>8.808321</td>\n",
       "      <td>5.692145e-14</td>\n",
       "      <td>4.399091e+00</td>\n",
       "      <td>24.387776</td>\n",
       "      <td>2.0</td>\n",
       "    </tr>\n",
       "    <tr>\n",
       "      <th>min</th>\n",
       "      <td>12.900000</td>\n",
       "      <td>10.600000</td>\n",
       "      <td>14.500000</td>\n",
       "      <td>0.000000</td>\n",
       "      <td>14.340000</td>\n",
       "      <td>2015.0</td>\n",
       "      <td>1.000000</td>\n",
       "      <td>1.000000</td>\n",
       "      <td>2.540192e+01</td>\n",
       "      <td>-1.106192e+01</td>\n",
       "      <td>0.001019</td>\n",
       "      <td>0.0</td>\n",
       "    </tr>\n",
       "    <tr>\n",
       "      <th>25%</th>\n",
       "      <td>19.020000</td>\n",
       "      <td>15.300000</td>\n",
       "      <td>23.800000</td>\n",
       "      <td>0.000000</td>\n",
       "      <td>22.010000</td>\n",
       "      <td>2015.0</td>\n",
       "      <td>4.000000</td>\n",
       "      <td>8.000000</td>\n",
       "      <td>2.540192e+01</td>\n",
       "      <td>-3.391918e+00</td>\n",
       "      <td>2.096942</td>\n",
       "      <td>1.0</td>\n",
       "    </tr>\n",
       "    <tr>\n",
       "      <th>50%</th>\n",
       "      <td>21.380000</td>\n",
       "      <td>17.900000</td>\n",
       "      <td>26.900000</td>\n",
       "      <td>0.000000</td>\n",
       "      <td>24.870000</td>\n",
       "      <td>2015.0</td>\n",
       "      <td>7.000000</td>\n",
       "      <td>16.000000</td>\n",
       "      <td>2.540192e+01</td>\n",
       "      <td>-5.319178e-01</td>\n",
       "      <td>11.209654</td>\n",
       "      <td>3.0</td>\n",
       "    </tr>\n",
       "    <tr>\n",
       "      <th>75%</th>\n",
       "      <td>23.280000</td>\n",
       "      <td>19.600000</td>\n",
       "      <td>29.400000</td>\n",
       "      <td>3.200000</td>\n",
       "      <td>28.630000</td>\n",
       "      <td>2015.0</td>\n",
       "      <td>10.000000</td>\n",
       "      <td>23.000000</td>\n",
       "      <td>2.540192e+01</td>\n",
       "      <td>3.228082e+00</td>\n",
       "      <td>25.786919</td>\n",
       "      <td>5.0</td>\n",
       "    </tr>\n",
       "    <tr>\n",
       "      <th>max</th>\n",
       "      <td>28.860000</td>\n",
       "      <td>24.500000</td>\n",
       "      <td>36.500000</td>\n",
       "      <td>94.800000</td>\n",
       "      <td>37.940000</td>\n",
       "      <td>2015.0</td>\n",
       "      <td>12.000000</td>\n",
       "      <td>31.000000</td>\n",
       "      <td>2.540192e+01</td>\n",
       "      <td>1.253808e+01</td>\n",
       "      <td>157.203505</td>\n",
       "      <td>6.0</td>\n",
       "    </tr>\n",
       "  </tbody>\n",
       "</table>\n",
       "</div>"
      ],
      "text/plain": [
       "            media         min         max  precipitacao  consumo_cerveja  \\\n",
       "count  365.000000  365.000000  365.000000    365.000000       365.000000   \n",
       "mean    21.226356   17.461370   26.611507      5.196712        25.401918   \n",
       "std      3.180108    2.826185    4.317366     12.417844         4.399091   \n",
       "min     12.900000   10.600000   14.500000      0.000000        14.340000   \n",
       "25%     19.020000   15.300000   23.800000      0.000000        22.010000   \n",
       "50%     21.380000   17.900000   26.900000      0.000000        24.870000   \n",
       "75%     23.280000   19.600000   29.400000      3.200000        28.630000   \n",
       "max     28.860000   24.500000   36.500000     94.800000        37.940000   \n",
       "\n",
       "          ano         mes         dia  consumo_medio     distancia  \\\n",
       "count   365.0  365.000000  365.000000   3.650000e+02  3.650000e+02   \n",
       "mean   2015.0    6.526027   15.720548   2.540192e+01 -3.533247e-15   \n",
       "std       0.0    3.452584    8.808321   5.692145e-14  4.399091e+00   \n",
       "min    2015.0    1.000000    1.000000   2.540192e+01 -1.106192e+01   \n",
       "25%    2015.0    4.000000    8.000000   2.540192e+01 -3.391918e+00   \n",
       "50%    2015.0    7.000000   16.000000   2.540192e+01 -5.319178e-01   \n",
       "75%    2015.0   10.000000   23.000000   2.540192e+01  3.228082e+00   \n",
       "max    2015.0   12.000000   31.000000   2.540192e+01  1.253808e+01   \n",
       "\n",
       "       quadrado_distancia  diadasemana  \n",
       "count          365.000000        365.0  \n",
       "mean            19.298985          3.0  \n",
       "std             24.387776          2.0  \n",
       "min              0.001019          0.0  \n",
       "25%              2.096942          1.0  \n",
       "50%             11.209654          3.0  \n",
       "75%             25.786919          5.0  \n",
       "max            157.203505          6.0  "
      ]
     },
     "execution_count": 153,
     "metadata": {},
     "output_type": "execute_result"
    }
   ],
   "source": [
    "#Visualização dos dados usando o describe\n",
    "df.describe()"
   ]
  },
  {
   "cell_type": "code",
   "execution_count": 154,
   "metadata": {},
   "outputs": [
    {
     "data": {
      "text/plain": [
       "media                 -0.414111\n",
       "min                   -0.569543\n",
       "max                   -0.290332\n",
       "precipitacao          17.808397\n",
       "consumo_cerveja       -0.396501\n",
       "ano                    0.000000\n",
       "mes                   -1.207131\n",
       "dia                   -1.193042\n",
       "consumo_medio          0.000000\n",
       "distancia             -0.396501\n",
       "quadrado_distancia     7.107508\n",
       "diadasemana           -1.245799\n",
       "dtype: float64"
      ]
     },
     "execution_count": 154,
     "metadata": {},
     "output_type": "execute_result"
    }
   ],
   "source": [
    "df.kurtosis()"
   ]
  },
  {
   "cell_type": "code",
   "execution_count": 156,
   "metadata": {},
   "outputs": [
    {
     "data": {
      "text/plain": [
       "media                -0.049255\n",
       "min                  -0.225035\n",
       "max                  -0.155435\n",
       "precipitacao          3.780119\n",
       "consumo_cerveja       0.270375\n",
       "ano                   0.000000\n",
       "mes                  -0.010500\n",
       "dia                   0.007552\n",
       "consumo_medio         0.000000\n",
       "distancia             0.270375\n",
       "quadrado_distancia    2.338906\n",
       "diadasemana           0.000000\n",
       "dtype: float64"
      ]
     },
     "execution_count": 156,
     "metadata": {},
     "output_type": "execute_result"
    }
   ],
   "source": [
    "df.skew()"
   ]
  },
  {
   "cell_type": "code",
   "execution_count": null,
   "metadata": {},
   "outputs": [],
   "source": []
  },
  {
   "cell_type": "markdown",
   "metadata": {},
   "source": [
    "### Visualização dos dados"
   ]
  },
  {
   "cell_type": "markdown",
   "metadata": {},
   "source": [
    "#### Hipotese: O final de semana interfere no consumo de cerveja?"
   ]
  },
  {
   "cell_type": "code",
   "execution_count": 106,
   "metadata": {},
   "outputs": [
    {
     "data": {
      "text/plain": [
       "0    261\n",
       "1    104\n",
       "Name: fds, dtype: int64"
      ]
     },
     "execution_count": 106,
     "metadata": {},
     "output_type": "execute_result"
    }
   ],
   "source": [
    "# Para validar esta hipotese vamos verificar primeiro quantos dias de final de semana temos na base\n",
    "# para isso vamos usar a função value counts\n",
    "df.fds.value_counts()"
   ]
  },
  {
   "cell_type": "code",
   "execution_count": 110,
   "metadata": {},
   "outputs": [
    {
     "data": {
      "text/html": [
       "<div>\n",
       "<style scoped>\n",
       "    .dataframe tbody tr th:only-of-type {\n",
       "        vertical-align: middle;\n",
       "    }\n",
       "\n",
       "    .dataframe tbody tr th {\n",
       "        vertical-align: top;\n",
       "    }\n",
       "\n",
       "    .dataframe thead th {\n",
       "        text-align: right;\n",
       "    }\n",
       "</style>\n",
       "<table border=\"1\" class=\"dataframe\">\n",
       "  <thead>\n",
       "    <tr style=\"text-align: right;\">\n",
       "      <th></th>\n",
       "      <th>consumo_cerveja</th>\n",
       "    </tr>\n",
       "    <tr>\n",
       "      <th>fds</th>\n",
       "      <th></th>\n",
       "    </tr>\n",
       "  </thead>\n",
       "  <tbody>\n",
       "    <tr>\n",
       "      <th>0</th>\n",
       "      <td>23.998736</td>\n",
       "    </tr>\n",
       "    <tr>\n",
       "      <th>1</th>\n",
       "      <td>28.923365</td>\n",
       "    </tr>\n",
       "  </tbody>\n",
       "</table>\n",
       "</div>"
      ],
      "text/plain": [
       "     consumo_cerveja\n",
       "fds                 \n",
       "0          23.998736\n",
       "1          28.923365"
      ]
     },
     "execution_count": 110,
     "metadata": {},
     "output_type": "execute_result"
    }
   ],
   "source": [
    "#vamos ver estatisticas sobre o consumo de cerveja em dias de semana e aos fins de semana\n",
    "#para isso vamos usar a função groupby\n",
    "df.groupby('fds')[['consumo_cerveja']].mean()"
   ]
  },
  {
   "cell_type": "code",
   "execution_count": 111,
   "metadata": {},
   "outputs": [
    {
     "data": {
      "text/html": [
       "<div>\n",
       "<style scoped>\n",
       "    .dataframe tbody tr th:only-of-type {\n",
       "        vertical-align: middle;\n",
       "    }\n",
       "\n",
       "    .dataframe tbody tr th {\n",
       "        vertical-align: top;\n",
       "    }\n",
       "\n",
       "    .dataframe thead th {\n",
       "        text-align: right;\n",
       "    }\n",
       "</style>\n",
       "<table border=\"1\" class=\"dataframe\">\n",
       "  <thead>\n",
       "    <tr style=\"text-align: right;\">\n",
       "      <th></th>\n",
       "      <th>consumo_cerveja</th>\n",
       "    </tr>\n",
       "    <tr>\n",
       "      <th>fds</th>\n",
       "      <th></th>\n",
       "    </tr>\n",
       "  </thead>\n",
       "  <tbody>\n",
       "    <tr>\n",
       "      <th>0</th>\n",
       "      <td>23.610</td>\n",
       "    </tr>\n",
       "    <tr>\n",
       "      <th>1</th>\n",
       "      <td>29.485</td>\n",
       "    </tr>\n",
       "  </tbody>\n",
       "</table>\n",
       "</div>"
      ],
      "text/plain": [
       "     consumo_cerveja\n",
       "fds                 \n",
       "0             23.610\n",
       "1             29.485"
      ]
     },
     "execution_count": 111,
     "metadata": {},
     "output_type": "execute_result"
    }
   ],
   "source": [
    "#vamos ver estatisticas sobre o consumo de cerveja em dias de semana e aos fins de semana\n",
    "#para isso vamos usar a função groupby\n",
    "df.groupby('fds')[['consumo_cerveja']].median()"
   ]
  },
  {
   "cell_type": "code",
   "execution_count": 113,
   "metadata": {},
   "outputs": [
    {
     "data": {
      "text/plain": [
       "<matplotlib.axes._subplots.AxesSubplot at 0x1b9c6c7c908>"
      ]
     },
     "execution_count": 113,
     "metadata": {},
     "output_type": "execute_result"
    },
    {
     "data": {
      "image/png": "[encoded data removed]",
      "text/plain": [
       "<Figure size 432x288 with 1 Axes>"
      ]
     },
     "metadata": {
      "needs_background": "light"
     },
     "output_type": "display_data"
    }
   ],
   "source": [
    "#Vamos plotar o boxplot do consumo de cerevja aos dias de semana e aos finais de semana\n",
    "sns.boxplot(x = 'fds', y = 'consumo_cerveja', data = df)"
   ]
  },
  {
   "cell_type": "code",
   "execution_count": 121,
   "metadata": {},
   "outputs": [
    {
     "data": {
      "text/plain": [
       "<matplotlib.axes._subplots.AxesSubplot at 0x1b9c7917b00>"
      ]
     },
     "execution_count": 121,
     "metadata": {},
     "output_type": "execute_result"
    },
    {
     "data": {
      "image/png": "[encoded data removed]",
      "text/plain": [
       "<Figure size 432x288 with 1 Axes>"
      ]
     },
     "metadata": {
      "needs_background": "light"
     },
     "output_type": "display_data"
    }
   ],
   "source": [
    "#Vamos plotar os histogramas do consumo de cerveja\n",
    "df[df['fds'] == 1]['consumo_cerveja'].plot(kind = 'hist')\n",
    "df[df['fds'] == 0]['consumo_cerveja'].plot(kind = 'hist',alpha = 0.5)"
   ]
  },
  {
   "cell_type": "markdown",
   "metadata": {},
   "source": [
    "#### Hipotese: Dias quentes (temperatura maxima acima de 29º) influenciam o consumo de cerveja?"
   ]
  },
  {
   "cell_type": "code",
   "execution_count": 124,
   "metadata": {},
   "outputs": [],
   "source": [
    "## Primeiro vamos criar as labels que nos dirão se o dia está quente ou não\n",
    "df['labels'] = ['dia_quente' if x > 29 else 'dia_medio' for x in df['max']]"
   ]
  },
  {
   "cell_type": "code",
   "execution_count": 126,
   "metadata": {},
   "outputs": [
    {
     "data": {
      "text/plain": [
       "dia_medio     261\n",
       "dia_quente    104\n",
       "Name: labels, dtype: int64"
      ]
     },
     "execution_count": 126,
     "metadata": {},
     "output_type": "execute_result"
    }
   ],
   "source": [
    "df['labels'].value_counts()"
   ]
  },
  {
   "cell_type": "code",
   "execution_count": 127,
   "metadata": {},
   "outputs": [
    {
     "data": {
      "text/html": [
       "<div>\n",
       "<style scoped>\n",
       "    .dataframe tbody tr th:only-of-type {\n",
       "        vertical-align: middle;\n",
       "    }\n",
       "\n",
       "    .dataframe tbody tr th {\n",
       "        vertical-align: top;\n",
       "    }\n",
       "\n",
       "    .dataframe thead th {\n",
       "        text-align: right;\n",
       "    }\n",
       "</style>\n",
       "<table border=\"1\" class=\"dataframe\">\n",
       "  <thead>\n",
       "    <tr style=\"text-align: right;\">\n",
       "      <th></th>\n",
       "      <th>consumo_cerveja</th>\n",
       "    </tr>\n",
       "    <tr>\n",
       "      <th>labels</th>\n",
       "      <th></th>\n",
       "    </tr>\n",
       "  </thead>\n",
       "  <tbody>\n",
       "    <tr>\n",
       "      <th>dia_medio</th>\n",
       "      <td>24.040996</td>\n",
       "    </tr>\n",
       "    <tr>\n",
       "      <th>dia_quente</th>\n",
       "      <td>28.817308</td>\n",
       "    </tr>\n",
       "  </tbody>\n",
       "</table>\n",
       "</div>"
      ],
      "text/plain": [
       "            consumo_cerveja\n",
       "labels                     \n",
       "dia_medio         24.040996\n",
       "dia_quente        28.817308"
      ]
     },
     "execution_count": 127,
     "metadata": {},
     "output_type": "execute_result"
    }
   ],
   "source": [
    "df.groupby('labels')[['consumo_cerveja']].mean()"
   ]
  },
  {
   "cell_type": "code",
   "execution_count": 128,
   "metadata": {},
   "outputs": [
    {
     "data": {
      "text/html": [
       "<div>\n",
       "<style scoped>\n",
       "    .dataframe tbody tr th:only-of-type {\n",
       "        vertical-align: middle;\n",
       "    }\n",
       "\n",
       "    .dataframe tbody tr th {\n",
       "        vertical-align: top;\n",
       "    }\n",
       "\n",
       "    .dataframe thead th {\n",
       "        text-align: right;\n",
       "    }\n",
       "</style>\n",
       "<table border=\"1\" class=\"dataframe\">\n",
       "  <thead>\n",
       "    <tr style=\"text-align: right;\">\n",
       "      <th></th>\n",
       "      <th>consumo_cerveja</th>\n",
       "    </tr>\n",
       "    <tr>\n",
       "      <th>labels</th>\n",
       "      <th></th>\n",
       "    </tr>\n",
       "  </thead>\n",
       "  <tbody>\n",
       "    <tr>\n",
       "      <th>dia_medio</th>\n",
       "      <td>23.54</td>\n",
       "    </tr>\n",
       "    <tr>\n",
       "      <th>dia_quente</th>\n",
       "      <td>28.86</td>\n",
       "    </tr>\n",
       "  </tbody>\n",
       "</table>\n",
       "</div>"
      ],
      "text/plain": [
       "            consumo_cerveja\n",
       "labels                     \n",
       "dia_medio             23.54\n",
       "dia_quente            28.86"
      ]
     },
     "execution_count": 128,
     "metadata": {},
     "output_type": "execute_result"
    }
   ],
   "source": [
    "df.groupby('labels')[['consumo_cerveja']].median()    "
   ]
  },
  {
   "cell_type": "code",
   "execution_count": 129,
   "metadata": {},
   "outputs": [
    {
     "data": {
      "text/plain": [
       "<matplotlib.axes._subplots.AxesSubplot at 0x1b9c79afcc0>"
      ]
     },
     "execution_count": 129,
     "metadata": {},
     "output_type": "execute_result"
    },
    {
     "data": {
      "image/png": "[encoded data removed]",
      "text/plain": [
       "<Figure size 432x288 with 1 Axes>"
      ]
     },
     "metadata": {
      "needs_background": "light"
     },
     "output_type": "display_data"
    }
   ],
   "source": [
    "sns.boxplot(x = 'labels', y = 'consumo_cerveja', data = df)"
   ]
  },
  {
   "cell_type": "code",
   "execution_count": 132,
   "metadata": {},
   "outputs": [
    {
     "data": {
      "text/plain": [
       "<matplotlib.axes._subplots.AxesSubplot at 0x1b9c8afe4e0>"
      ]
     },
     "execution_count": 132,
     "metadata": {},
     "output_type": "execute_result"
    },
    {
     "data": {
      "image/png": "[encoded data removed]",
      "text/plain": [
       "<Figure size 432x288 with 1 Axes>"
      ]
     },
     "metadata": {
      "needs_background": "light"
     },
     "output_type": "display_data"
    }
   ],
   "source": [
    "df[df['labels'] == 'dia_quente']['consumo_cerveja'].plot(kind= 'hist')\n",
    "df[df['labels'] == 'dia_medio']['consumo_cerveja'].plot(kind= 'hist', alpha = 0.5)"
   ]
  },
  {
   "cell_type": "markdown",
   "metadata": {},
   "source": [
    "### Hipotese: Um final de semana quente aumenta o consumo de cerveja ?"
   ]
  },
  {
   "cell_type": "code",
   "execution_count": 133,
   "metadata": {},
   "outputs": [
    {
     "data": {
      "text/plain": [
       "<matplotlib.axes._subplots.AxesSubplot at 0x1b9c8b81c50>"
      ]
     },
     "execution_count": 133,
     "metadata": {},
     "output_type": "execute_result"
    },
    {
     "data": {
      "image/png": "[encoded data removed]",
      "text/plain": [
       "<Figure size 432x288 with 1 Axes>"
      ]
     },
     "metadata": {
      "needs_background": "light"
     },
     "output_type": "display_data"
    }
   ],
   "source": [
    "sns.boxplot(x = 'fds', y = 'consumo_cerveja', data = df, hue = 'labels' )"
   ]
  },
  {
   "cell_type": "markdown",
   "metadata": {},
   "source": [
    "### Hipotese: qual dia de semana interfere mais no consumo de cerveja?"
   ]
  },
  {
   "cell_type": "code",
   "execution_count": 134,
   "metadata": {},
   "outputs": [],
   "source": [
    "#Vamos criar a variavel dia da semana\n",
    "df['diadasemana'] = df['data'].dt.dayofweek"
   ]
  },
  {
   "cell_type": "code",
   "execution_count": 138,
   "metadata": {},
   "outputs": [
    {
     "data": {
      "text/plain": [
       "<matplotlib.axes._subplots.AxesSubplot at 0x1b9c911e588>"
      ]
     },
     "execution_count": 138,
     "metadata": {},
     "output_type": "execute_result"
    },
    {
     "data": {
      "image/png": "[encoded data removed]",
      "text/plain": [
       "<Figure size 432x288 with 1 Axes>"
      ]
     },
     "metadata": {
      "needs_background": "light"
     },
     "output_type": "display_data"
    }
   ],
   "source": [
    "#Vamos criar o boxplot do dia da semana pelo consumo de cerveja\n",
    "sns.boxplot(x = 'diadasemana', y= 'consumo_cerveja', data = df)"
   ]
  },
  {
   "cell_type": "code",
   "execution_count": 139,
   "metadata": {},
   "outputs": [
    {
     "data": {
      "text/plain": [
       "<matplotlib.axes._subplots.AxesSubplot at 0x1b9c93115c0>"
      ]
     },
     "execution_count": 139,
     "metadata": {},
     "output_type": "execute_result"
    },
    {
     "data": {
      "image/png": "[encoded data removed]",
      "text/plain": [
       "<Figure size 432x288 with 1 Axes>"
      ]
     },
     "metadata": {
      "needs_background": "light"
     },
     "output_type": "display_data"
    }
   ],
   "source": [
    "#Vamos adicionar o variavel dia quente para ver se este interefe no consumo de cerveja\n",
    "sns.boxplot(x = 'diadasemana', y= 'consumo_cerveja', data = df, hue = 'labels')"
   ]
  },
  {
   "cell_type": "markdown",
   "metadata": {},
   "source": [
    "### Criando a variavel periodo mes e vendo se interefe no consumo de cerveja"
   ]
  },
  {
   "cell_type": "code",
   "execution_count": 135,
   "metadata": {},
   "outputs": [],
   "source": [
    "df['periodo_mes'] = ['inicio_mes' if x < 15 else 'final_mes' for x in df['dia']]"
   ]
  },
  {
   "cell_type": "code",
   "execution_count": 17,
   "metadata": {},
   "outputs": [
    {
     "data": {
      "text/html": [
       "<div>\n",
       "<style scoped>\n",
       "    .dataframe tbody tr th:only-of-type {\n",
       "        vertical-align: middle;\n",
       "    }\n",
       "\n",
       "    .dataframe tbody tr th {\n",
       "        vertical-align: top;\n",
       "    }\n",
       "\n",
       "    .dataframe thead th {\n",
       "        text-align: right;\n",
       "    }\n",
       "</style>\n",
       "<table border=\"1\" class=\"dataframe\">\n",
       "  <thead>\n",
       "    <tr style=\"text-align: right;\">\n",
       "      <th></th>\n",
       "      <th>data</th>\n",
       "      <th>media</th>\n",
       "      <th>min</th>\n",
       "      <th>max</th>\n",
       "      <th>precipitacao</th>\n",
       "      <th>fds</th>\n",
       "      <th>consumo_cerveja</th>\n",
       "      <th>ano</th>\n",
       "      <th>mes</th>\n",
       "      <th>dia</th>\n",
       "      <th>periodo_mes</th>\n",
       "    </tr>\n",
       "  </thead>\n",
       "  <tbody>\n",
       "    <tr>\n",
       "      <th>0</th>\n",
       "      <td>2015-01-01</td>\n",
       "      <td>27.30</td>\n",
       "      <td>23.9</td>\n",
       "      <td>32.5</td>\n",
       "      <td>0.0</td>\n",
       "      <td>0</td>\n",
       "      <td>25.46</td>\n",
       "      <td>2015</td>\n",
       "      <td>1</td>\n",
       "      <td>1</td>\n",
       "      <td>inicio_mes</td>\n",
       "    </tr>\n",
       "    <tr>\n",
       "      <th>1</th>\n",
       "      <td>2015-02-01</td>\n",
       "      <td>27.02</td>\n",
       "      <td>24.5</td>\n",
       "      <td>33.5</td>\n",
       "      <td>0.0</td>\n",
       "      <td>0</td>\n",
       "      <td>28.97</td>\n",
       "      <td>2015</td>\n",
       "      <td>2</td>\n",
       "      <td>1</td>\n",
       "      <td>inicio_mes</td>\n",
       "    </tr>\n",
       "    <tr>\n",
       "      <th>2</th>\n",
       "      <td>2015-03-01</td>\n",
       "      <td>24.82</td>\n",
       "      <td>22.4</td>\n",
       "      <td>29.9</td>\n",
       "      <td>0.0</td>\n",
       "      <td>1</td>\n",
       "      <td>30.81</td>\n",
       "      <td>2015</td>\n",
       "      <td>3</td>\n",
       "      <td>1</td>\n",
       "      <td>inicio_mes</td>\n",
       "    </tr>\n",
       "    <tr>\n",
       "      <th>3</th>\n",
       "      <td>2015-04-01</td>\n",
       "      <td>23.98</td>\n",
       "      <td>21.5</td>\n",
       "      <td>28.6</td>\n",
       "      <td>1.2</td>\n",
       "      <td>1</td>\n",
       "      <td>29.80</td>\n",
       "      <td>2015</td>\n",
       "      <td>4</td>\n",
       "      <td>1</td>\n",
       "      <td>inicio_mes</td>\n",
       "    </tr>\n",
       "    <tr>\n",
       "      <th>4</th>\n",
       "      <td>2015-05-01</td>\n",
       "      <td>23.82</td>\n",
       "      <td>21.0</td>\n",
       "      <td>28.3</td>\n",
       "      <td>0.0</td>\n",
       "      <td>0</td>\n",
       "      <td>28.90</td>\n",
       "      <td>2015</td>\n",
       "      <td>5</td>\n",
       "      <td>1</td>\n",
       "      <td>inicio_mes</td>\n",
       "    </tr>\n",
       "  </tbody>\n",
       "</table>\n",
       "</div>"
      ],
      "text/plain": [
       "        data  media   min   max  precipitacao fds  consumo_cerveja   ano  mes  \\\n",
       "0 2015-01-01  27.30  23.9  32.5           0.0   0            25.46  2015    1   \n",
       "1 2015-02-01  27.02  24.5  33.5           0.0   0            28.97  2015    2   \n",
       "2 2015-03-01  24.82  22.4  29.9           0.0   1            30.81  2015    3   \n",
       "3 2015-04-01  23.98  21.5  28.6           1.2   1            29.80  2015    4   \n",
       "4 2015-05-01  23.82  21.0  28.3           0.0   0            28.90  2015    5   \n",
       "\n",
       "   dia periodo_mes  \n",
       "0    1  inicio_mes  \n",
       "1    1  inicio_mes  \n",
       "2    1  inicio_mes  \n",
       "3    1  inicio_mes  \n",
       "4    1  inicio_mes  "
      ]
     },
     "execution_count": 17,
     "metadata": {},
     "output_type": "execute_result"
    }
   ],
   "source": [
    "df.head()"
   ]
  },
  {
   "cell_type": "code",
   "execution_count": 18,
   "metadata": {},
   "outputs": [
    {
     "data": {
      "text/plain": [
       "<matplotlib.axes._subplots.AxesSubplot at 0x24b85864e48>"
      ]
     },
     "execution_count": 18,
     "metadata": {},
     "output_type": "execute_result"
    },
    {
     "data": {
      "image/png": "[encoded data removed]",
      "text/plain": [
       "<Figure size 432x288 with 1 Axes>"
      ]
     },
     "metadata": {
      "needs_background": "light"
     },
     "output_type": "display_data"
    }
   ],
   "source": [
    "sns.boxplot(x = 'periodo_mes', y = 'consumo_cerveja', data = df)"
   ]
  },
  {
   "cell_type": "code",
   "execution_count": 19,
   "metadata": {},
   "outputs": [
    {
     "data": {
      "text/html": [
       "<div>\n",
       "<style scoped>\n",
       "    .dataframe tbody tr th:only-of-type {\n",
       "        vertical-align: middle;\n",
       "    }\n",
       "\n",
       "    .dataframe tbody tr th {\n",
       "        vertical-align: top;\n",
       "    }\n",
       "\n",
       "    .dataframe thead th {\n",
       "        text-align: right;\n",
       "    }\n",
       "</style>\n",
       "<table border=\"1\" class=\"dataframe\">\n",
       "  <thead>\n",
       "    <tr style=\"text-align: right;\">\n",
       "      <th></th>\n",
       "      <th>consumo_cerveja</th>\n",
       "    </tr>\n",
       "    <tr>\n",
       "      <th>periodo_mes</th>\n",
       "      <th></th>\n",
       "    </tr>\n",
       "  </thead>\n",
       "  <tbody>\n",
       "    <tr>\n",
       "      <th>final_mes</th>\n",
       "      <td>25.520711</td>\n",
       "    </tr>\n",
       "    <tr>\n",
       "      <th>inicio_mes</th>\n",
       "      <td>25.262619</td>\n",
       "    </tr>\n",
       "  </tbody>\n",
       "</table>\n",
       "</div>"
      ],
      "text/plain": [
       "             consumo_cerveja\n",
       "periodo_mes                 \n",
       "final_mes          25.520711\n",
       "inicio_mes         25.262619"
      ]
     },
     "execution_count": 19,
     "metadata": {},
     "output_type": "execute_result"
    }
   ],
   "source": [
    "df.groupby('periodo_mes')[['consumo_cerveja']].mean()"
   ]
  },
  {
   "cell_type": "markdown",
   "metadata": {},
   "source": [
    "### Criando a variavel binaria para chuva"
   ]
  },
  {
   "cell_type": "code",
   "execution_count": 20,
   "metadata": {},
   "outputs": [
    {
     "data": {
      "text/plain": [
       "Index(['data', 'media', 'min', 'max', 'precipitacao', 'fds', 'consumo_cerveja',\n",
       "       'ano', 'mes', 'dia', 'periodo_mes'],\n",
       "      dtype='object')"
      ]
     },
     "execution_count": 20,
     "metadata": {},
     "output_type": "execute_result"
    }
   ],
   "source": [
    "df.columns"
   ]
  },
  {
   "cell_type": "code",
   "execution_count": 136,
   "metadata": {},
   "outputs": [],
   "source": [
    "df['chuva'] = ['chuveu' if x > 0 else 'nao_choveu' for x in df['precipitacao']]"
   ]
  },
  {
   "cell_type": "code",
   "execution_count": 24,
   "metadata": {},
   "outputs": [
    {
     "data": {
      "text/plain": [
       "<matplotlib.axes._subplots.AxesSubplot at 0x24b858e8128>"
      ]
     },
     "execution_count": 24,
     "metadata": {},
     "output_type": "execute_result"
    },
    {
     "data": {
      "image/png": "[encoded data removed]",
      "text/plain": [
       "<Figure size 432x288 with 1 Axes>"
      ]
     },
     "metadata": {
      "needs_background": "light"
     },
     "output_type": "display_data"
    }
   ],
   "source": [
    "sns.boxplot(x = 'chuva', y = 'consumo_cerveja', data = df)"
   ]
  },
  {
   "cell_type": "code",
   "execution_count": 38,
   "metadata": {},
   "outputs": [
    {
     "data": {
      "text/plain": [
       "<matplotlib.axes._subplots.AxesSubplot at 0x24b85c5a4e0>"
      ]
     },
     "execution_count": 38,
     "metadata": {},
     "output_type": "execute_result"
    },
    {
     "data": {
      "image/png": "[encoded data removed]",
      "text/plain": [
       "<Figure size 432x288 with 1 Axes>"
      ]
     },
     "metadata": {
      "needs_background": "light"
     },
     "output_type": "display_data"
    }
   ],
   "source": [
    "sns.boxplot(x = 'chuva', y= 'consumo_cerveja', data= df, hue = 'fds')"
   ]
  },
  {
   "cell_type": "code",
   "execution_count": 40,
   "metadata": {},
   "outputs": [
    {
     "data": {
      "text/plain": [
       "<matplotlib.axes._subplots.AxesSubplot at 0x24b85ced630>"
      ]
     },
     "execution_count": 40,
     "metadata": {},
     "output_type": "execute_result"
    },
    {
     "data": {
      "image/png": "[encoded data removed]",
      "text/plain": [
       "<Figure size 432x288 with 1 Axes>"
      ]
     },
     "metadata": {
      "needs_background": "light"
     },
     "output_type": "display_data"
    }
   ],
   "source": [
    "sns.boxplot(x = 'chuva', y= 'consumo_cerveja', data= df, hue = 'diadasemana')"
   ]
  },
  {
   "cell_type": "code",
   "execution_count": 25,
   "metadata": {},
   "outputs": [
    {
     "data": {
      "text/plain": [
       "nao_choveu    218\n",
       "chuveu        147\n",
       "Name: chuva, dtype: int64"
      ]
     },
     "execution_count": 25,
     "metadata": {},
     "output_type": "execute_result"
    }
   ],
   "source": [
    "df['chuva'].value_counts()"
   ]
  },
  {
   "cell_type": "code",
   "execution_count": 27,
   "metadata": {},
   "outputs": [
    {
     "data": {
      "text/plain": [
       "count    365.000000\n",
       "mean       5.196712\n",
       "std       12.417844\n",
       "min        0.000000\n",
       "25%        0.000000\n",
       "50%        0.000000\n",
       "75%        3.200000\n",
       "max       94.800000\n",
       "Name: precipitacao, dtype: float64"
      ]
     },
     "execution_count": 27,
     "metadata": {},
     "output_type": "execute_result"
    }
   ],
   "source": [
    "df['precipitacao'].describe()"
   ]
  },
  {
   "cell_type": "code",
   "execution_count": 28,
   "metadata": {},
   "outputs": [
    {
     "data": {
      "text/plain": [
       "<matplotlib.axes._subplots.AxesSubplot at 0x24b8599f128>"
      ]
     },
     "execution_count": 28,
     "metadata": {},
     "output_type": "execute_result"
    },
    {
     "data": {
      "image/png": "[encoded data removed]",
      "text/plain": [
       "<Figure size 432x288 with 1 Axes>"
      ]
     },
     "metadata": {
      "needs_background": "light"
     },
     "output_type": "display_data"
    }
   ],
   "source": [
    "df['precipitacao'].plot.hist()"
   ]
  },
  {
   "cell_type": "code",
   "execution_count": 137,
   "metadata": {},
   "outputs": [],
   "source": [
    "df['grande_chuva'] = ['chuveu_muito' if x > 10 else 'nao_chuveu_muito' for x in df['precipitacao']]"
   ]
  },
  {
   "cell_type": "code",
   "execution_count": 31,
   "metadata": {},
   "outputs": [
    {
     "data": {
      "text/plain": [
       "nao_chuveu_muito    306\n",
       "chuveu_muito         59\n",
       "Name: grande_chuva, dtype: int64"
      ]
     },
     "execution_count": 31,
     "metadata": {},
     "output_type": "execute_result"
    }
   ],
   "source": [
    "df['grande_chuva'].value_counts()"
   ]
  },
  {
   "cell_type": "code",
   "execution_count": 34,
   "metadata": {},
   "outputs": [
    {
     "data": {
      "text/plain": [
       "<matplotlib.axes._subplots.AxesSubplot at 0x24b85b886a0>"
      ]
     },
     "execution_count": 34,
     "metadata": {},
     "output_type": "execute_result"
    },
    {
     "data": {
      "image/png": "[encoded data removed]",
      "text/plain": [
       "<Figure size 432x288 with 1 Axes>"
      ]
     },
     "metadata": {
      "needs_background": "light"
     },
     "output_type": "display_data"
    }
   ],
   "source": [
    "t1 = df[df['chuva'] == 'chuveu']\n",
    "sns.boxplot(x = 'grande_chuva', y = 'consumo_cerveja', data = t1)"
   ]
  },
  {
   "cell_type": "code",
   "execution_count": 36,
   "metadata": {},
   "outputs": [
    {
     "data": {
      "text/html": [
       "<div>\n",
       "<style scoped>\n",
       "    .dataframe tbody tr th:only-of-type {\n",
       "        vertical-align: middle;\n",
       "    }\n",
       "\n",
       "    .dataframe tbody tr th {\n",
       "        vertical-align: top;\n",
       "    }\n",
       "\n",
       "    .dataframe thead th {\n",
       "        text-align: right;\n",
       "    }\n",
       "</style>\n",
       "<table border=\"1\" class=\"dataframe\">\n",
       "  <thead>\n",
       "    <tr style=\"text-align: right;\">\n",
       "      <th></th>\n",
       "      <th>consumo_cerveja</th>\n",
       "    </tr>\n",
       "    <tr>\n",
       "      <th>grande_chuva</th>\n",
       "      <th></th>\n",
       "    </tr>\n",
       "  </thead>\n",
       "  <tbody>\n",
       "    <tr>\n",
       "      <th>chuveu_muito</th>\n",
       "      <td>24.008136</td>\n",
       "    </tr>\n",
       "    <tr>\n",
       "      <th>nao_chuveu_muito</th>\n",
       "      <td>25.027386</td>\n",
       "    </tr>\n",
       "  </tbody>\n",
       "</table>\n",
       "</div>"
      ],
      "text/plain": [
       "                  consumo_cerveja\n",
       "grande_chuva                     \n",
       "chuveu_muito            24.008136\n",
       "nao_chuveu_muito        25.027386"
      ]
     },
     "execution_count": 36,
     "metadata": {},
     "output_type": "execute_result"
    }
   ],
   "source": [
    "t1.groupby('grande_chuva')[['consumo_cerveja']].mean()"
   ]
  },
  {
   "cell_type": "code",
   "execution_count": 42,
   "metadata": {},
   "outputs": [
    {
     "data": {
      "text/plain": [
       "<matplotlib.axes._subplots.AxesSubplot at 0x24b85c2cb70>"
      ]
     },
     "execution_count": 42,
     "metadata": {},
     "output_type": "execute_result"
    },
    {
     "data": {
      "image/png": "[encoded data removed]",
      "text/plain": [
       "<Figure size 432x288 with 1 Axes>"
      ]
     },
     "metadata": {
      "needs_background": "light"
     },
     "output_type": "display_data"
    }
   ],
   "source": [
    "sns.lineplot(x = 'data', y = 'consumo_cerveja', data = df)"
   ]
  },
  {
   "cell_type": "code",
   "execution_count": 45,
   "metadata": {},
   "outputs": [
    {
     "data": {
      "text/plain": [
       "<matplotlib.axes._subplots.AxesSubplot at 0x24b863eea58>"
      ]
     },
     "execution_count": 45,
     "metadata": {},
     "output_type": "execute_result"
    },
    {
     "data": {
      "image/png": "[encoded data removed]",
      "text/plain": [
       "<Figure size 432x288 with 1 Axes>"
      ]
     },
     "metadata": {
      "needs_background": "light"
     },
     "output_type": "display_data"
    }
   ],
   "source": [
    "sns.boxplot(x = 'mes', y= 'consumo_cerveja', data = df)"
   ]
  },
  {
   "cell_type": "code",
   "execution_count": 48,
   "metadata": {},
   "outputs": [
    {
     "data": {
      "text/plain": [
       "<matplotlib.axes._subplots.AxesSubplot at 0x24b865fd710>"
      ]
     },
     "execution_count": 48,
     "metadata": {},
     "output_type": "execute_result"
    },
    {
     "data": {
      "image/png": "[encoded data removed]",
      "text/plain": [
       "<Figure size 432x288 with 1 Axes>"
      ]
     },
     "metadata": {
      "needs_background": "light"
     },
     "output_type": "display_data"
    }
   ],
   "source": [
    "sns.boxplot(x = 'dia', y= 'consumo_cerveja', data = df)"
   ]
  },
  {
   "cell_type": "markdown",
   "metadata": {},
   "source": [
    "### Dividindo os dados em treino e teste"
   ]
  },
  {
   "cell_type": "code",
   "execution_count": 50,
   "metadata": {},
   "outputs": [],
   "source": [
    "import catboost"
   ]
  },
  {
   "cell_type": "code",
   "execution_count": 51,
   "metadata": {},
   "outputs": [
    {
     "data": {
      "text/plain": [
       "Index(['data', 'media', 'min', 'max', 'precipitacao', 'fds', 'consumo_cerveja',\n",
       "       'ano', 'mes', 'dia', 'periodo_mes', 'chuva', 'grande_chuva',\n",
       "       'diadasemana'],\n",
       "      dtype='object')"
      ]
     },
     "execution_count": 51,
     "metadata": {},
     "output_type": "execute_result"
    }
   ],
   "source": [
    "df.columns"
   ]
  },
  {
   "cell_type": "code",
   "execution_count": 138,
   "metadata": {},
   "outputs": [],
   "source": [
    "def get_dia_anterior(df, qtdeDiaAnterior, coluna):\n",
    "    df = df.set_index([\"data\"])\n",
    "    df = df.sort_index()\n",
    "    df['QtdeDia -'+str(coluna)+str(qtdeDiaAnterior)] = df[coluna].shift(qtdeDiaAnterior)\n",
    "    df = df.reset_index()        \n",
    "    return df   "
   ]
  },
  {
   "cell_type": "code",
   "execution_count": 139,
   "metadata": {},
   "outputs": [],
   "source": [
    "colunas = ['media', 'min', 'max', 'precipitacao', 'fds', 'consumo_cerveja','dia', 'periodo_mes', 'chuva', 'grande_chuva']"
   ]
  },
  {
   "cell_type": "code",
   "execution_count": 140,
   "metadata": {},
   "outputs": [
    {
     "name": "stdout",
     "output_type": "stream",
     "text": [
      "Index(['data', 'media', 'min', 'max', 'precipitacao', 'fds', 'consumo_cerveja',\n",
      "       'ano', 'mes', 'dia', 'diadasemana', 'periodo_mes', 'chuva',\n",
      "       'grande_chuva', 'QtdeDia -media1'],\n",
      "      dtype='object')\n",
      "Index(['data', 'media', 'min', 'max', 'precipitacao', 'fds', 'consumo_cerveja',\n",
      "       'ano', 'mes', 'dia', 'diadasemana', 'periodo_mes', 'chuva',\n",
      "       'grande_chuva', 'QtdeDia -media1', 'QtdeDia -media2'],\n",
      "      dtype='object')\n",
      "Index(['data', 'media', 'min', 'max', 'precipitacao', 'fds', 'consumo_cerveja',\n",
      "       'ano', 'mes', 'dia', 'diadasemana', 'periodo_mes', 'chuva',\n",
      "       'grande_chuva', 'QtdeDia -media1', 'QtdeDia -media2',\n",
      "       'QtdeDia -media3'],\n",
      "      dtype='object')\n",
      "Index(['data', 'media', 'min', 'max', 'precipitacao', 'fds', 'consumo_cerveja',\n",
      "       'ano', 'mes', 'dia', 'diadasemana', 'periodo_mes', 'chuva',\n",
      "       'grande_chuva', 'QtdeDia -media1', 'QtdeDia -media2', 'QtdeDia -media3',\n",
      "       'QtdeDia -media4'],\n",
      "      dtype='object')\n",
      "Index(['data', 'media', 'min', 'max', 'precipitacao', 'fds', 'consumo_cerveja',\n",
      "       'ano', 'mes', 'dia', 'diadasemana', 'periodo_mes', 'chuva',\n",
      "       'grande_chuva', 'QtdeDia -media1', 'QtdeDia -media2', 'QtdeDia -media3',\n",
      "       'QtdeDia -media4', 'QtdeDia -media5'],\n",
      "      dtype='object')\n",
      "Index(['data', 'media', 'min', 'max', 'precipitacao', 'fds', 'consumo_cerveja',\n",
      "       'ano', 'mes', 'dia', 'diadasemana', 'periodo_mes', 'chuva',\n",
      "       'grande_chuva', 'QtdeDia -media1', 'QtdeDia -media2', 'QtdeDia -media3',\n",
      "       'QtdeDia -media4', 'QtdeDia -media5', 'QtdeDia -media6'],\n",
      "      dtype='object')\n",
      "Index(['data', 'media', 'min', 'max', 'precipitacao', 'fds', 'consumo_cerveja',\n",
      "       'ano', 'mes', 'dia', 'diadasemana', 'periodo_mes', 'chuva',\n",
      "       'grande_chuva', 'QtdeDia -media1', 'QtdeDia -media2', 'QtdeDia -media3',\n",
      "       'QtdeDia -media4', 'QtdeDia -media5', 'QtdeDia -media6',\n",
      "       'QtdeDia -media7'],\n",
      "      dtype='object')\n",
      "Index(['data', 'media', 'min', 'max', 'precipitacao', 'fds', 'consumo_cerveja',\n",
      "       'ano', 'mes', 'dia', 'diadasemana', 'periodo_mes', 'chuva',\n",
      "       'grande_chuva', 'QtdeDia -media1', 'QtdeDia -media2', 'QtdeDia -media3',\n",
      "       'QtdeDia -media4', 'QtdeDia -media5', 'QtdeDia -media6',\n",
      "       'QtdeDia -media7', 'QtdeDia -min1'],\n",
      "      dtype='object')\n",
      "Index(['data', 'media', 'min', 'max', 'precipitacao', 'fds', 'consumo_cerveja',\n",
      "       'ano', 'mes', 'dia', 'diadasemana', 'periodo_mes', 'chuva',\n",
      "       'grande_chuva', 'QtdeDia -media1', 'QtdeDia -media2', 'QtdeDia -media3',\n",
      "       'QtdeDia -media4', 'QtdeDia -media5', 'QtdeDia -media6',\n",
      "       'QtdeDia -media7', 'QtdeDia -min1', 'QtdeDia -min2'],\n",
      "      dtype='object')\n",
      "Index(['data', 'media', 'min', 'max', 'precipitacao', 'fds', 'consumo_cerveja',\n",
      "       'ano', 'mes', 'dia', 'diadasemana', 'periodo_mes', 'chuva',\n",
      "       'grande_chuva', 'QtdeDia -media1', 'QtdeDia -media2', 'QtdeDia -media3',\n",
      "       'QtdeDia -media4', 'QtdeDia -media5', 'QtdeDia -media6',\n",
      "       'QtdeDia -media7', 'QtdeDia -min1', 'QtdeDia -min2', 'QtdeDia -min3'],\n",
      "      dtype='object')\n",
      "Index(['data', 'media', 'min', 'max', 'precipitacao', 'fds', 'consumo_cerveja',\n",
      "       'ano', 'mes', 'dia', 'diadasemana', 'periodo_mes', 'chuva',\n",
      "       'grande_chuva', 'QtdeDia -media1', 'QtdeDia -media2', 'QtdeDia -media3',\n",
      "       'QtdeDia -media4', 'QtdeDia -media5', 'QtdeDia -media6',\n",
      "       'QtdeDia -media7', 'QtdeDia -min1', 'QtdeDia -min2', 'QtdeDia -min3',\n",
      "       'QtdeDia -min4'],\n",
      "      dtype='object')\n",
      "Index(['data', 'media', 'min', 'max', 'precipitacao', 'fds', 'consumo_cerveja',\n",
      "       'ano', 'mes', 'dia', 'diadasemana', 'periodo_mes', 'chuva',\n",
      "       'grande_chuva', 'QtdeDia -media1', 'QtdeDia -media2', 'QtdeDia -media3',\n",
      "       'QtdeDia -media4', 'QtdeDia -media5', 'QtdeDia -media6',\n",
      "       'QtdeDia -media7', 'QtdeDia -min1', 'QtdeDia -min2', 'QtdeDia -min3',\n",
      "       'QtdeDia -min4', 'QtdeDia -min5'],\n",
      "      dtype='object')\n",
      "Index(['data', 'media', 'min', 'max', 'precipitacao', 'fds', 'consumo_cerveja',\n",
      "       'ano', 'mes', 'dia', 'diadasemana', 'periodo_mes', 'chuva',\n",
      "       'grande_chuva', 'QtdeDia -media1', 'QtdeDia -media2', 'QtdeDia -media3',\n",
      "       'QtdeDia -media4', 'QtdeDia -media5', 'QtdeDia -media6',\n",
      "       'QtdeDia -media7', 'QtdeDia -min1', 'QtdeDia -min2', 'QtdeDia -min3',\n",
      "       'QtdeDia -min4', 'QtdeDia -min5', 'QtdeDia -min6'],\n",
      "      dtype='object')\n",
      "Index(['data', 'media', 'min', 'max', 'precipitacao', 'fds', 'consumo_cerveja',\n",
      "       'ano', 'mes', 'dia', 'diadasemana', 'periodo_mes', 'chuva',\n",
      "       'grande_chuva', 'QtdeDia -media1', 'QtdeDia -media2', 'QtdeDia -media3',\n",
      "       'QtdeDia -media4', 'QtdeDia -media5', 'QtdeDia -media6',\n",
      "       'QtdeDia -media7', 'QtdeDia -min1', 'QtdeDia -min2', 'QtdeDia -min3',\n",
      "       'QtdeDia -min4', 'QtdeDia -min5', 'QtdeDia -min6', 'QtdeDia -min7'],\n",
      "      dtype='object')\n",
      "Index(['data', 'media', 'min', 'max', 'precipitacao', 'fds', 'consumo_cerveja',\n",
      "       'ano', 'mes', 'dia', 'diadasemana', 'periodo_mes', 'chuva',\n",
      "       'grande_chuva', 'QtdeDia -media1', 'QtdeDia -media2', 'QtdeDia -media3',\n",
      "       'QtdeDia -media4', 'QtdeDia -media5', 'QtdeDia -media6',\n",
      "       'QtdeDia -media7', 'QtdeDia -min1', 'QtdeDia -min2', 'QtdeDia -min3',\n",
      "       'QtdeDia -min4', 'QtdeDia -min5', 'QtdeDia -min6', 'QtdeDia -min7',\n",
      "       'QtdeDia -max1'],\n",
      "      dtype='object')\n",
      "Index(['data', 'media', 'min', 'max', 'precipitacao', 'fds', 'consumo_cerveja',\n",
      "       'ano', 'mes', 'dia', 'diadasemana', 'periodo_mes', 'chuva',\n",
      "       'grande_chuva', 'QtdeDia -media1', 'QtdeDia -media2', 'QtdeDia -media3',\n",
      "       'QtdeDia -media4', 'QtdeDia -media5', 'QtdeDia -media6',\n",
      "       'QtdeDia -media7', 'QtdeDia -min1', 'QtdeDia -min2', 'QtdeDia -min3',\n",
      "       'QtdeDia -min4', 'QtdeDia -min5', 'QtdeDia -min6', 'QtdeDia -min7',\n",
      "       'QtdeDia -max1', 'QtdeDia -max2'],\n",
      "      dtype='object')\n",
      "Index(['data', 'media', 'min', 'max', 'precipitacao', 'fds', 'consumo_cerveja',\n",
      "       'ano', 'mes', 'dia', 'diadasemana', 'periodo_mes', 'chuva',\n",
      "       'grande_chuva', 'QtdeDia -media1', 'QtdeDia -media2', 'QtdeDia -media3',\n",
      "       'QtdeDia -media4', 'QtdeDia -media5', 'QtdeDia -media6',\n",
      "       'QtdeDia -media7', 'QtdeDia -min1', 'QtdeDia -min2', 'QtdeDia -min3',\n",
      "       'QtdeDia -min4', 'QtdeDia -min5', 'QtdeDia -min6', 'QtdeDia -min7',\n",
      "       'QtdeDia -max1', 'QtdeDia -max2', 'QtdeDia -max3'],\n",
      "      dtype='object')\n",
      "Index(['data', 'media', 'min', 'max', 'precipitacao', 'fds', 'consumo_cerveja',\n",
      "       'ano', 'mes', 'dia', 'diadasemana', 'periodo_mes', 'chuva',\n",
      "       'grande_chuva', 'QtdeDia -media1', 'QtdeDia -media2', 'QtdeDia -media3',\n",
      "       'QtdeDia -media4', 'QtdeDia -media5', 'QtdeDia -media6',\n",
      "       'QtdeDia -media7', 'QtdeDia -min1', 'QtdeDia -min2', 'QtdeDia -min3',\n",
      "       'QtdeDia -min4', 'QtdeDia -min5', 'QtdeDia -min6', 'QtdeDia -min7',\n",
      "       'QtdeDia -max1', 'QtdeDia -max2', 'QtdeDia -max3', 'QtdeDia -max4'],\n",
      "      dtype='object')\n",
      "Index(['data', 'media', 'min', 'max', 'precipitacao', 'fds', 'consumo_cerveja',\n",
      "       'ano', 'mes', 'dia', 'diadasemana', 'periodo_mes', 'chuva',\n",
      "       'grande_chuva', 'QtdeDia -media1', 'QtdeDia -media2', 'QtdeDia -media3',\n",
      "       'QtdeDia -media4', 'QtdeDia -media5', 'QtdeDia -media6',\n",
      "       'QtdeDia -media7', 'QtdeDia -min1', 'QtdeDia -min2', 'QtdeDia -min3',\n",
      "       'QtdeDia -min4', 'QtdeDia -min5', 'QtdeDia -min6', 'QtdeDia -min7',\n",
      "       'QtdeDia -max1', 'QtdeDia -max2', 'QtdeDia -max3', 'QtdeDia -max4',\n",
      "       'QtdeDia -max5'],\n",
      "      dtype='object')\n",
      "Index(['data', 'media', 'min', 'max', 'precipitacao', 'fds', 'consumo_cerveja',\n",
      "       'ano', 'mes', 'dia', 'diadasemana', 'periodo_mes', 'chuva',\n",
      "       'grande_chuva', 'QtdeDia -media1', 'QtdeDia -media2', 'QtdeDia -media3',\n",
      "       'QtdeDia -media4', 'QtdeDia -media5', 'QtdeDia -media6',\n",
      "       'QtdeDia -media7', 'QtdeDia -min1', 'QtdeDia -min2', 'QtdeDia -min3',\n",
      "       'QtdeDia -min4', 'QtdeDia -min5', 'QtdeDia -min6', 'QtdeDia -min7',\n",
      "       'QtdeDia -max1', 'QtdeDia -max2', 'QtdeDia -max3', 'QtdeDia -max4',\n",
      "       'QtdeDia -max5', 'QtdeDia -max6'],\n",
      "      dtype='object')\n",
      "Index(['data', 'media', 'min', 'max', 'precipitacao', 'fds', 'consumo_cerveja',\n",
      "       'ano', 'mes', 'dia', 'diadasemana', 'periodo_mes', 'chuva',\n",
      "       'grande_chuva', 'QtdeDia -media1', 'QtdeDia -media2', 'QtdeDia -media3',\n",
      "       'QtdeDia -media4', 'QtdeDia -media5', 'QtdeDia -media6',\n",
      "       'QtdeDia -media7', 'QtdeDia -min1', 'QtdeDia -min2', 'QtdeDia -min3',\n",
      "       'QtdeDia -min4', 'QtdeDia -min5', 'QtdeDia -min6', 'QtdeDia -min7',\n",
      "       'QtdeDia -max1', 'QtdeDia -max2', 'QtdeDia -max3', 'QtdeDia -max4',\n",
      "       'QtdeDia -max5', 'QtdeDia -max6', 'QtdeDia -max7'],\n",
      "      dtype='object')\n",
      "Index(['data', 'media', 'min', 'max', 'precipitacao', 'fds', 'consumo_cerveja',\n",
      "       'ano', 'mes', 'dia', 'diadasemana', 'periodo_mes', 'chuva',\n",
      "       'grande_chuva', 'QtdeDia -media1', 'QtdeDia -media2', 'QtdeDia -media3',\n",
      "       'QtdeDia -media4', 'QtdeDia -media5', 'QtdeDia -media6',\n",
      "       'QtdeDia -media7', 'QtdeDia -min1', 'QtdeDia -min2', 'QtdeDia -min3',\n",
      "       'QtdeDia -min4', 'QtdeDia -min5', 'QtdeDia -min6', 'QtdeDia -min7',\n",
      "       'QtdeDia -max1', 'QtdeDia -max2', 'QtdeDia -max3', 'QtdeDia -max4',\n",
      "       'QtdeDia -max5', 'QtdeDia -max6', 'QtdeDia -max7',\n",
      "       'QtdeDia -precipitacao1'],\n",
      "      dtype='object')\n",
      "Index(['data', 'media', 'min', 'max', 'precipitacao', 'fds', 'consumo_cerveja',\n",
      "       'ano', 'mes', 'dia', 'diadasemana', 'periodo_mes', 'chuva',\n",
      "       'grande_chuva', 'QtdeDia -media1', 'QtdeDia -media2', 'QtdeDia -media3',\n",
      "       'QtdeDia -media4', 'QtdeDia -media5', 'QtdeDia -media6',\n",
      "       'QtdeDia -media7', 'QtdeDia -min1', 'QtdeDia -min2', 'QtdeDia -min3',\n",
      "       'QtdeDia -min4', 'QtdeDia -min5', 'QtdeDia -min6', 'QtdeDia -min7',\n",
      "       'QtdeDia -max1', 'QtdeDia -max2', 'QtdeDia -max3', 'QtdeDia -max4',\n",
      "       'QtdeDia -max5', 'QtdeDia -max6', 'QtdeDia -max7',\n",
      "       'QtdeDia -precipitacao1', 'QtdeDia -precipitacao2'],\n",
      "      dtype='object')\n",
      "Index(['data', 'media', 'min', 'max', 'precipitacao', 'fds', 'consumo_cerveja',\n",
      "       'ano', 'mes', 'dia', 'diadasemana', 'periodo_mes', 'chuva',\n",
      "       'grande_chuva', 'QtdeDia -media1', 'QtdeDia -media2', 'QtdeDia -media3',\n",
      "       'QtdeDia -media4', 'QtdeDia -media5', 'QtdeDia -media6',\n",
      "       'QtdeDia -media7', 'QtdeDia -min1', 'QtdeDia -min2', 'QtdeDia -min3',\n",
      "       'QtdeDia -min4', 'QtdeDia -min5', 'QtdeDia -min6', 'QtdeDia -min7',\n",
      "       'QtdeDia -max1', 'QtdeDia -max2', 'QtdeDia -max3', 'QtdeDia -max4',\n",
      "       'QtdeDia -max5', 'QtdeDia -max6', 'QtdeDia -max7',\n",
      "       'QtdeDia -precipitacao1', 'QtdeDia -precipitacao2',\n",
      "       'QtdeDia -precipitacao3'],\n",
      "      dtype='object')\n",
      "Index(['data', 'media', 'min', 'max', 'precipitacao', 'fds', 'consumo_cerveja',\n",
      "       'ano', 'mes', 'dia', 'diadasemana', 'periodo_mes', 'chuva',\n",
      "       'grande_chuva', 'QtdeDia -media1', 'QtdeDia -media2', 'QtdeDia -media3',\n",
      "       'QtdeDia -media4', 'QtdeDia -media5', 'QtdeDia -media6',\n",
      "       'QtdeDia -media7', 'QtdeDia -min1', 'QtdeDia -min2', 'QtdeDia -min3',\n",
      "       'QtdeDia -min4', 'QtdeDia -min5', 'QtdeDia -min6', 'QtdeDia -min7',\n",
      "       'QtdeDia -max1', 'QtdeDia -max2', 'QtdeDia -max3', 'QtdeDia -max4',\n",
      "       'QtdeDia -max5', 'QtdeDia -max6', 'QtdeDia -max7',\n",
      "       'QtdeDia -precipitacao1', 'QtdeDia -precipitacao2',\n",
      "       'QtdeDia -precipitacao3', 'QtdeDia -precipitacao4'],\n",
      "      dtype='object')\n",
      "Index(['data', 'media', 'min', 'max', 'precipitacao', 'fds', 'consumo_cerveja',\n",
      "       'ano', 'mes', 'dia', 'diadasemana', 'periodo_mes', 'chuva',\n",
      "       'grande_chuva', 'QtdeDia -media1', 'QtdeDia -media2', 'QtdeDia -media3',\n",
      "       'QtdeDia -media4', 'QtdeDia -media5', 'QtdeDia -media6',\n",
      "       'QtdeDia -media7', 'QtdeDia -min1', 'QtdeDia -min2', 'QtdeDia -min3',\n",
      "       'QtdeDia -min4', 'QtdeDia -min5', 'QtdeDia -min6', 'QtdeDia -min7',\n",
      "       'QtdeDia -max1', 'QtdeDia -max2', 'QtdeDia -max3', 'QtdeDia -max4',\n",
      "       'QtdeDia -max5', 'QtdeDia -max6', 'QtdeDia -max7',\n",
      "       'QtdeDia -precipitacao1', 'QtdeDia -precipitacao2',\n",
      "       'QtdeDia -precipitacao3', 'QtdeDia -precipitacao4',\n",
      "       'QtdeDia -precipitacao5'],\n",
      "      dtype='object')\n",
      "Index(['data', 'media', 'min', 'max', 'precipitacao', 'fds', 'consumo_cerveja',\n",
      "       'ano', 'mes', 'dia', 'diadasemana', 'periodo_mes', 'chuva',\n",
      "       'grande_chuva', 'QtdeDia -media1', 'QtdeDia -media2', 'QtdeDia -media3',\n",
      "       'QtdeDia -media4', 'QtdeDia -media5', 'QtdeDia -media6',\n",
      "       'QtdeDia -media7', 'QtdeDia -min1', 'QtdeDia -min2', 'QtdeDia -min3',\n",
      "       'QtdeDia -min4', 'QtdeDia -min5', 'QtdeDia -min6', 'QtdeDia -min7',\n",
      "       'QtdeDia -max1', 'QtdeDia -max2', 'QtdeDia -max3', 'QtdeDia -max4',\n",
      "       'QtdeDia -max5', 'QtdeDia -max6', 'QtdeDia -max7',\n",
      "       'QtdeDia -precipitacao1', 'QtdeDia -precipitacao2',\n",
      "       'QtdeDia -precipitacao3', 'QtdeDia -precipitacao4',\n",
      "       'QtdeDia -precipitacao5', 'QtdeDia -precipitacao6'],\n",
      "      dtype='object')\n",
      "Index(['data', 'media', 'min', 'max', 'precipitacao', 'fds', 'consumo_cerveja',\n",
      "       'ano', 'mes', 'dia', 'diadasemana', 'periodo_mes', 'chuva',\n",
      "       'grande_chuva', 'QtdeDia -media1', 'QtdeDia -media2', 'QtdeDia -media3',\n",
      "       'QtdeDia -media4', 'QtdeDia -media5', 'QtdeDia -media6',\n",
      "       'QtdeDia -media7', 'QtdeDia -min1', 'QtdeDia -min2', 'QtdeDia -min3',\n",
      "       'QtdeDia -min4', 'QtdeDia -min5', 'QtdeDia -min6', 'QtdeDia -min7',\n",
      "       'QtdeDia -max1', 'QtdeDia -max2', 'QtdeDia -max3', 'QtdeDia -max4',\n",
      "       'QtdeDia -max5', 'QtdeDia -max6', 'QtdeDia -max7',\n",
      "       'QtdeDia -precipitacao1', 'QtdeDia -precipitacao2',\n",
      "       'QtdeDia -precipitacao3', 'QtdeDia -precipitacao4',\n",
      "       'QtdeDia -precipitacao5', 'QtdeDia -precipitacao6',\n",
      "       'QtdeDia -precipitacao7'],\n",
      "      dtype='object')\n",
      "Index(['data', 'media', 'min', 'max', 'precipitacao', 'fds', 'consumo_cerveja',\n",
      "       'ano', 'mes', 'dia', 'diadasemana', 'periodo_mes', 'chuva',\n",
      "       'grande_chuva', 'QtdeDia -media1', 'QtdeDia -media2', 'QtdeDia -media3',\n",
      "       'QtdeDia -media4', 'QtdeDia -media5', 'QtdeDia -media6',\n",
      "       'QtdeDia -media7', 'QtdeDia -min1', 'QtdeDia -min2', 'QtdeDia -min3',\n",
      "       'QtdeDia -min4', 'QtdeDia -min5', 'QtdeDia -min6', 'QtdeDia -min7',\n",
      "       'QtdeDia -max1', 'QtdeDia -max2', 'QtdeDia -max3', 'QtdeDia -max4',\n",
      "       'QtdeDia -max5', 'QtdeDia -max6', 'QtdeDia -max7',\n",
      "       'QtdeDia -precipitacao1', 'QtdeDia -precipitacao2',\n",
      "       'QtdeDia -precipitacao3', 'QtdeDia -precipitacao4',\n",
      "       'QtdeDia -precipitacao5', 'QtdeDia -precipitacao6',\n",
      "       'QtdeDia -precipitacao7', 'QtdeDia -fds1'],\n",
      "      dtype='object')\n",
      "Index(['data', 'media', 'min', 'max', 'precipitacao', 'fds', 'consumo_cerveja',\n",
      "       'ano', 'mes', 'dia', 'diadasemana', 'periodo_mes', 'chuva',\n",
      "       'grande_chuva', 'QtdeDia -media1', 'QtdeDia -media2', 'QtdeDia -media3',\n",
      "       'QtdeDia -media4', 'QtdeDia -media5', 'QtdeDia -media6',\n",
      "       'QtdeDia -media7', 'QtdeDia -min1', 'QtdeDia -min2', 'QtdeDia -min3',\n",
      "       'QtdeDia -min4', 'QtdeDia -min5', 'QtdeDia -min6', 'QtdeDia -min7',\n",
      "       'QtdeDia -max1', 'QtdeDia -max2', 'QtdeDia -max3', 'QtdeDia -max4',\n",
      "       'QtdeDia -max5', 'QtdeDia -max6', 'QtdeDia -max7',\n",
      "       'QtdeDia -precipitacao1', 'QtdeDia -precipitacao2',\n",
      "       'QtdeDia -precipitacao3', 'QtdeDia -precipitacao4',\n",
      "       'QtdeDia -precipitacao5', 'QtdeDia -precipitacao6',\n",
      "       'QtdeDia -precipitacao7', 'QtdeDia -fds1', 'QtdeDia -fds2'],\n",
      "      dtype='object')\n"
     ]
    },
    {
     "name": "stdout",
     "output_type": "stream",
     "text": [
      "Index(['data', 'media', 'min', 'max', 'precipitacao', 'fds', 'consumo_cerveja',\n",
      "       'ano', 'mes', 'dia', 'diadasemana', 'periodo_mes', 'chuva',\n",
      "       'grande_chuva', 'QtdeDia -media1', 'QtdeDia -media2', 'QtdeDia -media3',\n",
      "       'QtdeDia -media4', 'QtdeDia -media5', 'QtdeDia -media6',\n",
      "       'QtdeDia -media7', 'QtdeDia -min1', 'QtdeDia -min2', 'QtdeDia -min3',\n",
      "       'QtdeDia -min4', 'QtdeDia -min5', 'QtdeDia -min6', 'QtdeDia -min7',\n",
      "       'QtdeDia -max1', 'QtdeDia -max2', 'QtdeDia -max3', 'QtdeDia -max4',\n",
      "       'QtdeDia -max5', 'QtdeDia -max6', 'QtdeDia -max7',\n",
      "       'QtdeDia -precipitacao1', 'QtdeDia -precipitacao2',\n",
      "       'QtdeDia -precipitacao3', 'QtdeDia -precipitacao4',\n",
      "       'QtdeDia -precipitacao5', 'QtdeDia -precipitacao6',\n",
      "       'QtdeDia -precipitacao7', 'QtdeDia -fds1', 'QtdeDia -fds2',\n",
      "       'QtdeDia -fds3'],\n",
      "      dtype='object')\n",
      "Index(['data', 'media', 'min', 'max', 'precipitacao', 'fds', 'consumo_cerveja',\n",
      "       'ano', 'mes', 'dia', 'diadasemana', 'periodo_mes', 'chuva',\n",
      "       'grande_chuva', 'QtdeDia -media1', 'QtdeDia -media2', 'QtdeDia -media3',\n",
      "       'QtdeDia -media4', 'QtdeDia -media5', 'QtdeDia -media6',\n",
      "       'QtdeDia -media7', 'QtdeDia -min1', 'QtdeDia -min2', 'QtdeDia -min3',\n",
      "       'QtdeDia -min4', 'QtdeDia -min5', 'QtdeDia -min6', 'QtdeDia -min7',\n",
      "       'QtdeDia -max1', 'QtdeDia -max2', 'QtdeDia -max3', 'QtdeDia -max4',\n",
      "       'QtdeDia -max5', 'QtdeDia -max6', 'QtdeDia -max7',\n",
      "       'QtdeDia -precipitacao1', 'QtdeDia -precipitacao2',\n",
      "       'QtdeDia -precipitacao3', 'QtdeDia -precipitacao4',\n",
      "       'QtdeDia -precipitacao5', 'QtdeDia -precipitacao6',\n",
      "       'QtdeDia -precipitacao7', 'QtdeDia -fds1', 'QtdeDia -fds2',\n",
      "       'QtdeDia -fds3', 'QtdeDia -fds4'],\n",
      "      dtype='object')\n",
      "Index(['data', 'media', 'min', 'max', 'precipitacao', 'fds', 'consumo_cerveja',\n",
      "       'ano', 'mes', 'dia', 'diadasemana', 'periodo_mes', 'chuva',\n",
      "       'grande_chuva', 'QtdeDia -media1', 'QtdeDia -media2', 'QtdeDia -media3',\n",
      "       'QtdeDia -media4', 'QtdeDia -media5', 'QtdeDia -media6',\n",
      "       'QtdeDia -media7', 'QtdeDia -min1', 'QtdeDia -min2', 'QtdeDia -min3',\n",
      "       'QtdeDia -min4', 'QtdeDia -min5', 'QtdeDia -min6', 'QtdeDia -min7',\n",
      "       'QtdeDia -max1', 'QtdeDia -max2', 'QtdeDia -max3', 'QtdeDia -max4',\n",
      "       'QtdeDia -max5', 'QtdeDia -max6', 'QtdeDia -max7',\n",
      "       'QtdeDia -precipitacao1', 'QtdeDia -precipitacao2',\n",
      "       'QtdeDia -precipitacao3', 'QtdeDia -precipitacao4',\n",
      "       'QtdeDia -precipitacao5', 'QtdeDia -precipitacao6',\n",
      "       'QtdeDia -precipitacao7', 'QtdeDia -fds1', 'QtdeDia -fds2',\n",
      "       'QtdeDia -fds3', 'QtdeDia -fds4', 'QtdeDia -fds5'],\n",
      "      dtype='object')\n",
      "Index(['data', 'media', 'min', 'max', 'precipitacao', 'fds', 'consumo_cerveja',\n",
      "       'ano', 'mes', 'dia', 'diadasemana', 'periodo_mes', 'chuva',\n",
      "       'grande_chuva', 'QtdeDia -media1', 'QtdeDia -media2', 'QtdeDia -media3',\n",
      "       'QtdeDia -media4', 'QtdeDia -media5', 'QtdeDia -media6',\n",
      "       'QtdeDia -media7', 'QtdeDia -min1', 'QtdeDia -min2', 'QtdeDia -min3',\n",
      "       'QtdeDia -min4', 'QtdeDia -min5', 'QtdeDia -min6', 'QtdeDia -min7',\n",
      "       'QtdeDia -max1', 'QtdeDia -max2', 'QtdeDia -max3', 'QtdeDia -max4',\n",
      "       'QtdeDia -max5', 'QtdeDia -max6', 'QtdeDia -max7',\n",
      "       'QtdeDia -precipitacao1', 'QtdeDia -precipitacao2',\n",
      "       'QtdeDia -precipitacao3', 'QtdeDia -precipitacao4',\n",
      "       'QtdeDia -precipitacao5', 'QtdeDia -precipitacao6',\n",
      "       'QtdeDia -precipitacao7', 'QtdeDia -fds1', 'QtdeDia -fds2',\n",
      "       'QtdeDia -fds3', 'QtdeDia -fds4', 'QtdeDia -fds5', 'QtdeDia -fds6'],\n",
      "      dtype='object')\n",
      "Index(['data', 'media', 'min', 'max', 'precipitacao', 'fds', 'consumo_cerveja',\n",
      "       'ano', 'mes', 'dia', 'diadasemana', 'periodo_mes', 'chuva',\n",
      "       'grande_chuva', 'QtdeDia -media1', 'QtdeDia -media2', 'QtdeDia -media3',\n",
      "       'QtdeDia -media4', 'QtdeDia -media5', 'QtdeDia -media6',\n",
      "       'QtdeDia -media7', 'QtdeDia -min1', 'QtdeDia -min2', 'QtdeDia -min3',\n",
      "       'QtdeDia -min4', 'QtdeDia -min5', 'QtdeDia -min6', 'QtdeDia -min7',\n",
      "       'QtdeDia -max1', 'QtdeDia -max2', 'QtdeDia -max3', 'QtdeDia -max4',\n",
      "       'QtdeDia -max5', 'QtdeDia -max6', 'QtdeDia -max7',\n",
      "       'QtdeDia -precipitacao1', 'QtdeDia -precipitacao2',\n",
      "       'QtdeDia -precipitacao3', 'QtdeDia -precipitacao4',\n",
      "       'QtdeDia -precipitacao5', 'QtdeDia -precipitacao6',\n",
      "       'QtdeDia -precipitacao7', 'QtdeDia -fds1', 'QtdeDia -fds2',\n",
      "       'QtdeDia -fds3', 'QtdeDia -fds4', 'QtdeDia -fds5', 'QtdeDia -fds6',\n",
      "       'QtdeDia -fds7'],\n",
      "      dtype='object')\n",
      "Index(['data', 'media', 'min', 'max', 'precipitacao', 'fds', 'consumo_cerveja',\n",
      "       'ano', 'mes', 'dia', 'diadasemana', 'periodo_mes', 'chuva',\n",
      "       'grande_chuva', 'QtdeDia -media1', 'QtdeDia -media2', 'QtdeDia -media3',\n",
      "       'QtdeDia -media4', 'QtdeDia -media5', 'QtdeDia -media6',\n",
      "       'QtdeDia -media7', 'QtdeDia -min1', 'QtdeDia -min2', 'QtdeDia -min3',\n",
      "       'QtdeDia -min4', 'QtdeDia -min5', 'QtdeDia -min6', 'QtdeDia -min7',\n",
      "       'QtdeDia -max1', 'QtdeDia -max2', 'QtdeDia -max3', 'QtdeDia -max4',\n",
      "       'QtdeDia -max5', 'QtdeDia -max6', 'QtdeDia -max7',\n",
      "       'QtdeDia -precipitacao1', 'QtdeDia -precipitacao2',\n",
      "       'QtdeDia -precipitacao3', 'QtdeDia -precipitacao4',\n",
      "       'QtdeDia -precipitacao5', 'QtdeDia -precipitacao6',\n",
      "       'QtdeDia -precipitacao7', 'QtdeDia -fds1', 'QtdeDia -fds2',\n",
      "       'QtdeDia -fds3', 'QtdeDia -fds4', 'QtdeDia -fds5', 'QtdeDia -fds6',\n",
      "       'QtdeDia -fds7', 'QtdeDia -consumo_cerveja1'],\n",
      "      dtype='object')\n",
      "Index(['data', 'media', 'min', 'max', 'precipitacao', 'fds', 'consumo_cerveja',\n",
      "       'ano', 'mes', 'dia', 'diadasemana', 'periodo_mes', 'chuva',\n",
      "       'grande_chuva', 'QtdeDia -media1', 'QtdeDia -media2', 'QtdeDia -media3',\n",
      "       'QtdeDia -media4', 'QtdeDia -media5', 'QtdeDia -media6',\n",
      "       'QtdeDia -media7', 'QtdeDia -min1', 'QtdeDia -min2', 'QtdeDia -min3',\n",
      "       'QtdeDia -min4', 'QtdeDia -min5', 'QtdeDia -min6', 'QtdeDia -min7',\n",
      "       'QtdeDia -max1', 'QtdeDia -max2', 'QtdeDia -max3', 'QtdeDia -max4',\n",
      "       'QtdeDia -max5', 'QtdeDia -max6', 'QtdeDia -max7',\n",
      "       'QtdeDia -precipitacao1', 'QtdeDia -precipitacao2',\n",
      "       'QtdeDia -precipitacao3', 'QtdeDia -precipitacao4',\n",
      "       'QtdeDia -precipitacao5', 'QtdeDia -precipitacao6',\n",
      "       'QtdeDia -precipitacao7', 'QtdeDia -fds1', 'QtdeDia -fds2',\n",
      "       'QtdeDia -fds3', 'QtdeDia -fds4', 'QtdeDia -fds5', 'QtdeDia -fds6',\n",
      "       'QtdeDia -fds7', 'QtdeDia -consumo_cerveja1',\n",
      "       'QtdeDia -consumo_cerveja2'],\n",
      "      dtype='object')\n",
      "Index(['data', 'media', 'min', 'max', 'precipitacao', 'fds', 'consumo_cerveja',\n",
      "       'ano', 'mes', 'dia', 'diadasemana', 'periodo_mes', 'chuva',\n",
      "       'grande_chuva', 'QtdeDia -media1', 'QtdeDia -media2', 'QtdeDia -media3',\n",
      "       'QtdeDia -media4', 'QtdeDia -media5', 'QtdeDia -media6',\n",
      "       'QtdeDia -media7', 'QtdeDia -min1', 'QtdeDia -min2', 'QtdeDia -min3',\n",
      "       'QtdeDia -min4', 'QtdeDia -min5', 'QtdeDia -min6', 'QtdeDia -min7',\n",
      "       'QtdeDia -max1', 'QtdeDia -max2', 'QtdeDia -max3', 'QtdeDia -max4',\n",
      "       'QtdeDia -max5', 'QtdeDia -max6', 'QtdeDia -max7',\n",
      "       'QtdeDia -precipitacao1', 'QtdeDia -precipitacao2',\n",
      "       'QtdeDia -precipitacao3', 'QtdeDia -precipitacao4',\n",
      "       'QtdeDia -precipitacao5', 'QtdeDia -precipitacao6',\n",
      "       'QtdeDia -precipitacao7', 'QtdeDia -fds1', 'QtdeDia -fds2',\n",
      "       'QtdeDia -fds3', 'QtdeDia -fds4', 'QtdeDia -fds5', 'QtdeDia -fds6',\n",
      "       'QtdeDia -fds7', 'QtdeDia -consumo_cerveja1',\n",
      "       'QtdeDia -consumo_cerveja2', 'QtdeDia -consumo_cerveja3'],\n",
      "      dtype='object')\n",
      "Index(['data', 'media', 'min', 'max', 'precipitacao', 'fds', 'consumo_cerveja',\n",
      "       'ano', 'mes', 'dia', 'diadasemana', 'periodo_mes', 'chuva',\n",
      "       'grande_chuva', 'QtdeDia -media1', 'QtdeDia -media2', 'QtdeDia -media3',\n",
      "       'QtdeDia -media4', 'QtdeDia -media5', 'QtdeDia -media6',\n",
      "       'QtdeDia -media7', 'QtdeDia -min1', 'QtdeDia -min2', 'QtdeDia -min3',\n",
      "       'QtdeDia -min4', 'QtdeDia -min5', 'QtdeDia -min6', 'QtdeDia -min7',\n",
      "       'QtdeDia -max1', 'QtdeDia -max2', 'QtdeDia -max3', 'QtdeDia -max4',\n",
      "       'QtdeDia -max5', 'QtdeDia -max6', 'QtdeDia -max7',\n",
      "       'QtdeDia -precipitacao1', 'QtdeDia -precipitacao2',\n",
      "       'QtdeDia -precipitacao3', 'QtdeDia -precipitacao4',\n",
      "       'QtdeDia -precipitacao5', 'QtdeDia -precipitacao6',\n",
      "       'QtdeDia -precipitacao7', 'QtdeDia -fds1', 'QtdeDia -fds2',\n",
      "       'QtdeDia -fds3', 'QtdeDia -fds4', 'QtdeDia -fds5', 'QtdeDia -fds6',\n",
      "       'QtdeDia -fds7', 'QtdeDia -consumo_cerveja1',\n",
      "       'QtdeDia -consumo_cerveja2', 'QtdeDia -consumo_cerveja3',\n",
      "       'QtdeDia -consumo_cerveja4'],\n",
      "      dtype='object')\n",
      "Index(['data', 'media', 'min', 'max', 'precipitacao', 'fds', 'consumo_cerveja',\n",
      "       'ano', 'mes', 'dia', 'diadasemana', 'periodo_mes', 'chuva',\n",
      "       'grande_chuva', 'QtdeDia -media1', 'QtdeDia -media2', 'QtdeDia -media3',\n",
      "       'QtdeDia -media4', 'QtdeDia -media5', 'QtdeDia -media6',\n",
      "       'QtdeDia -media7', 'QtdeDia -min1', 'QtdeDia -min2', 'QtdeDia -min3',\n",
      "       'QtdeDia -min4', 'QtdeDia -min5', 'QtdeDia -min6', 'QtdeDia -min7',\n",
      "       'QtdeDia -max1', 'QtdeDia -max2', 'QtdeDia -max3', 'QtdeDia -max4',\n",
      "       'QtdeDia -max5', 'QtdeDia -max6', 'QtdeDia -max7',\n",
      "       'QtdeDia -precipitacao1', 'QtdeDia -precipitacao2',\n",
      "       'QtdeDia -precipitacao3', 'QtdeDia -precipitacao4',\n",
      "       'QtdeDia -precipitacao5', 'QtdeDia -precipitacao6',\n",
      "       'QtdeDia -precipitacao7', 'QtdeDia -fds1', 'QtdeDia -fds2',\n",
      "       'QtdeDia -fds3', 'QtdeDia -fds4', 'QtdeDia -fds5', 'QtdeDia -fds6',\n",
      "       'QtdeDia -fds7', 'QtdeDia -consumo_cerveja1',\n",
      "       'QtdeDia -consumo_cerveja2', 'QtdeDia -consumo_cerveja3',\n",
      "       'QtdeDia -consumo_cerveja4', 'QtdeDia -consumo_cerveja5'],\n",
      "      dtype='object')\n",
      "Index(['data', 'media', 'min', 'max', 'precipitacao', 'fds', 'consumo_cerveja',\n",
      "       'ano', 'mes', 'dia', 'diadasemana', 'periodo_mes', 'chuva',\n",
      "       'grande_chuva', 'QtdeDia -media1', 'QtdeDia -media2', 'QtdeDia -media3',\n",
      "       'QtdeDia -media4', 'QtdeDia -media5', 'QtdeDia -media6',\n",
      "       'QtdeDia -media7', 'QtdeDia -min1', 'QtdeDia -min2', 'QtdeDia -min3',\n",
      "       'QtdeDia -min4', 'QtdeDia -min5', 'QtdeDia -min6', 'QtdeDia -min7',\n",
      "       'QtdeDia -max1', 'QtdeDia -max2', 'QtdeDia -max3', 'QtdeDia -max4',\n",
      "       'QtdeDia -max5', 'QtdeDia -max6', 'QtdeDia -max7',\n",
      "       'QtdeDia -precipitacao1', 'QtdeDia -precipitacao2',\n",
      "       'QtdeDia -precipitacao3', 'QtdeDia -precipitacao4',\n",
      "       'QtdeDia -precipitacao5', 'QtdeDia -precipitacao6',\n",
      "       'QtdeDia -precipitacao7', 'QtdeDia -fds1', 'QtdeDia -fds2',\n",
      "       'QtdeDia -fds3', 'QtdeDia -fds4', 'QtdeDia -fds5', 'QtdeDia -fds6',\n",
      "       'QtdeDia -fds7', 'QtdeDia -consumo_cerveja1',\n",
      "       'QtdeDia -consumo_cerveja2', 'QtdeDia -consumo_cerveja3',\n",
      "       'QtdeDia -consumo_cerveja4', 'QtdeDia -consumo_cerveja5',\n",
      "       'QtdeDia -consumo_cerveja6'],\n",
      "      dtype='object')\n",
      "Index(['data', 'media', 'min', 'max', 'precipitacao', 'fds', 'consumo_cerveja',\n",
      "       'ano', 'mes', 'dia', 'diadasemana', 'periodo_mes', 'chuva',\n",
      "       'grande_chuva', 'QtdeDia -media1', 'QtdeDia -media2', 'QtdeDia -media3',\n",
      "       'QtdeDia -media4', 'QtdeDia -media5', 'QtdeDia -media6',\n",
      "       'QtdeDia -media7', 'QtdeDia -min1', 'QtdeDia -min2', 'QtdeDia -min3',\n",
      "       'QtdeDia -min4', 'QtdeDia -min5', 'QtdeDia -min6', 'QtdeDia -min7',\n",
      "       'QtdeDia -max1', 'QtdeDia -max2', 'QtdeDia -max3', 'QtdeDia -max4',\n",
      "       'QtdeDia -max5', 'QtdeDia -max6', 'QtdeDia -max7',\n",
      "       'QtdeDia -precipitacao1', 'QtdeDia -precipitacao2',\n",
      "       'QtdeDia -precipitacao3', 'QtdeDia -precipitacao4',\n",
      "       'QtdeDia -precipitacao5', 'QtdeDia -precipitacao6',\n",
      "       'QtdeDia -precipitacao7', 'QtdeDia -fds1', 'QtdeDia -fds2',\n",
      "       'QtdeDia -fds3', 'QtdeDia -fds4', 'QtdeDia -fds5', 'QtdeDia -fds6',\n",
      "       'QtdeDia -fds7', 'QtdeDia -consumo_cerveja1',\n",
      "       'QtdeDia -consumo_cerveja2', 'QtdeDia -consumo_cerveja3',\n",
      "       'QtdeDia -consumo_cerveja4', 'QtdeDia -consumo_cerveja5',\n",
      "       'QtdeDia -consumo_cerveja6', 'QtdeDia -consumo_cerveja7'],\n",
      "      dtype='object')\n",
      "Index(['data', 'media', 'min', 'max', 'precipitacao', 'fds', 'consumo_cerveja',\n",
      "       'ano', 'mes', 'dia', 'diadasemana', 'periodo_mes', 'chuva',\n",
      "       'grande_chuva', 'QtdeDia -media1', 'QtdeDia -media2', 'QtdeDia -media3',\n",
      "       'QtdeDia -media4', 'QtdeDia -media5', 'QtdeDia -media6',\n",
      "       'QtdeDia -media7', 'QtdeDia -min1', 'QtdeDia -min2', 'QtdeDia -min3',\n",
      "       'QtdeDia -min4', 'QtdeDia -min5', 'QtdeDia -min6', 'QtdeDia -min7',\n",
      "       'QtdeDia -max1', 'QtdeDia -max2', 'QtdeDia -max3', 'QtdeDia -max4',\n",
      "       'QtdeDia -max5', 'QtdeDia -max6', 'QtdeDia -max7',\n",
      "       'QtdeDia -precipitacao1', 'QtdeDia -precipitacao2',\n",
      "       'QtdeDia -precipitacao3', 'QtdeDia -precipitacao4',\n",
      "       'QtdeDia -precipitacao5', 'QtdeDia -precipitacao6',\n",
      "       'QtdeDia -precipitacao7', 'QtdeDia -fds1', 'QtdeDia -fds2',\n",
      "       'QtdeDia -fds3', 'QtdeDia -fds4', 'QtdeDia -fds5', 'QtdeDia -fds6',\n",
      "       'QtdeDia -fds7', 'QtdeDia -consumo_cerveja1',\n",
      "       'QtdeDia -consumo_cerveja2', 'QtdeDia -consumo_cerveja3',\n",
      "       'QtdeDia -consumo_cerveja4', 'QtdeDia -consumo_cerveja5',\n",
      "       'QtdeDia -consumo_cerveja6', 'QtdeDia -consumo_cerveja7',\n",
      "       'QtdeDia -dia1'],\n",
      "      dtype='object')\n",
      "Index(['data', 'media', 'min', 'max', 'precipitacao', 'fds', 'consumo_cerveja',\n",
      "       'ano', 'mes', 'dia', 'diadasemana', 'periodo_mes', 'chuva',\n",
      "       'grande_chuva', 'QtdeDia -media1', 'QtdeDia -media2', 'QtdeDia -media3',\n",
      "       'QtdeDia -media4', 'QtdeDia -media5', 'QtdeDia -media6',\n",
      "       'QtdeDia -media7', 'QtdeDia -min1', 'QtdeDia -min2', 'QtdeDia -min3',\n",
      "       'QtdeDia -min4', 'QtdeDia -min5', 'QtdeDia -min6', 'QtdeDia -min7',\n",
      "       'QtdeDia -max1', 'QtdeDia -max2', 'QtdeDia -max3', 'QtdeDia -max4',\n",
      "       'QtdeDia -max5', 'QtdeDia -max6', 'QtdeDia -max7',\n",
      "       'QtdeDia -precipitacao1', 'QtdeDia -precipitacao2',\n",
      "       'QtdeDia -precipitacao3', 'QtdeDia -precipitacao4',\n",
      "       'QtdeDia -precipitacao5', 'QtdeDia -precipitacao6',\n",
      "       'QtdeDia -precipitacao7', 'QtdeDia -fds1', 'QtdeDia -fds2',\n",
      "       'QtdeDia -fds3', 'QtdeDia -fds4', 'QtdeDia -fds5', 'QtdeDia -fds6',\n",
      "       'QtdeDia -fds7', 'QtdeDia -consumo_cerveja1',\n",
      "       'QtdeDia -consumo_cerveja2', 'QtdeDia -consumo_cerveja3',\n",
      "       'QtdeDia -consumo_cerveja4', 'QtdeDia -consumo_cerveja5',\n",
      "       'QtdeDia -consumo_cerveja6', 'QtdeDia -consumo_cerveja7',\n",
      "       'QtdeDia -dia1', 'QtdeDia -dia2'],\n",
      "      dtype='object')\n",
      "Index(['data', 'media', 'min', 'max', 'precipitacao', 'fds', 'consumo_cerveja',\n",
      "       'ano', 'mes', 'dia', 'diadasemana', 'periodo_mes', 'chuva',\n",
      "       'grande_chuva', 'QtdeDia -media1', 'QtdeDia -media2', 'QtdeDia -media3',\n",
      "       'QtdeDia -media4', 'QtdeDia -media5', 'QtdeDia -media6',\n",
      "       'QtdeDia -media7', 'QtdeDia -min1', 'QtdeDia -min2', 'QtdeDia -min3',\n",
      "       'QtdeDia -min4', 'QtdeDia -min5', 'QtdeDia -min6', 'QtdeDia -min7',\n",
      "       'QtdeDia -max1', 'QtdeDia -max2', 'QtdeDia -max3', 'QtdeDia -max4',\n",
      "       'QtdeDia -max5', 'QtdeDia -max6', 'QtdeDia -max7',\n",
      "       'QtdeDia -precipitacao1', 'QtdeDia -precipitacao2',\n",
      "       'QtdeDia -precipitacao3', 'QtdeDia -precipitacao4',\n",
      "       'QtdeDia -precipitacao5', 'QtdeDia -precipitacao6',\n",
      "       'QtdeDia -precipitacao7', 'QtdeDia -fds1', 'QtdeDia -fds2',\n",
      "       'QtdeDia -fds3', 'QtdeDia -fds4', 'QtdeDia -fds5', 'QtdeDia -fds6',\n",
      "       'QtdeDia -fds7', 'QtdeDia -consumo_cerveja1',\n",
      "       'QtdeDia -consumo_cerveja2', 'QtdeDia -consumo_cerveja3',\n",
      "       'QtdeDia -consumo_cerveja4', 'QtdeDia -consumo_cerveja5',\n",
      "       'QtdeDia -consumo_cerveja6', 'QtdeDia -consumo_cerveja7',\n",
      "       'QtdeDia -dia1', 'QtdeDia -dia2', 'QtdeDia -dia3'],\n",
      "      dtype='object')\n",
      "Index(['data', 'media', 'min', 'max', 'precipitacao', 'fds', 'consumo_cerveja',\n",
      "       'ano', 'mes', 'dia', 'diadasemana', 'periodo_mes', 'chuva',\n",
      "       'grande_chuva', 'QtdeDia -media1', 'QtdeDia -media2', 'QtdeDia -media3',\n",
      "       'QtdeDia -media4', 'QtdeDia -media5', 'QtdeDia -media6',\n",
      "       'QtdeDia -media7', 'QtdeDia -min1', 'QtdeDia -min2', 'QtdeDia -min3',\n",
      "       'QtdeDia -min4', 'QtdeDia -min5', 'QtdeDia -min6', 'QtdeDia -min7',\n",
      "       'QtdeDia -max1', 'QtdeDia -max2', 'QtdeDia -max3', 'QtdeDia -max4',\n",
      "       'QtdeDia -max5', 'QtdeDia -max6', 'QtdeDia -max7',\n",
      "       'QtdeDia -precipitacao1', 'QtdeDia -precipitacao2',\n",
      "       'QtdeDia -precipitacao3', 'QtdeDia -precipitacao4',\n",
      "       'QtdeDia -precipitacao5', 'QtdeDia -precipitacao6',\n",
      "       'QtdeDia -precipitacao7', 'QtdeDia -fds1', 'QtdeDia -fds2',\n",
      "       'QtdeDia -fds3', 'QtdeDia -fds4', 'QtdeDia -fds5', 'QtdeDia -fds6',\n",
      "       'QtdeDia -fds7', 'QtdeDia -consumo_cerveja1',\n",
      "       'QtdeDia -consumo_cerveja2', 'QtdeDia -consumo_cerveja3',\n",
      "       'QtdeDia -consumo_cerveja4', 'QtdeDia -consumo_cerveja5',\n",
      "       'QtdeDia -consumo_cerveja6', 'QtdeDia -consumo_cerveja7',\n",
      "       'QtdeDia -dia1', 'QtdeDia -dia2', 'QtdeDia -dia3', 'QtdeDia -dia4'],\n",
      "      dtype='object')\n",
      "Index(['data', 'media', 'min', 'max', 'precipitacao', 'fds', 'consumo_cerveja',\n",
      "       'ano', 'mes', 'dia', 'diadasemana', 'periodo_mes', 'chuva',\n",
      "       'grande_chuva', 'QtdeDia -media1', 'QtdeDia -media2', 'QtdeDia -media3',\n",
      "       'QtdeDia -media4', 'QtdeDia -media5', 'QtdeDia -media6',\n",
      "       'QtdeDia -media7', 'QtdeDia -min1', 'QtdeDia -min2', 'QtdeDia -min3',\n",
      "       'QtdeDia -min4', 'QtdeDia -min5', 'QtdeDia -min6', 'QtdeDia -min7',\n",
      "       'QtdeDia -max1', 'QtdeDia -max2', 'QtdeDia -max3', 'QtdeDia -max4',\n",
      "       'QtdeDia -max5', 'QtdeDia -max6', 'QtdeDia -max7',\n",
      "       'QtdeDia -precipitacao1', 'QtdeDia -precipitacao2',\n",
      "       'QtdeDia -precipitacao3', 'QtdeDia -precipitacao4',\n",
      "       'QtdeDia -precipitacao5', 'QtdeDia -precipitacao6',\n",
      "       'QtdeDia -precipitacao7', 'QtdeDia -fds1', 'QtdeDia -fds2',\n",
      "       'QtdeDia -fds3', 'QtdeDia -fds4', 'QtdeDia -fds5', 'QtdeDia -fds6',\n",
      "       'QtdeDia -fds7', 'QtdeDia -consumo_cerveja1',\n",
      "       'QtdeDia -consumo_cerveja2', 'QtdeDia -consumo_cerveja3',\n",
      "       'QtdeDia -consumo_cerveja4', 'QtdeDia -consumo_cerveja5',\n",
      "       'QtdeDia -consumo_cerveja6', 'QtdeDia -consumo_cerveja7',\n",
      "       'QtdeDia -dia1', 'QtdeDia -dia2', 'QtdeDia -dia3', 'QtdeDia -dia4',\n",
      "       'QtdeDia -dia5'],\n",
      "      dtype='object')\n",
      "Index(['data', 'media', 'min', 'max', 'precipitacao', 'fds', 'consumo_cerveja',\n",
      "       'ano', 'mes', 'dia', 'diadasemana', 'periodo_mes', 'chuva',\n",
      "       'grande_chuva', 'QtdeDia -media1', 'QtdeDia -media2', 'QtdeDia -media3',\n",
      "       'QtdeDia -media4', 'QtdeDia -media5', 'QtdeDia -media6',\n",
      "       'QtdeDia -media7', 'QtdeDia -min1', 'QtdeDia -min2', 'QtdeDia -min3',\n",
      "       'QtdeDia -min4', 'QtdeDia -min5', 'QtdeDia -min6', 'QtdeDia -min7',\n",
      "       'QtdeDia -max1', 'QtdeDia -max2', 'QtdeDia -max3', 'QtdeDia -max4',\n",
      "       'QtdeDia -max5', 'QtdeDia -max6', 'QtdeDia -max7',\n",
      "       'QtdeDia -precipitacao1', 'QtdeDia -precipitacao2',\n",
      "       'QtdeDia -precipitacao3', 'QtdeDia -precipitacao4',\n",
      "       'QtdeDia -precipitacao5', 'QtdeDia -precipitacao6',\n",
      "       'QtdeDia -precipitacao7', 'QtdeDia -fds1', 'QtdeDia -fds2',\n",
      "       'QtdeDia -fds3', 'QtdeDia -fds4', 'QtdeDia -fds5', 'QtdeDia -fds6',\n",
      "       'QtdeDia -fds7', 'QtdeDia -consumo_cerveja1',\n",
      "       'QtdeDia -consumo_cerveja2', 'QtdeDia -consumo_cerveja3',\n",
      "       'QtdeDia -consumo_cerveja4', 'QtdeDia -consumo_cerveja5',\n",
      "       'QtdeDia -consumo_cerveja6', 'QtdeDia -consumo_cerveja7',\n",
      "       'QtdeDia -dia1', 'QtdeDia -dia2', 'QtdeDia -dia3', 'QtdeDia -dia4',\n",
      "       'QtdeDia -dia5', 'QtdeDia -dia6'],\n",
      "      dtype='object')\n",
      "Index(['data', 'media', 'min', 'max', 'precipitacao', 'fds', 'consumo_cerveja',\n",
      "       'ano', 'mes', 'dia', 'diadasemana', 'periodo_mes', 'chuva',\n",
      "       'grande_chuva', 'QtdeDia -media1', 'QtdeDia -media2', 'QtdeDia -media3',\n",
      "       'QtdeDia -media4', 'QtdeDia -media5', 'QtdeDia -media6',\n",
      "       'QtdeDia -media7', 'QtdeDia -min1', 'QtdeDia -min2', 'QtdeDia -min3',\n",
      "       'QtdeDia -min4', 'QtdeDia -min5', 'QtdeDia -min6', 'QtdeDia -min7',\n",
      "       'QtdeDia -max1', 'QtdeDia -max2', 'QtdeDia -max3', 'QtdeDia -max4',\n",
      "       'QtdeDia -max5', 'QtdeDia -max6', 'QtdeDia -max7',\n",
      "       'QtdeDia -precipitacao1', 'QtdeDia -precipitacao2',\n",
      "       'QtdeDia -precipitacao3', 'QtdeDia -precipitacao4',\n",
      "       'QtdeDia -precipitacao5', 'QtdeDia -precipitacao6',\n",
      "       'QtdeDia -precipitacao7', 'QtdeDia -fds1', 'QtdeDia -fds2',\n",
      "       'QtdeDia -fds3', 'QtdeDia -fds4', 'QtdeDia -fds5', 'QtdeDia -fds6',\n",
      "       'QtdeDia -fds7', 'QtdeDia -consumo_cerveja1',\n",
      "       'QtdeDia -consumo_cerveja2', 'QtdeDia -consumo_cerveja3',\n",
      "       'QtdeDia -consumo_cerveja4', 'QtdeDia -consumo_cerveja5',\n",
      "       'QtdeDia -consumo_cerveja6', 'QtdeDia -consumo_cerveja7',\n",
      "       'QtdeDia -dia1', 'QtdeDia -dia2', 'QtdeDia -dia3', 'QtdeDia -dia4',\n",
      "       'QtdeDia -dia5', 'QtdeDia -dia6', 'QtdeDia -dia7'],\n",
      "      dtype='object')\n",
      "Index(['data', 'media', 'min', 'max', 'precipitacao', 'fds', 'consumo_cerveja',\n",
      "       'ano', 'mes', 'dia', 'diadasemana', 'periodo_mes', 'chuva',\n",
      "       'grande_chuva', 'QtdeDia -media1', 'QtdeDia -media2', 'QtdeDia -media3',\n",
      "       'QtdeDia -media4', 'QtdeDia -media5', 'QtdeDia -media6',\n",
      "       'QtdeDia -media7', 'QtdeDia -min1', 'QtdeDia -min2', 'QtdeDia -min3',\n",
      "       'QtdeDia -min4', 'QtdeDia -min5', 'QtdeDia -min6', 'QtdeDia -min7',\n",
      "       'QtdeDia -max1', 'QtdeDia -max2', 'QtdeDia -max3', 'QtdeDia -max4',\n",
      "       'QtdeDia -max5', 'QtdeDia -max6', 'QtdeDia -max7',\n",
      "       'QtdeDia -precipitacao1', 'QtdeDia -precipitacao2',\n",
      "       'QtdeDia -precipitacao3', 'QtdeDia -precipitacao4',\n",
      "       'QtdeDia -precipitacao5', 'QtdeDia -precipitacao6',\n",
      "       'QtdeDia -precipitacao7', 'QtdeDia -fds1', 'QtdeDia -fds2',\n",
      "       'QtdeDia -fds3', 'QtdeDia -fds4', 'QtdeDia -fds5', 'QtdeDia -fds6',\n",
      "       'QtdeDia -fds7', 'QtdeDia -consumo_cerveja1',\n",
      "       'QtdeDia -consumo_cerveja2', 'QtdeDia -consumo_cerveja3',\n",
      "       'QtdeDia -consumo_cerveja4', 'QtdeDia -consumo_cerveja5',\n",
      "       'QtdeDia -consumo_cerveja6', 'QtdeDia -consumo_cerveja7',\n",
      "       'QtdeDia -dia1', 'QtdeDia -dia2', 'QtdeDia -dia3', 'QtdeDia -dia4',\n",
      "       'QtdeDia -dia5', 'QtdeDia -dia6', 'QtdeDia -dia7',\n",
      "       'QtdeDia -periodo_mes1'],\n",
      "      dtype='object')\n",
      "Index(['data', 'media', 'min', 'max', 'precipitacao', 'fds', 'consumo_cerveja',\n",
      "       'ano', 'mes', 'dia', 'diadasemana', 'periodo_mes', 'chuva',\n",
      "       'grande_chuva', 'QtdeDia -media1', 'QtdeDia -media2', 'QtdeDia -media3',\n",
      "       'QtdeDia -media4', 'QtdeDia -media5', 'QtdeDia -media6',\n",
      "       'QtdeDia -media7', 'QtdeDia -min1', 'QtdeDia -min2', 'QtdeDia -min3',\n",
      "       'QtdeDia -min4', 'QtdeDia -min5', 'QtdeDia -min6', 'QtdeDia -min7',\n",
      "       'QtdeDia -max1', 'QtdeDia -max2', 'QtdeDia -max3', 'QtdeDia -max4',\n",
      "       'QtdeDia -max5', 'QtdeDia -max6', 'QtdeDia -max7',\n",
      "       'QtdeDia -precipitacao1', 'QtdeDia -precipitacao2',\n",
      "       'QtdeDia -precipitacao3', 'QtdeDia -precipitacao4',\n",
      "       'QtdeDia -precipitacao5', 'QtdeDia -precipitacao6',\n",
      "       'QtdeDia -precipitacao7', 'QtdeDia -fds1', 'QtdeDia -fds2',\n",
      "       'QtdeDia -fds3', 'QtdeDia -fds4', 'QtdeDia -fds5', 'QtdeDia -fds6',\n",
      "       'QtdeDia -fds7', 'QtdeDia -consumo_cerveja1',\n",
      "       'QtdeDia -consumo_cerveja2', 'QtdeDia -consumo_cerveja3',\n",
      "       'QtdeDia -consumo_cerveja4', 'QtdeDia -consumo_cerveja5',\n",
      "       'QtdeDia -consumo_cerveja6', 'QtdeDia -consumo_cerveja7',\n",
      "       'QtdeDia -dia1', 'QtdeDia -dia2', 'QtdeDia -dia3', 'QtdeDia -dia4',\n",
      "       'QtdeDia -dia5', 'QtdeDia -dia6', 'QtdeDia -dia7',\n",
      "       'QtdeDia -periodo_mes1', 'QtdeDia -periodo_mes2'],\n",
      "      dtype='object')\n",
      "Index(['data', 'media', 'min', 'max', 'precipitacao', 'fds', 'consumo_cerveja',\n",
      "       'ano', 'mes', 'dia', 'diadasemana', 'periodo_mes', 'chuva',\n",
      "       'grande_chuva', 'QtdeDia -media1', 'QtdeDia -media2', 'QtdeDia -media3',\n",
      "       'QtdeDia -media4', 'QtdeDia -media5', 'QtdeDia -media6',\n",
      "       'QtdeDia -media7', 'QtdeDia -min1', 'QtdeDia -min2', 'QtdeDia -min3',\n",
      "       'QtdeDia -min4', 'QtdeDia -min5', 'QtdeDia -min6', 'QtdeDia -min7',\n",
      "       'QtdeDia -max1', 'QtdeDia -max2', 'QtdeDia -max3', 'QtdeDia -max4',\n",
      "       'QtdeDia -max5', 'QtdeDia -max6', 'QtdeDia -max7',\n",
      "       'QtdeDia -precipitacao1', 'QtdeDia -precipitacao2',\n",
      "       'QtdeDia -precipitacao3', 'QtdeDia -precipitacao4',\n",
      "       'QtdeDia -precipitacao5', 'QtdeDia -precipitacao6',\n",
      "       'QtdeDia -precipitacao7', 'QtdeDia -fds1', 'QtdeDia -fds2',\n",
      "       'QtdeDia -fds3', 'QtdeDia -fds4', 'QtdeDia -fds5', 'QtdeDia -fds6',\n",
      "       'QtdeDia -fds7', 'QtdeDia -consumo_cerveja1',\n",
      "       'QtdeDia -consumo_cerveja2', 'QtdeDia -consumo_cerveja3',\n",
      "       'QtdeDia -consumo_cerveja4', 'QtdeDia -consumo_cerveja5',\n",
      "       'QtdeDia -consumo_cerveja6', 'QtdeDia -consumo_cerveja7',\n",
      "       'QtdeDia -dia1', 'QtdeDia -dia2', 'QtdeDia -dia3', 'QtdeDia -dia4',\n",
      "       'QtdeDia -dia5', 'QtdeDia -dia6', 'QtdeDia -dia7',\n",
      "       'QtdeDia -periodo_mes1', 'QtdeDia -periodo_mes2',\n",
      "       'QtdeDia -periodo_mes3'],\n",
      "      dtype='object')\n",
      "Index(['data', 'media', 'min', 'max', 'precipitacao', 'fds', 'consumo_cerveja',\n",
      "       'ano', 'mes', 'dia', 'diadasemana', 'periodo_mes', 'chuva',\n",
      "       'grande_chuva', 'QtdeDia -media1', 'QtdeDia -media2', 'QtdeDia -media3',\n",
      "       'QtdeDia -media4', 'QtdeDia -media5', 'QtdeDia -media6',\n",
      "       'QtdeDia -media7', 'QtdeDia -min1', 'QtdeDia -min2', 'QtdeDia -min3',\n",
      "       'QtdeDia -min4', 'QtdeDia -min5', 'QtdeDia -min6', 'QtdeDia -min7',\n",
      "       'QtdeDia -max1', 'QtdeDia -max2', 'QtdeDia -max3', 'QtdeDia -max4',\n",
      "       'QtdeDia -max5', 'QtdeDia -max6', 'QtdeDia -max7',\n",
      "       'QtdeDia -precipitacao1', 'QtdeDia -precipitacao2',\n",
      "       'QtdeDia -precipitacao3', 'QtdeDia -precipitacao4',\n",
      "       'QtdeDia -precipitacao5', 'QtdeDia -precipitacao6',\n",
      "       'QtdeDia -precipitacao7', 'QtdeDia -fds1', 'QtdeDia -fds2',\n",
      "       'QtdeDia -fds3', 'QtdeDia -fds4', 'QtdeDia -fds5', 'QtdeDia -fds6',\n",
      "       'QtdeDia -fds7', 'QtdeDia -consumo_cerveja1',\n",
      "       'QtdeDia -consumo_cerveja2', 'QtdeDia -consumo_cerveja3',\n",
      "       'QtdeDia -consumo_cerveja4', 'QtdeDia -consumo_cerveja5',\n",
      "       'QtdeDia -consumo_cerveja6', 'QtdeDia -consumo_cerveja7',\n",
      "       'QtdeDia -dia1', 'QtdeDia -dia2', 'QtdeDia -dia3', 'QtdeDia -dia4',\n",
      "       'QtdeDia -dia5', 'QtdeDia -dia6', 'QtdeDia -dia7',\n",
      "       'QtdeDia -periodo_mes1', 'QtdeDia -periodo_mes2',\n",
      "       'QtdeDia -periodo_mes3', 'QtdeDia -periodo_mes4'],\n",
      "      dtype='object')\n",
      "Index(['data', 'media', 'min', 'max', 'precipitacao', 'fds', 'consumo_cerveja',\n",
      "       'ano', 'mes', 'dia', 'diadasemana', 'periodo_mes', 'chuva',\n",
      "       'grande_chuva', 'QtdeDia -media1', 'QtdeDia -media2', 'QtdeDia -media3',\n",
      "       'QtdeDia -media4', 'QtdeDia -media5', 'QtdeDia -media6',\n",
      "       'QtdeDia -media7', 'QtdeDia -min1', 'QtdeDia -min2', 'QtdeDia -min3',\n",
      "       'QtdeDia -min4', 'QtdeDia -min5', 'QtdeDia -min6', 'QtdeDia -min7',\n",
      "       'QtdeDia -max1', 'QtdeDia -max2', 'QtdeDia -max3', 'QtdeDia -max4',\n",
      "       'QtdeDia -max5', 'QtdeDia -max6', 'QtdeDia -max7',\n",
      "       'QtdeDia -precipitacao1', 'QtdeDia -precipitacao2',\n",
      "       'QtdeDia -precipitacao3', 'QtdeDia -precipitacao4',\n",
      "       'QtdeDia -precipitacao5', 'QtdeDia -precipitacao6',\n",
      "       'QtdeDia -precipitacao7', 'QtdeDia -fds1', 'QtdeDia -fds2',\n",
      "       'QtdeDia -fds3', 'QtdeDia -fds4', 'QtdeDia -fds5', 'QtdeDia -fds6',\n",
      "       'QtdeDia -fds7', 'QtdeDia -consumo_cerveja1',\n",
      "       'QtdeDia -consumo_cerveja2', 'QtdeDia -consumo_cerveja3',\n",
      "       'QtdeDia -consumo_cerveja4', 'QtdeDia -consumo_cerveja5',\n",
      "       'QtdeDia -consumo_cerveja6', 'QtdeDia -consumo_cerveja7',\n",
      "       'QtdeDia -dia1', 'QtdeDia -dia2', 'QtdeDia -dia3', 'QtdeDia -dia4',\n",
      "       'QtdeDia -dia5', 'QtdeDia -dia6', 'QtdeDia -dia7',\n",
      "       'QtdeDia -periodo_mes1', 'QtdeDia -periodo_mes2',\n",
      "       'QtdeDia -periodo_mes3', 'QtdeDia -periodo_mes4',\n",
      "       'QtdeDia -periodo_mes5'],\n",
      "      dtype='object')\n",
      "Index(['data', 'media', 'min', 'max', 'precipitacao', 'fds', 'consumo_cerveja',\n",
      "       'ano', 'mes', 'dia', 'diadasemana', 'periodo_mes', 'chuva',\n",
      "       'grande_chuva', 'QtdeDia -media1', 'QtdeDia -media2', 'QtdeDia -media3',\n",
      "       'QtdeDia -media4', 'QtdeDia -media5', 'QtdeDia -media6',\n",
      "       'QtdeDia -media7', 'QtdeDia -min1', 'QtdeDia -min2', 'QtdeDia -min3',\n",
      "       'QtdeDia -min4', 'QtdeDia -min5', 'QtdeDia -min6', 'QtdeDia -min7',\n",
      "       'QtdeDia -max1', 'QtdeDia -max2', 'QtdeDia -max3', 'QtdeDia -max4',\n",
      "       'QtdeDia -max5', 'QtdeDia -max6', 'QtdeDia -max7',\n",
      "       'QtdeDia -precipitacao1', 'QtdeDia -precipitacao2',\n",
      "       'QtdeDia -precipitacao3', 'QtdeDia -precipitacao4',\n",
      "       'QtdeDia -precipitacao5', 'QtdeDia -precipitacao6',\n",
      "       'QtdeDia -precipitacao7', 'QtdeDia -fds1', 'QtdeDia -fds2',\n",
      "       'QtdeDia -fds3', 'QtdeDia -fds4', 'QtdeDia -fds5', 'QtdeDia -fds6',\n",
      "       'QtdeDia -fds7', 'QtdeDia -consumo_cerveja1',\n",
      "       'QtdeDia -consumo_cerveja2', 'QtdeDia -consumo_cerveja3',\n",
      "       'QtdeDia -consumo_cerveja4', 'QtdeDia -consumo_cerveja5',\n",
      "       'QtdeDia -consumo_cerveja6', 'QtdeDia -consumo_cerveja7',\n",
      "       'QtdeDia -dia1', 'QtdeDia -dia2', 'QtdeDia -dia3', 'QtdeDia -dia4',\n",
      "       'QtdeDia -dia5', 'QtdeDia -dia6', 'QtdeDia -dia7',\n",
      "       'QtdeDia -periodo_mes1', 'QtdeDia -periodo_mes2',\n",
      "       'QtdeDia -periodo_mes3', 'QtdeDia -periodo_mes4',\n",
      "       'QtdeDia -periodo_mes5', 'QtdeDia -periodo_mes6'],\n",
      "      dtype='object')\n",
      "Index(['data', 'media', 'min', 'max', 'precipitacao', 'fds', 'consumo_cerveja',\n",
      "       'ano', 'mes', 'dia', 'diadasemana', 'periodo_mes', 'chuva',\n",
      "       'grande_chuva', 'QtdeDia -media1', 'QtdeDia -media2', 'QtdeDia -media3',\n",
      "       'QtdeDia -media4', 'QtdeDia -media5', 'QtdeDia -media6',\n",
      "       'QtdeDia -media7', 'QtdeDia -min1', 'QtdeDia -min2', 'QtdeDia -min3',\n",
      "       'QtdeDia -min4', 'QtdeDia -min5', 'QtdeDia -min6', 'QtdeDia -min7',\n",
      "       'QtdeDia -max1', 'QtdeDia -max2', 'QtdeDia -max3', 'QtdeDia -max4',\n",
      "       'QtdeDia -max5', 'QtdeDia -max6', 'QtdeDia -max7',\n",
      "       'QtdeDia -precipitacao1', 'QtdeDia -precipitacao2',\n",
      "       'QtdeDia -precipitacao3', 'QtdeDia -precipitacao4',\n",
      "       'QtdeDia -precipitacao5', 'QtdeDia -precipitacao6',\n",
      "       'QtdeDia -precipitacao7', 'QtdeDia -fds1', 'QtdeDia -fds2',\n",
      "       'QtdeDia -fds3', 'QtdeDia -fds4', 'QtdeDia -fds5', 'QtdeDia -fds6',\n",
      "       'QtdeDia -fds7', 'QtdeDia -consumo_cerveja1',\n",
      "       'QtdeDia -consumo_cerveja2', 'QtdeDia -consumo_cerveja3',\n",
      "       'QtdeDia -consumo_cerveja4', 'QtdeDia -consumo_cerveja5',\n",
      "       'QtdeDia -consumo_cerveja6', 'QtdeDia -consumo_cerveja7',\n",
      "       'QtdeDia -dia1', 'QtdeDia -dia2', 'QtdeDia -dia3', 'QtdeDia -dia4',\n",
      "       'QtdeDia -dia5', 'QtdeDia -dia6', 'QtdeDia -dia7',\n",
      "       'QtdeDia -periodo_mes1', 'QtdeDia -periodo_mes2',\n",
      "       'QtdeDia -periodo_mes3', 'QtdeDia -periodo_mes4',\n",
      "       'QtdeDia -periodo_mes5', 'QtdeDia -periodo_mes6',\n",
      "       'QtdeDia -periodo_mes7'],\n",
      "      dtype='object')\n",
      "Index(['data', 'media', 'min', 'max', 'precipitacao', 'fds', 'consumo_cerveja',\n",
      "       'ano', 'mes', 'dia', 'diadasemana', 'periodo_mes', 'chuva',\n",
      "       'grande_chuva', 'QtdeDia -media1', 'QtdeDia -media2', 'QtdeDia -media3',\n",
      "       'QtdeDia -media4', 'QtdeDia -media5', 'QtdeDia -media6',\n",
      "       'QtdeDia -media7', 'QtdeDia -min1', 'QtdeDia -min2', 'QtdeDia -min3',\n",
      "       'QtdeDia -min4', 'QtdeDia -min5', 'QtdeDia -min6', 'QtdeDia -min7',\n",
      "       'QtdeDia -max1', 'QtdeDia -max2', 'QtdeDia -max3', 'QtdeDia -max4',\n",
      "       'QtdeDia -max5', 'QtdeDia -max6', 'QtdeDia -max7',\n",
      "       'QtdeDia -precipitacao1', 'QtdeDia -precipitacao2',\n",
      "       'QtdeDia -precipitacao3', 'QtdeDia -precipitacao4',\n",
      "       'QtdeDia -precipitacao5', 'QtdeDia -precipitacao6',\n",
      "       'QtdeDia -precipitacao7', 'QtdeDia -fds1', 'QtdeDia -fds2',\n",
      "       'QtdeDia -fds3', 'QtdeDia -fds4', 'QtdeDia -fds5', 'QtdeDia -fds6',\n",
      "       'QtdeDia -fds7', 'QtdeDia -consumo_cerveja1',\n",
      "       'QtdeDia -consumo_cerveja2', 'QtdeDia -consumo_cerveja3',\n",
      "       'QtdeDia -consumo_cerveja4', 'QtdeDia -consumo_cerveja5',\n",
      "       'QtdeDia -consumo_cerveja6', 'QtdeDia -consumo_cerveja7',\n",
      "       'QtdeDia -dia1', 'QtdeDia -dia2', 'QtdeDia -dia3', 'QtdeDia -dia4',\n",
      "       'QtdeDia -dia5', 'QtdeDia -dia6', 'QtdeDia -dia7',\n",
      "       'QtdeDia -periodo_mes1', 'QtdeDia -periodo_mes2',\n",
      "       'QtdeDia -periodo_mes3', 'QtdeDia -periodo_mes4',\n",
      "       'QtdeDia -periodo_mes5', 'QtdeDia -periodo_mes6',\n",
      "       'QtdeDia -periodo_mes7', 'QtdeDia -chuva1'],\n",
      "      dtype='object')\n"
     ]
    },
    {
     "name": "stdout",
     "output_type": "stream",
     "text": [
      "Index(['data', 'media', 'min', 'max', 'precipitacao', 'fds', 'consumo_cerveja',\n",
      "       'ano', 'mes', 'dia', 'diadasemana', 'periodo_mes', 'chuva',\n",
      "       'grande_chuva', 'QtdeDia -media1', 'QtdeDia -media2', 'QtdeDia -media3',\n",
      "       'QtdeDia -media4', 'QtdeDia -media5', 'QtdeDia -media6',\n",
      "       'QtdeDia -media7', 'QtdeDia -min1', 'QtdeDia -min2', 'QtdeDia -min3',\n",
      "       'QtdeDia -min4', 'QtdeDia -min5', 'QtdeDia -min6', 'QtdeDia -min7',\n",
      "       'QtdeDia -max1', 'QtdeDia -max2', 'QtdeDia -max3', 'QtdeDia -max4',\n",
      "       'QtdeDia -max5', 'QtdeDia -max6', 'QtdeDia -max7',\n",
      "       'QtdeDia -precipitacao1', 'QtdeDia -precipitacao2',\n",
      "       'QtdeDia -precipitacao3', 'QtdeDia -precipitacao4',\n",
      "       'QtdeDia -precipitacao5', 'QtdeDia -precipitacao6',\n",
      "       'QtdeDia -precipitacao7', 'QtdeDia -fds1', 'QtdeDia -fds2',\n",
      "       'QtdeDia -fds3', 'QtdeDia -fds4', 'QtdeDia -fds5', 'QtdeDia -fds6',\n",
      "       'QtdeDia -fds7', 'QtdeDia -consumo_cerveja1',\n",
      "       'QtdeDia -consumo_cerveja2', 'QtdeDia -consumo_cerveja3',\n",
      "       'QtdeDia -consumo_cerveja4', 'QtdeDia -consumo_cerveja5',\n",
      "       'QtdeDia -consumo_cerveja6', 'QtdeDia -consumo_cerveja7',\n",
      "       'QtdeDia -dia1', 'QtdeDia -dia2', 'QtdeDia -dia3', 'QtdeDia -dia4',\n",
      "       'QtdeDia -dia5', 'QtdeDia -dia6', 'QtdeDia -dia7',\n",
      "       'QtdeDia -periodo_mes1', 'QtdeDia -periodo_mes2',\n",
      "       'QtdeDia -periodo_mes3', 'QtdeDia -periodo_mes4',\n",
      "       'QtdeDia -periodo_mes5', 'QtdeDia -periodo_mes6',\n",
      "       'QtdeDia -periodo_mes7', 'QtdeDia -chuva1', 'QtdeDia -chuva2'],\n",
      "      dtype='object')\n",
      "Index(['data', 'media', 'min', 'max', 'precipitacao', 'fds', 'consumo_cerveja',\n",
      "       'ano', 'mes', 'dia', 'diadasemana', 'periodo_mes', 'chuva',\n",
      "       'grande_chuva', 'QtdeDia -media1', 'QtdeDia -media2', 'QtdeDia -media3',\n",
      "       'QtdeDia -media4', 'QtdeDia -media5', 'QtdeDia -media6',\n",
      "       'QtdeDia -media7', 'QtdeDia -min1', 'QtdeDia -min2', 'QtdeDia -min3',\n",
      "       'QtdeDia -min4', 'QtdeDia -min5', 'QtdeDia -min6', 'QtdeDia -min7',\n",
      "       'QtdeDia -max1', 'QtdeDia -max2', 'QtdeDia -max3', 'QtdeDia -max4',\n",
      "       'QtdeDia -max5', 'QtdeDia -max6', 'QtdeDia -max7',\n",
      "       'QtdeDia -precipitacao1', 'QtdeDia -precipitacao2',\n",
      "       'QtdeDia -precipitacao3', 'QtdeDia -precipitacao4',\n",
      "       'QtdeDia -precipitacao5', 'QtdeDia -precipitacao6',\n",
      "       'QtdeDia -precipitacao7', 'QtdeDia -fds1', 'QtdeDia -fds2',\n",
      "       'QtdeDia -fds3', 'QtdeDia -fds4', 'QtdeDia -fds5', 'QtdeDia -fds6',\n",
      "       'QtdeDia -fds7', 'QtdeDia -consumo_cerveja1',\n",
      "       'QtdeDia -consumo_cerveja2', 'QtdeDia -consumo_cerveja3',\n",
      "       'QtdeDia -consumo_cerveja4', 'QtdeDia -consumo_cerveja5',\n",
      "       'QtdeDia -consumo_cerveja6', 'QtdeDia -consumo_cerveja7',\n",
      "       'QtdeDia -dia1', 'QtdeDia -dia2', 'QtdeDia -dia3', 'QtdeDia -dia4',\n",
      "       'QtdeDia -dia5', 'QtdeDia -dia6', 'QtdeDia -dia7',\n",
      "       'QtdeDia -periodo_mes1', 'QtdeDia -periodo_mes2',\n",
      "       'QtdeDia -periodo_mes3', 'QtdeDia -periodo_mes4',\n",
      "       'QtdeDia -periodo_mes5', 'QtdeDia -periodo_mes6',\n",
      "       'QtdeDia -periodo_mes7', 'QtdeDia -chuva1', 'QtdeDia -chuva2',\n",
      "       'QtdeDia -chuva3'],\n",
      "      dtype='object')\n",
      "Index(['data', 'media', 'min', 'max', 'precipitacao', 'fds', 'consumo_cerveja',\n",
      "       'ano', 'mes', 'dia', 'diadasemana', 'periodo_mes', 'chuva',\n",
      "       'grande_chuva', 'QtdeDia -media1', 'QtdeDia -media2', 'QtdeDia -media3',\n",
      "       'QtdeDia -media4', 'QtdeDia -media5', 'QtdeDia -media6',\n",
      "       'QtdeDia -media7', 'QtdeDia -min1', 'QtdeDia -min2', 'QtdeDia -min3',\n",
      "       'QtdeDia -min4', 'QtdeDia -min5', 'QtdeDia -min6', 'QtdeDia -min7',\n",
      "       'QtdeDia -max1', 'QtdeDia -max2', 'QtdeDia -max3', 'QtdeDia -max4',\n",
      "       'QtdeDia -max5', 'QtdeDia -max6', 'QtdeDia -max7',\n",
      "       'QtdeDia -precipitacao1', 'QtdeDia -precipitacao2',\n",
      "       'QtdeDia -precipitacao3', 'QtdeDia -precipitacao4',\n",
      "       'QtdeDia -precipitacao5', 'QtdeDia -precipitacao6',\n",
      "       'QtdeDia -precipitacao7', 'QtdeDia -fds1', 'QtdeDia -fds2',\n",
      "       'QtdeDia -fds3', 'QtdeDia -fds4', 'QtdeDia -fds5', 'QtdeDia -fds6',\n",
      "       'QtdeDia -fds7', 'QtdeDia -consumo_cerveja1',\n",
      "       'QtdeDia -consumo_cerveja2', 'QtdeDia -consumo_cerveja3',\n",
      "       'QtdeDia -consumo_cerveja4', 'QtdeDia -consumo_cerveja5',\n",
      "       'QtdeDia -consumo_cerveja6', 'QtdeDia -consumo_cerveja7',\n",
      "       'QtdeDia -dia1', 'QtdeDia -dia2', 'QtdeDia -dia3', 'QtdeDia -dia4',\n",
      "       'QtdeDia -dia5', 'QtdeDia -dia6', 'QtdeDia -dia7',\n",
      "       'QtdeDia -periodo_mes1', 'QtdeDia -periodo_mes2',\n",
      "       'QtdeDia -periodo_mes3', 'QtdeDia -periodo_mes4',\n",
      "       'QtdeDia -periodo_mes5', 'QtdeDia -periodo_mes6',\n",
      "       'QtdeDia -periodo_mes7', 'QtdeDia -chuva1', 'QtdeDia -chuva2',\n",
      "       'QtdeDia -chuva3', 'QtdeDia -chuva4'],\n",
      "      dtype='object')\n",
      "Index(['data', 'media', 'min', 'max', 'precipitacao', 'fds', 'consumo_cerveja',\n",
      "       'ano', 'mes', 'dia', 'diadasemana', 'periodo_mes', 'chuva',\n",
      "       'grande_chuva', 'QtdeDia -media1', 'QtdeDia -media2', 'QtdeDia -media3',\n",
      "       'QtdeDia -media4', 'QtdeDia -media5', 'QtdeDia -media6',\n",
      "       'QtdeDia -media7', 'QtdeDia -min1', 'QtdeDia -min2', 'QtdeDia -min3',\n",
      "       'QtdeDia -min4', 'QtdeDia -min5', 'QtdeDia -min6', 'QtdeDia -min7',\n",
      "       'QtdeDia -max1', 'QtdeDia -max2', 'QtdeDia -max3', 'QtdeDia -max4',\n",
      "       'QtdeDia -max5', 'QtdeDia -max6', 'QtdeDia -max7',\n",
      "       'QtdeDia -precipitacao1', 'QtdeDia -precipitacao2',\n",
      "       'QtdeDia -precipitacao3', 'QtdeDia -precipitacao4',\n",
      "       'QtdeDia -precipitacao5', 'QtdeDia -precipitacao6',\n",
      "       'QtdeDia -precipitacao7', 'QtdeDia -fds1', 'QtdeDia -fds2',\n",
      "       'QtdeDia -fds3', 'QtdeDia -fds4', 'QtdeDia -fds5', 'QtdeDia -fds6',\n",
      "       'QtdeDia -fds7', 'QtdeDia -consumo_cerveja1',\n",
      "       'QtdeDia -consumo_cerveja2', 'QtdeDia -consumo_cerveja3',\n",
      "       'QtdeDia -consumo_cerveja4', 'QtdeDia -consumo_cerveja5',\n",
      "       'QtdeDia -consumo_cerveja6', 'QtdeDia -consumo_cerveja7',\n",
      "       'QtdeDia -dia1', 'QtdeDia -dia2', 'QtdeDia -dia3', 'QtdeDia -dia4',\n",
      "       'QtdeDia -dia5', 'QtdeDia -dia6', 'QtdeDia -dia7',\n",
      "       'QtdeDia -periodo_mes1', 'QtdeDia -periodo_mes2',\n",
      "       'QtdeDia -periodo_mes3', 'QtdeDia -periodo_mes4',\n",
      "       'QtdeDia -periodo_mes5', 'QtdeDia -periodo_mes6',\n",
      "       'QtdeDia -periodo_mes7', 'QtdeDia -chuva1', 'QtdeDia -chuva2',\n",
      "       'QtdeDia -chuva3', 'QtdeDia -chuva4', 'QtdeDia -chuva5'],\n",
      "      dtype='object')\n",
      "Index(['data', 'media', 'min', 'max', 'precipitacao', 'fds', 'consumo_cerveja',\n",
      "       'ano', 'mes', 'dia', 'diadasemana', 'periodo_mes', 'chuva',\n",
      "       'grande_chuva', 'QtdeDia -media1', 'QtdeDia -media2', 'QtdeDia -media3',\n",
      "       'QtdeDia -media4', 'QtdeDia -media5', 'QtdeDia -media6',\n",
      "       'QtdeDia -media7', 'QtdeDia -min1', 'QtdeDia -min2', 'QtdeDia -min3',\n",
      "       'QtdeDia -min4', 'QtdeDia -min5', 'QtdeDia -min6', 'QtdeDia -min7',\n",
      "       'QtdeDia -max1', 'QtdeDia -max2', 'QtdeDia -max3', 'QtdeDia -max4',\n",
      "       'QtdeDia -max5', 'QtdeDia -max6', 'QtdeDia -max7',\n",
      "       'QtdeDia -precipitacao1', 'QtdeDia -precipitacao2',\n",
      "       'QtdeDia -precipitacao3', 'QtdeDia -precipitacao4',\n",
      "       'QtdeDia -precipitacao5', 'QtdeDia -precipitacao6',\n",
      "       'QtdeDia -precipitacao7', 'QtdeDia -fds1', 'QtdeDia -fds2',\n",
      "       'QtdeDia -fds3', 'QtdeDia -fds4', 'QtdeDia -fds5', 'QtdeDia -fds6',\n",
      "       'QtdeDia -fds7', 'QtdeDia -consumo_cerveja1',\n",
      "       'QtdeDia -consumo_cerveja2', 'QtdeDia -consumo_cerveja3',\n",
      "       'QtdeDia -consumo_cerveja4', 'QtdeDia -consumo_cerveja5',\n",
      "       'QtdeDia -consumo_cerveja6', 'QtdeDia -consumo_cerveja7',\n",
      "       'QtdeDia -dia1', 'QtdeDia -dia2', 'QtdeDia -dia3', 'QtdeDia -dia4',\n",
      "       'QtdeDia -dia5', 'QtdeDia -dia6', 'QtdeDia -dia7',\n",
      "       'QtdeDia -periodo_mes1', 'QtdeDia -periodo_mes2',\n",
      "       'QtdeDia -periodo_mes3', 'QtdeDia -periodo_mes4',\n",
      "       'QtdeDia -periodo_mes5', 'QtdeDia -periodo_mes6',\n",
      "       'QtdeDia -periodo_mes7', 'QtdeDia -chuva1', 'QtdeDia -chuva2',\n",
      "       'QtdeDia -chuva3', 'QtdeDia -chuva4', 'QtdeDia -chuva5',\n",
      "       'QtdeDia -chuva6'],\n",
      "      dtype='object')\n",
      "Index(['data', 'media', 'min', 'max', 'precipitacao', 'fds', 'consumo_cerveja',\n",
      "       'ano', 'mes', 'dia', 'diadasemana', 'periodo_mes', 'chuva',\n",
      "       'grande_chuva', 'QtdeDia -media1', 'QtdeDia -media2', 'QtdeDia -media3',\n",
      "       'QtdeDia -media4', 'QtdeDia -media5', 'QtdeDia -media6',\n",
      "       'QtdeDia -media7', 'QtdeDia -min1', 'QtdeDia -min2', 'QtdeDia -min3',\n",
      "       'QtdeDia -min4', 'QtdeDia -min5', 'QtdeDia -min6', 'QtdeDia -min7',\n",
      "       'QtdeDia -max1', 'QtdeDia -max2', 'QtdeDia -max3', 'QtdeDia -max4',\n",
      "       'QtdeDia -max5', 'QtdeDia -max6', 'QtdeDia -max7',\n",
      "       'QtdeDia -precipitacao1', 'QtdeDia -precipitacao2',\n",
      "       'QtdeDia -precipitacao3', 'QtdeDia -precipitacao4',\n",
      "       'QtdeDia -precipitacao5', 'QtdeDia -precipitacao6',\n",
      "       'QtdeDia -precipitacao7', 'QtdeDia -fds1', 'QtdeDia -fds2',\n",
      "       'QtdeDia -fds3', 'QtdeDia -fds4', 'QtdeDia -fds5', 'QtdeDia -fds6',\n",
      "       'QtdeDia -fds7', 'QtdeDia -consumo_cerveja1',\n",
      "       'QtdeDia -consumo_cerveja2', 'QtdeDia -consumo_cerveja3',\n",
      "       'QtdeDia -consumo_cerveja4', 'QtdeDia -consumo_cerveja5',\n",
      "       'QtdeDia -consumo_cerveja6', 'QtdeDia -consumo_cerveja7',\n",
      "       'QtdeDia -dia1', 'QtdeDia -dia2', 'QtdeDia -dia3', 'QtdeDia -dia4',\n",
      "       'QtdeDia -dia5', 'QtdeDia -dia6', 'QtdeDia -dia7',\n",
      "       'QtdeDia -periodo_mes1', 'QtdeDia -periodo_mes2',\n",
      "       'QtdeDia -periodo_mes3', 'QtdeDia -periodo_mes4',\n",
      "       'QtdeDia -periodo_mes5', 'QtdeDia -periodo_mes6',\n",
      "       'QtdeDia -periodo_mes7', 'QtdeDia -chuva1', 'QtdeDia -chuva2',\n",
      "       'QtdeDia -chuva3', 'QtdeDia -chuva4', 'QtdeDia -chuva5',\n",
      "       'QtdeDia -chuva6', 'QtdeDia -chuva7'],\n",
      "      dtype='object')\n",
      "Index(['data', 'media', 'min', 'max', 'precipitacao', 'fds', 'consumo_cerveja',\n",
      "       'ano', 'mes', 'dia', 'diadasemana', 'periodo_mes', 'chuva',\n",
      "       'grande_chuva', 'QtdeDia -media1', 'QtdeDia -media2', 'QtdeDia -media3',\n",
      "       'QtdeDia -media4', 'QtdeDia -media5', 'QtdeDia -media6',\n",
      "       'QtdeDia -media7', 'QtdeDia -min1', 'QtdeDia -min2', 'QtdeDia -min3',\n",
      "       'QtdeDia -min4', 'QtdeDia -min5', 'QtdeDia -min6', 'QtdeDia -min7',\n",
      "       'QtdeDia -max1', 'QtdeDia -max2', 'QtdeDia -max3', 'QtdeDia -max4',\n",
      "       'QtdeDia -max5', 'QtdeDia -max6', 'QtdeDia -max7',\n",
      "       'QtdeDia -precipitacao1', 'QtdeDia -precipitacao2',\n",
      "       'QtdeDia -precipitacao3', 'QtdeDia -precipitacao4',\n",
      "       'QtdeDia -precipitacao5', 'QtdeDia -precipitacao6',\n",
      "       'QtdeDia -precipitacao7', 'QtdeDia -fds1', 'QtdeDia -fds2',\n",
      "       'QtdeDia -fds3', 'QtdeDia -fds4', 'QtdeDia -fds5', 'QtdeDia -fds6',\n",
      "       'QtdeDia -fds7', 'QtdeDia -consumo_cerveja1',\n",
      "       'QtdeDia -consumo_cerveja2', 'QtdeDia -consumo_cerveja3',\n",
      "       'QtdeDia -consumo_cerveja4', 'QtdeDia -consumo_cerveja5',\n",
      "       'QtdeDia -consumo_cerveja6', 'QtdeDia -consumo_cerveja7',\n",
      "       'QtdeDia -dia1', 'QtdeDia -dia2', 'QtdeDia -dia3', 'QtdeDia -dia4',\n",
      "       'QtdeDia -dia5', 'QtdeDia -dia6', 'QtdeDia -dia7',\n",
      "       'QtdeDia -periodo_mes1', 'QtdeDia -periodo_mes2',\n",
      "       'QtdeDia -periodo_mes3', 'QtdeDia -periodo_mes4',\n",
      "       'QtdeDia -periodo_mes5', 'QtdeDia -periodo_mes6',\n",
      "       'QtdeDia -periodo_mes7', 'QtdeDia -chuva1', 'QtdeDia -chuva2',\n",
      "       'QtdeDia -chuva3', 'QtdeDia -chuva4', 'QtdeDia -chuva5',\n",
      "       'QtdeDia -chuva6', 'QtdeDia -chuva7', 'QtdeDia -grande_chuva1'],\n",
      "      dtype='object')\n",
      "Index(['data', 'media', 'min', 'max', 'precipitacao', 'fds', 'consumo_cerveja',\n",
      "       'ano', 'mes', 'dia', 'diadasemana', 'periodo_mes', 'chuva',\n",
      "       'grande_chuva', 'QtdeDia -media1', 'QtdeDia -media2', 'QtdeDia -media3',\n",
      "       'QtdeDia -media4', 'QtdeDia -media5', 'QtdeDia -media6',\n",
      "       'QtdeDia -media7', 'QtdeDia -min1', 'QtdeDia -min2', 'QtdeDia -min3',\n",
      "       'QtdeDia -min4', 'QtdeDia -min5', 'QtdeDia -min6', 'QtdeDia -min7',\n",
      "       'QtdeDia -max1', 'QtdeDia -max2', 'QtdeDia -max3', 'QtdeDia -max4',\n",
      "       'QtdeDia -max5', 'QtdeDia -max6', 'QtdeDia -max7',\n",
      "       'QtdeDia -precipitacao1', 'QtdeDia -precipitacao2',\n",
      "       'QtdeDia -precipitacao3', 'QtdeDia -precipitacao4',\n",
      "       'QtdeDia -precipitacao5', 'QtdeDia -precipitacao6',\n",
      "       'QtdeDia -precipitacao7', 'QtdeDia -fds1', 'QtdeDia -fds2',\n",
      "       'QtdeDia -fds3', 'QtdeDia -fds4', 'QtdeDia -fds5', 'QtdeDia -fds6',\n",
      "       'QtdeDia -fds7', 'QtdeDia -consumo_cerveja1',\n",
      "       'QtdeDia -consumo_cerveja2', 'QtdeDia -consumo_cerveja3',\n",
      "       'QtdeDia -consumo_cerveja4', 'QtdeDia -consumo_cerveja5',\n",
      "       'QtdeDia -consumo_cerveja6', 'QtdeDia -consumo_cerveja7',\n",
      "       'QtdeDia -dia1', 'QtdeDia -dia2', 'QtdeDia -dia3', 'QtdeDia -dia4',\n",
      "       'QtdeDia -dia5', 'QtdeDia -dia6', 'QtdeDia -dia7',\n",
      "       'QtdeDia -periodo_mes1', 'QtdeDia -periodo_mes2',\n",
      "       'QtdeDia -periodo_mes3', 'QtdeDia -periodo_mes4',\n",
      "       'QtdeDia -periodo_mes5', 'QtdeDia -periodo_mes6',\n",
      "       'QtdeDia -periodo_mes7', 'QtdeDia -chuva1', 'QtdeDia -chuva2',\n",
      "       'QtdeDia -chuva3', 'QtdeDia -chuva4', 'QtdeDia -chuva5',\n",
      "       'QtdeDia -chuva6', 'QtdeDia -chuva7', 'QtdeDia -grande_chuva1',\n",
      "       'QtdeDia -grande_chuva2'],\n",
      "      dtype='object')\n",
      "Index(['data', 'media', 'min', 'max', 'precipitacao', 'fds', 'consumo_cerveja',\n",
      "       'ano', 'mes', 'dia', 'diadasemana', 'periodo_mes', 'chuva',\n",
      "       'grande_chuva', 'QtdeDia -media1', 'QtdeDia -media2', 'QtdeDia -media3',\n",
      "       'QtdeDia -media4', 'QtdeDia -media5', 'QtdeDia -media6',\n",
      "       'QtdeDia -media7', 'QtdeDia -min1', 'QtdeDia -min2', 'QtdeDia -min3',\n",
      "       'QtdeDia -min4', 'QtdeDia -min5', 'QtdeDia -min6', 'QtdeDia -min7',\n",
      "       'QtdeDia -max1', 'QtdeDia -max2', 'QtdeDia -max3', 'QtdeDia -max4',\n",
      "       'QtdeDia -max5', 'QtdeDia -max6', 'QtdeDia -max7',\n",
      "       'QtdeDia -precipitacao1', 'QtdeDia -precipitacao2',\n",
      "       'QtdeDia -precipitacao3', 'QtdeDia -precipitacao4',\n",
      "       'QtdeDia -precipitacao5', 'QtdeDia -precipitacao6',\n",
      "       'QtdeDia -precipitacao7', 'QtdeDia -fds1', 'QtdeDia -fds2',\n",
      "       'QtdeDia -fds3', 'QtdeDia -fds4', 'QtdeDia -fds5', 'QtdeDia -fds6',\n",
      "       'QtdeDia -fds7', 'QtdeDia -consumo_cerveja1',\n",
      "       'QtdeDia -consumo_cerveja2', 'QtdeDia -consumo_cerveja3',\n",
      "       'QtdeDia -consumo_cerveja4', 'QtdeDia -consumo_cerveja5',\n",
      "       'QtdeDia -consumo_cerveja6', 'QtdeDia -consumo_cerveja7',\n",
      "       'QtdeDia -dia1', 'QtdeDia -dia2', 'QtdeDia -dia3', 'QtdeDia -dia4',\n",
      "       'QtdeDia -dia5', 'QtdeDia -dia6', 'QtdeDia -dia7',\n",
      "       'QtdeDia -periodo_mes1', 'QtdeDia -periodo_mes2',\n",
      "       'QtdeDia -periodo_mes3', 'QtdeDia -periodo_mes4',\n",
      "       'QtdeDia -periodo_mes5', 'QtdeDia -periodo_mes6',\n",
      "       'QtdeDia -periodo_mes7', 'QtdeDia -chuva1', 'QtdeDia -chuva2',\n",
      "       'QtdeDia -chuva3', 'QtdeDia -chuva4', 'QtdeDia -chuva5',\n",
      "       'QtdeDia -chuva6', 'QtdeDia -chuva7', 'QtdeDia -grande_chuva1',\n",
      "       'QtdeDia -grande_chuva2', 'QtdeDia -grande_chuva3'],\n",
      "      dtype='object')\n",
      "Index(['data', 'media', 'min', 'max', 'precipitacao', 'fds', 'consumo_cerveja',\n",
      "       'ano', 'mes', 'dia', 'diadasemana', 'periodo_mes', 'chuva',\n",
      "       'grande_chuva', 'QtdeDia -media1', 'QtdeDia -media2', 'QtdeDia -media3',\n",
      "       'QtdeDia -media4', 'QtdeDia -media5', 'QtdeDia -media6',\n",
      "       'QtdeDia -media7', 'QtdeDia -min1', 'QtdeDia -min2', 'QtdeDia -min3',\n",
      "       'QtdeDia -min4', 'QtdeDia -min5', 'QtdeDia -min6', 'QtdeDia -min7',\n",
      "       'QtdeDia -max1', 'QtdeDia -max2', 'QtdeDia -max3', 'QtdeDia -max4',\n",
      "       'QtdeDia -max5', 'QtdeDia -max6', 'QtdeDia -max7',\n",
      "       'QtdeDia -precipitacao1', 'QtdeDia -precipitacao2',\n",
      "       'QtdeDia -precipitacao3', 'QtdeDia -precipitacao4',\n",
      "       'QtdeDia -precipitacao5', 'QtdeDia -precipitacao6',\n",
      "       'QtdeDia -precipitacao7', 'QtdeDia -fds1', 'QtdeDia -fds2',\n",
      "       'QtdeDia -fds3', 'QtdeDia -fds4', 'QtdeDia -fds5', 'QtdeDia -fds6',\n",
      "       'QtdeDia -fds7', 'QtdeDia -consumo_cerveja1',\n",
      "       'QtdeDia -consumo_cerveja2', 'QtdeDia -consumo_cerveja3',\n",
      "       'QtdeDia -consumo_cerveja4', 'QtdeDia -consumo_cerveja5',\n",
      "       'QtdeDia -consumo_cerveja6', 'QtdeDia -consumo_cerveja7',\n",
      "       'QtdeDia -dia1', 'QtdeDia -dia2', 'QtdeDia -dia3', 'QtdeDia -dia4',\n",
      "       'QtdeDia -dia5', 'QtdeDia -dia6', 'QtdeDia -dia7',\n",
      "       'QtdeDia -periodo_mes1', 'QtdeDia -periodo_mes2',\n",
      "       'QtdeDia -periodo_mes3', 'QtdeDia -periodo_mes4',\n",
      "       'QtdeDia -periodo_mes5', 'QtdeDia -periodo_mes6',\n",
      "       'QtdeDia -periodo_mes7', 'QtdeDia -chuva1', 'QtdeDia -chuva2',\n",
      "       'QtdeDia -chuva3', 'QtdeDia -chuva4', 'QtdeDia -chuva5',\n",
      "       'QtdeDia -chuva6', 'QtdeDia -chuva7', 'QtdeDia -grande_chuva1',\n",
      "       'QtdeDia -grande_chuva2', 'QtdeDia -grande_chuva3',\n",
      "       'QtdeDia -grande_chuva4'],\n",
      "      dtype='object')\n",
      "Index(['data', 'media', 'min', 'max', 'precipitacao', 'fds', 'consumo_cerveja',\n",
      "       'ano', 'mes', 'dia', 'diadasemana', 'periodo_mes', 'chuva',\n",
      "       'grande_chuva', 'QtdeDia -media1', 'QtdeDia -media2', 'QtdeDia -media3',\n",
      "       'QtdeDia -media4', 'QtdeDia -media5', 'QtdeDia -media6',\n",
      "       'QtdeDia -media7', 'QtdeDia -min1', 'QtdeDia -min2', 'QtdeDia -min3',\n",
      "       'QtdeDia -min4', 'QtdeDia -min5', 'QtdeDia -min6', 'QtdeDia -min7',\n",
      "       'QtdeDia -max1', 'QtdeDia -max2', 'QtdeDia -max3', 'QtdeDia -max4',\n",
      "       'QtdeDia -max5', 'QtdeDia -max6', 'QtdeDia -max7',\n",
      "       'QtdeDia -precipitacao1', 'QtdeDia -precipitacao2',\n",
      "       'QtdeDia -precipitacao3', 'QtdeDia -precipitacao4',\n",
      "       'QtdeDia -precipitacao5', 'QtdeDia -precipitacao6',\n",
      "       'QtdeDia -precipitacao7', 'QtdeDia -fds1', 'QtdeDia -fds2',\n",
      "       'QtdeDia -fds3', 'QtdeDia -fds4', 'QtdeDia -fds5', 'QtdeDia -fds6',\n",
      "       'QtdeDia -fds7', 'QtdeDia -consumo_cerveja1',\n",
      "       'QtdeDia -consumo_cerveja2', 'QtdeDia -consumo_cerveja3',\n",
      "       'QtdeDia -consumo_cerveja4', 'QtdeDia -consumo_cerveja5',\n",
      "       'QtdeDia -consumo_cerveja6', 'QtdeDia -consumo_cerveja7',\n",
      "       'QtdeDia -dia1', 'QtdeDia -dia2', 'QtdeDia -dia3', 'QtdeDia -dia4',\n",
      "       'QtdeDia -dia5', 'QtdeDia -dia6', 'QtdeDia -dia7',\n",
      "       'QtdeDia -periodo_mes1', 'QtdeDia -periodo_mes2',\n",
      "       'QtdeDia -periodo_mes3', 'QtdeDia -periodo_mes4',\n",
      "       'QtdeDia -periodo_mes5', 'QtdeDia -periodo_mes6',\n",
      "       'QtdeDia -periodo_mes7', 'QtdeDia -chuva1', 'QtdeDia -chuva2',\n",
      "       'QtdeDia -chuva3', 'QtdeDia -chuva4', 'QtdeDia -chuva5',\n",
      "       'QtdeDia -chuva6', 'QtdeDia -chuva7', 'QtdeDia -grande_chuva1',\n",
      "       'QtdeDia -grande_chuva2', 'QtdeDia -grande_chuva3',\n",
      "       'QtdeDia -grande_chuva4', 'QtdeDia -grande_chuva5'],\n",
      "      dtype='object')\n",
      "Index(['data', 'media', 'min', 'max', 'precipitacao', 'fds', 'consumo_cerveja',\n",
      "       'ano', 'mes', 'dia', 'diadasemana', 'periodo_mes', 'chuva',\n",
      "       'grande_chuva', 'QtdeDia -media1', 'QtdeDia -media2', 'QtdeDia -media3',\n",
      "       'QtdeDia -media4', 'QtdeDia -media5', 'QtdeDia -media6',\n",
      "       'QtdeDia -media7', 'QtdeDia -min1', 'QtdeDia -min2', 'QtdeDia -min3',\n",
      "       'QtdeDia -min4', 'QtdeDia -min5', 'QtdeDia -min6', 'QtdeDia -min7',\n",
      "       'QtdeDia -max1', 'QtdeDia -max2', 'QtdeDia -max3', 'QtdeDia -max4',\n",
      "       'QtdeDia -max5', 'QtdeDia -max6', 'QtdeDia -max7',\n",
      "       'QtdeDia -precipitacao1', 'QtdeDia -precipitacao2',\n",
      "       'QtdeDia -precipitacao3', 'QtdeDia -precipitacao4',\n",
      "       'QtdeDia -precipitacao5', 'QtdeDia -precipitacao6',\n",
      "       'QtdeDia -precipitacao7', 'QtdeDia -fds1', 'QtdeDia -fds2',\n",
      "       'QtdeDia -fds3', 'QtdeDia -fds4', 'QtdeDia -fds5', 'QtdeDia -fds6',\n",
      "       'QtdeDia -fds7', 'QtdeDia -consumo_cerveja1',\n",
      "       'QtdeDia -consumo_cerveja2', 'QtdeDia -consumo_cerveja3',\n",
      "       'QtdeDia -consumo_cerveja4', 'QtdeDia -consumo_cerveja5',\n",
      "       'QtdeDia -consumo_cerveja6', 'QtdeDia -consumo_cerveja7',\n",
      "       'QtdeDia -dia1', 'QtdeDia -dia2', 'QtdeDia -dia3', 'QtdeDia -dia4',\n",
      "       'QtdeDia -dia5', 'QtdeDia -dia6', 'QtdeDia -dia7',\n",
      "       'QtdeDia -periodo_mes1', 'QtdeDia -periodo_mes2',\n",
      "       'QtdeDia -periodo_mes3', 'QtdeDia -periodo_mes4',\n",
      "       'QtdeDia -periodo_mes5', 'QtdeDia -periodo_mes6',\n",
      "       'QtdeDia -periodo_mes7', 'QtdeDia -chuva1', 'QtdeDia -chuva2',\n",
      "       'QtdeDia -chuva3', 'QtdeDia -chuva4', 'QtdeDia -chuva5',\n",
      "       'QtdeDia -chuva6', 'QtdeDia -chuva7', 'QtdeDia -grande_chuva1',\n",
      "       'QtdeDia -grande_chuva2', 'QtdeDia -grande_chuva3',\n",
      "       'QtdeDia -grande_chuva4', 'QtdeDia -grande_chuva5',\n",
      "       'QtdeDia -grande_chuva6'],\n",
      "      dtype='object')\n",
      "Index(['data', 'media', 'min', 'max', 'precipitacao', 'fds', 'consumo_cerveja',\n",
      "       'ano', 'mes', 'dia', 'diadasemana', 'periodo_mes', 'chuva',\n",
      "       'grande_chuva', 'QtdeDia -media1', 'QtdeDia -media2', 'QtdeDia -media3',\n",
      "       'QtdeDia -media4', 'QtdeDia -media5', 'QtdeDia -media6',\n",
      "       'QtdeDia -media7', 'QtdeDia -min1', 'QtdeDia -min2', 'QtdeDia -min3',\n",
      "       'QtdeDia -min4', 'QtdeDia -min5', 'QtdeDia -min6', 'QtdeDia -min7',\n",
      "       'QtdeDia -max1', 'QtdeDia -max2', 'QtdeDia -max3', 'QtdeDia -max4',\n",
      "       'QtdeDia -max5', 'QtdeDia -max6', 'QtdeDia -max7',\n",
      "       'QtdeDia -precipitacao1', 'QtdeDia -precipitacao2',\n",
      "       'QtdeDia -precipitacao3', 'QtdeDia -precipitacao4',\n",
      "       'QtdeDia -precipitacao5', 'QtdeDia -precipitacao6',\n",
      "       'QtdeDia -precipitacao7', 'QtdeDia -fds1', 'QtdeDia -fds2',\n",
      "       'QtdeDia -fds3', 'QtdeDia -fds4', 'QtdeDia -fds5', 'QtdeDia -fds6',\n",
      "       'QtdeDia -fds7', 'QtdeDia -consumo_cerveja1',\n",
      "       'QtdeDia -consumo_cerveja2', 'QtdeDia -consumo_cerveja3',\n",
      "       'QtdeDia -consumo_cerveja4', 'QtdeDia -consumo_cerveja5',\n",
      "       'QtdeDia -consumo_cerveja6', 'QtdeDia -consumo_cerveja7',\n",
      "       'QtdeDia -dia1', 'QtdeDia -dia2', 'QtdeDia -dia3', 'QtdeDia -dia4',\n",
      "       'QtdeDia -dia5', 'QtdeDia -dia6', 'QtdeDia -dia7',\n",
      "       'QtdeDia -periodo_mes1', 'QtdeDia -periodo_mes2',\n",
      "       'QtdeDia -periodo_mes3', 'QtdeDia -periodo_mes4',\n",
      "       'QtdeDia -periodo_mes5', 'QtdeDia -periodo_mes6',\n",
      "       'QtdeDia -periodo_mes7', 'QtdeDia -chuva1', 'QtdeDia -chuva2',\n",
      "       'QtdeDia -chuva3', 'QtdeDia -chuva4', 'QtdeDia -chuva5',\n",
      "       'QtdeDia -chuva6', 'QtdeDia -chuva7', 'QtdeDia -grande_chuva1',\n",
      "       'QtdeDia -grande_chuva2', 'QtdeDia -grande_chuva3',\n",
      "       'QtdeDia -grande_chuva4', 'QtdeDia -grande_chuva5',\n",
      "       'QtdeDia -grande_chuva6', 'QtdeDia -grande_chuva7'],\n",
      "      dtype='object')\n"
     ]
    }
   ],
   "source": [
    "df_teste = None\n",
    "for coluna in colunas:\n",
    "    for i in range(1,8):\n",
    "        df = get_dia_anterior(df, i, coluna)\n",
    "        print(df.columns)\n",
    "    if df_teste is None:\n",
    "        df_teste = aux\n",
    "    else:\n",
    "        df_teste = df_teste.append(aux)"
   ]
  },
  {
   "cell_type": "code",
   "execution_count": 85,
   "metadata": {},
   "outputs": [
    {
     "data": {
      "text/plain": [
       "Index(['data', 'media', 'min', 'max', 'precipitacao', 'fds', 'consumo_cerveja',\n",
       "       'ano', 'mes', 'dia', 'periodo_mes', 'chuva', 'grande_chuva',\n",
       "       'diadasemana', 'QtdeDia -media1', 'QtdeDia -media2', 'QtdeDia -media3',\n",
       "       'QtdeDia -media4', 'QtdeDia -media5', 'QtdeDia -media6',\n",
       "       'QtdeDia -media7', 'QtdeDia -min1', 'QtdeDia -min2', 'QtdeDia -min3',\n",
       "       'QtdeDia -min4', 'QtdeDia -min5', 'QtdeDia -min6', 'QtdeDia -min7',\n",
       "       'QtdeDia -max1', 'QtdeDia -max2', 'QtdeDia -max3', 'QtdeDia -max4',\n",
       "       'QtdeDia -max5', 'QtdeDia -max6', 'QtdeDia -max7',\n",
       "       'QtdeDia -precipitacao1', 'QtdeDia -precipitacao2',\n",
       "       'QtdeDia -precipitacao3', 'QtdeDia -precipitacao4',\n",
       "       'QtdeDia -precipitacao5', 'QtdeDia -precipitacao6',\n",
       "       'QtdeDia -precipitacao7', 'QtdeDia -fds1', 'QtdeDia -fds2',\n",
       "       'QtdeDia -fds3', 'QtdeDia -fds4', 'QtdeDia -fds5', 'QtdeDia -fds6',\n",
       "       'QtdeDia -fds7', 'QtdeDia -consumo_cerveja1',\n",
       "       'QtdeDia -consumo_cerveja2', 'QtdeDia -consumo_cerveja3',\n",
       "       'QtdeDia -consumo_cerveja4', 'QtdeDia -consumo_cerveja5',\n",
       "       'QtdeDia -consumo_cerveja6', 'QtdeDia -consumo_cerveja7',\n",
       "       'QtdeDia -dia1', 'QtdeDia -dia2', 'QtdeDia -dia3', 'QtdeDia -dia4',\n",
       "       'QtdeDia -dia5', 'QtdeDia -dia6', 'QtdeDia -dia7',\n",
       "       'QtdeDia -periodo_mes1', 'QtdeDia -periodo_mes2',\n",
       "       'QtdeDia -periodo_mes3', 'QtdeDia -periodo_mes4',\n",
       "       'QtdeDia -periodo_mes5', 'QtdeDia -periodo_mes6',\n",
       "       'QtdeDia -periodo_mes7', 'QtdeDia -chuva1', 'QtdeDia -chuva2',\n",
       "       'QtdeDia -chuva3', 'QtdeDia -chuva4', 'QtdeDia -chuva5',\n",
       "       'QtdeDia -chuva6', 'QtdeDia -chuva7', 'QtdeDia -grande_chuva1',\n",
       "       'QtdeDia -grande_chuva2', 'QtdeDia -grande_chuva3',\n",
       "       'QtdeDia -grande_chuva4', 'QtdeDia -grande_chuva5',\n",
       "       'QtdeDia -grande_chuva6', 'QtdeDia -grande_chuva7'],\n",
       "      dtype='object')"
      ]
     },
     "execution_count": 85,
     "metadata": {},
     "output_type": "execute_result"
    }
   ],
   "source": [
    "df.columns"
   ]
  },
  {
   "cell_type": "code",
   "execution_count": 87,
   "metadata": {},
   "outputs": [
    {
     "data": {
      "text/plain": [
       "<matplotlib.axes._subplots.AxesSubplot at 0x24b88cac898>"
      ]
     },
     "execution_count": 87,
     "metadata": {},
     "output_type": "execute_result"
    },
    {
     "data": {
      "image/png": "[encoded data removed]",
      "text/plain": [
       "<Figure size 432x288 with 2 Axes>"
      ]
     },
     "metadata": {
      "needs_background": "light"
     },
     "output_type": "display_data"
    }
   ],
   "source": [
    "sns.heatmap(df.corr())"
   ]
  },
  {
   "cell_type": "code",
   "execution_count": 91,
   "metadata": {},
   "outputs": [],
   "source": [
    "df = df.dropna()"
   ]
  },
  {
   "cell_type": "code",
   "execution_count": 92,
   "metadata": {},
   "outputs": [
    {
     "data": {
      "text/plain": [
       "(358, 84)"
      ]
     },
     "execution_count": 92,
     "metadata": {},
     "output_type": "execute_result"
    }
   ],
   "source": [
    "df.shape"
   ]
  },
  {
   "cell_type": "code",
   "execution_count": 141,
   "metadata": {},
   "outputs": [
    {
     "data": {
      "text/plain": [
       "Index(['data', 'media', 'min', 'max', 'precipitacao', 'fds', 'consumo_cerveja',\n",
       "       'ano', 'mes', 'dia', 'diadasemana', 'periodo_mes', 'chuva',\n",
       "       'grande_chuva', 'QtdeDia -media1', 'QtdeDia -media2', 'QtdeDia -media3',\n",
       "       'QtdeDia -media4', 'QtdeDia -media5', 'QtdeDia -media6',\n",
       "       'QtdeDia -media7', 'QtdeDia -min1', 'QtdeDia -min2', 'QtdeDia -min3',\n",
       "       'QtdeDia -min4', 'QtdeDia -min5', 'QtdeDia -min6', 'QtdeDia -min7',\n",
       "       'QtdeDia -max1', 'QtdeDia -max2', 'QtdeDia -max3', 'QtdeDia -max4',\n",
       "       'QtdeDia -max5', 'QtdeDia -max6', 'QtdeDia -max7',\n",
       "       'QtdeDia -precipitacao1', 'QtdeDia -precipitacao2',\n",
       "       'QtdeDia -precipitacao3', 'QtdeDia -precipitacao4',\n",
       "       'QtdeDia -precipitacao5', 'QtdeDia -precipitacao6',\n",
       "       'QtdeDia -precipitacao7', 'QtdeDia -fds1', 'QtdeDia -fds2',\n",
       "       'QtdeDia -fds3', 'QtdeDia -fds4', 'QtdeDia -fds5', 'QtdeDia -fds6',\n",
       "       'QtdeDia -fds7', 'QtdeDia -consumo_cerveja1',\n",
       "       'QtdeDia -consumo_cerveja2', 'QtdeDia -consumo_cerveja3',\n",
       "       'QtdeDia -consumo_cerveja4', 'QtdeDia -consumo_cerveja5',\n",
       "       'QtdeDia -consumo_cerveja6', 'QtdeDia -consumo_cerveja7',\n",
       "       'QtdeDia -dia1', 'QtdeDia -dia2', 'QtdeDia -dia3', 'QtdeDia -dia4',\n",
       "       'QtdeDia -dia5', 'QtdeDia -dia6', 'QtdeDia -dia7',\n",
       "       'QtdeDia -periodo_mes1', 'QtdeDia -periodo_mes2',\n",
       "       'QtdeDia -periodo_mes3', 'QtdeDia -periodo_mes4',\n",
       "       'QtdeDia -periodo_mes5', 'QtdeDia -periodo_mes6',\n",
       "       'QtdeDia -periodo_mes7', 'QtdeDia -chuva1', 'QtdeDia -chuva2',\n",
       "       'QtdeDia -chuva3', 'QtdeDia -chuva4', 'QtdeDia -chuva5',\n",
       "       'QtdeDia -chuva6', 'QtdeDia -chuva7', 'QtdeDia -grande_chuva1',\n",
       "       'QtdeDia -grande_chuva2', 'QtdeDia -grande_chuva3',\n",
       "       'QtdeDia -grande_chuva4', 'QtdeDia -grande_chuva5',\n",
       "       'QtdeDia -grande_chuva6', 'QtdeDia -grande_chuva7'],\n",
       "      dtype='object')"
      ]
     },
     "execution_count": 141,
     "metadata": {},
     "output_type": "execute_result"
    }
   ],
   "source": [
    "df.columns"
   ]
  },
  {
   "cell_type": "code",
   "execution_count": 142,
   "metadata": {},
   "outputs": [],
   "source": [
    "cat_columns = ['QtdeDia -dia1', 'QtdeDia -dia2', 'QtdeDia -dia3', 'QtdeDia -dia4',\n",
    "       'QtdeDia -dia5', 'QtdeDia -dia6', 'QtdeDia -dia7',\n",
    "       'QtdeDia -periodo_mes1', 'QtdeDia -periodo_mes2',\n",
    "       'QtdeDia -periodo_mes3', 'QtdeDia -periodo_mes4',\n",
    "       'QtdeDia -periodo_mes5', 'QtdeDia -periodo_mes6',\n",
    "       'QtdeDia -periodo_mes7', 'QtdeDia -chuva1', 'QtdeDia -chuva2',\n",
    "       'QtdeDia -chuva3', 'QtdeDia -chuva4', 'QtdeDia -chuva5',\n",
    "       'QtdeDia -chuva6', 'QtdeDia -chuva7', 'QtdeDia -grande_chuva1',\n",
    "       'QtdeDia -grande_chuva2', 'QtdeDia -grande_chuva3',\n",
    "       'QtdeDia -grande_chuva4', 'QtdeDia -grande_chuva5',\n",
    "       'QtdeDia -grande_chuva6', 'QtdeDia -grande_chuva7','QtdeDia -fds1', 'QtdeDia -fds2',\n",
    "       'QtdeDia -fds3', 'QtdeDia -fds4', 'QtdeDia -fds5', 'QtdeDia -fds6',\n",
    "       'QtdeDia -fds7','ano', 'dia', 'periodo_mes', 'chuva', 'grande_chuva','fds','diadasemana']"
   ]
  },
  {
   "cell_type": "code",
   "execution_count": 143,
   "metadata": {},
   "outputs": [],
   "source": [
    "for coluna in cat_columns:\n",
    "    df[coluna] = df[coluna].astype('category')"
   ]
  },
  {
   "cell_type": "code",
   "execution_count": 144,
   "metadata": {},
   "outputs": [
    {
     "data": {
      "text/plain": [
       "data                         datetime64[ns]\n",
       "media                               float64\n",
       "min                                 float64\n",
       "max                                 float64\n",
       "precipitacao                        float64\n",
       "fds                                category\n",
       "consumo_cerveja                     float64\n",
       "ano                                category\n",
       "mes                                   int64\n",
       "dia                                category\n",
       "diadasemana                        category\n",
       "periodo_mes                        category\n",
       "chuva                              category\n",
       "grande_chuva                       category\n",
       "QtdeDia -media1                     float64\n",
       "QtdeDia -media2                     float64\n",
       "QtdeDia -media3                     float64\n",
       "QtdeDia -media4                     float64\n",
       "QtdeDia -media5                     float64\n",
       "QtdeDia -media6                     float64\n",
       "QtdeDia -media7                     float64\n",
       "QtdeDia -min1                       float64\n",
       "QtdeDia -min2                       float64\n",
       "QtdeDia -min3                       float64\n",
       "QtdeDia -min4                       float64\n",
       "QtdeDia -min5                       float64\n",
       "QtdeDia -min6                       float64\n",
       "QtdeDia -min7                       float64\n",
       "QtdeDia -max1                       float64\n",
       "QtdeDia -max2                       float64\n",
       "                                  ...      \n",
       "QtdeDia -consumo_cerveja6           float64\n",
       "QtdeDia -consumo_cerveja7           float64\n",
       "QtdeDia -dia1                      category\n",
       "QtdeDia -dia2                      category\n",
       "QtdeDia -dia3                      category\n",
       "QtdeDia -dia4                      category\n",
       "QtdeDia -dia5                      category\n",
       "QtdeDia -dia6                      category\n",
       "QtdeDia -dia7                      category\n",
       "QtdeDia -periodo_mes1              category\n",
       "QtdeDia -periodo_mes2              category\n",
       "QtdeDia -periodo_mes3              category\n",
       "QtdeDia -periodo_mes4              category\n",
       "QtdeDia -periodo_mes5              category\n",
       "QtdeDia -periodo_mes6              category\n",
       "QtdeDia -periodo_mes7              category\n",
       "QtdeDia -chuva1                    category\n",
       "QtdeDia -chuva2                    category\n",
       "QtdeDia -chuva3                    category\n",
       "QtdeDia -chuva4                    category\n",
       "QtdeDia -chuva5                    category\n",
       "QtdeDia -chuva6                    category\n",
       "QtdeDia -chuva7                    category\n",
       "QtdeDia -grande_chuva1             category\n",
       "QtdeDia -grande_chuva2             category\n",
       "QtdeDia -grande_chuva3             category\n",
       "QtdeDia -grande_chuva4             category\n",
       "QtdeDia -grande_chuva5             category\n",
       "QtdeDia -grande_chuva6             category\n",
       "QtdeDia -grande_chuva7             category\n",
       "Length: 84, dtype: object"
      ]
     },
     "execution_count": 144,
     "metadata": {},
     "output_type": "execute_result"
    }
   ],
   "source": [
    "df.dtypes"
   ]
  },
  {
   "cell_type": "code",
   "execution_count": 147,
   "metadata": {},
   "outputs": [],
   "source": [
    "train_df = df[df['mes'] > 9]\n",
    "teste_df = df[df['mes'] <= 9]"
   ]
  },
  {
   "cell_type": "code",
   "execution_count": 114,
   "metadata": {
    "collapsed": true
   },
   "outputs": [
    {
     "ename": "KeyError",
     "evalue": "'mes'",
     "output_type": "error",
     "traceback": [
      "\u001b[1;31m---------------------------------------------------------------------------\u001b[0m",
      "\u001b[1;31mKeyError\u001b[0m                                  Traceback (most recent call last)",
      "\u001b[1;32m~\\Anaconda3\\lib\\site-packages\\pandas\\core\\indexes\\base.py\u001b[0m in \u001b[0;36mget_loc\u001b[1;34m(self, key, method, tolerance)\u001b[0m\n\u001b[0;32m   2656\u001b[0m             \u001b[1;32mtry\u001b[0m\u001b[1;33m:\u001b[0m\u001b[1;33m\u001b[0m\u001b[1;33m\u001b[0m\u001b[0m\n\u001b[1;32m-> 2657\u001b[1;33m                 \u001b[1;32mreturn\u001b[0m \u001b[0mself\u001b[0m\u001b[1;33m.\u001b[0m\u001b[0m_engine\u001b[0m\u001b[1;33m.\u001b[0m\u001b[0mget_loc\u001b[0m\u001b[1;33m(\u001b[0m\u001b[0mkey\u001b[0m\u001b[1;33m)\u001b[0m\u001b[1;33m\u001b[0m\u001b[1;33m\u001b[0m\u001b[0m\n\u001b[0m\u001b[0;32m   2658\u001b[0m             \u001b[1;32mexcept\u001b[0m \u001b[0mKeyError\u001b[0m\u001b[1;33m:\u001b[0m\u001b[1;33m\u001b[0m\u001b[1;33m\u001b[0m\u001b[0m\n",
      "\u001b[1;32mpandas/_libs/index.pyx\u001b[0m in \u001b[0;36mpandas._libs.index.IndexEngine.get_loc\u001b[1;34m()\u001b[0m\n",
      "\u001b[1;32mpandas/_libs/index.pyx\u001b[0m in \u001b[0;36mpandas._libs.index.IndexEngine.get_loc\u001b[1;34m()\u001b[0m\n",
      "\u001b[1;32mpandas/_libs/hashtable_class_helper.pxi\u001b[0m in \u001b[0;36mpandas._libs.hashtable.PyObjectHashTable.get_item\u001b[1;34m()\u001b[0m\n",
      "\u001b[1;32mpandas/_libs/hashtable_class_helper.pxi\u001b[0m in \u001b[0;36mpandas._libs.hashtable.PyObjectHashTable.get_item\u001b[1;34m()\u001b[0m\n",
      "\u001b[1;31mKeyError\u001b[0m: 'mes'",
      "\nDuring handling of the above exception, another exception occurred:\n",
      "\u001b[1;31mKeyError\u001b[0m                                  Traceback (most recent call last)",
      "\u001b[1;32m<ipython-input-114-233f05eb72fd>\u001b[0m in \u001b[0;36m<module>\u001b[1;34m\u001b[0m\n\u001b[1;32m----> 1\u001b[1;33m \u001b[0mtrain_df\u001b[0m \u001b[1;33m=\u001b[0m \u001b[0mdf\u001b[0m\u001b[1;33m[\u001b[0m\u001b[0mdf\u001b[0m\u001b[1;33m[\u001b[0m\u001b[1;34m'mes'\u001b[0m\u001b[1;33m]\u001b[0m\u001b[1;33m.\u001b[0m\u001b[0misin\u001b[0m\u001b[1;33m(\u001b[0m\u001b[1;33m[\u001b[0m\u001b[1;34m'10'\u001b[0m\u001b[1;33m,\u001b[0m\u001b[1;34m'11'\u001b[0m\u001b[1;33m,\u001b[0m\u001b[1;34m'12'\u001b[0m\u001b[1;33m]\u001b[0m\u001b[1;33m)\u001b[0m\u001b[1;33m]\u001b[0m\u001b[1;33m\u001b[0m\u001b[1;33m\u001b[0m\u001b[0m\n\u001b[0m\u001b[0;32m      2\u001b[0m \u001b[0mteste_df\u001b[0m \u001b[1;33m=\u001b[0m \u001b[0mdf\u001b[0m\u001b[1;33m[\u001b[0m\u001b[0mdf\u001b[0m\u001b[1;33m[\u001b[0m\u001b[1;34m'mes'\u001b[0m\u001b[1;33m]\u001b[0m\u001b[1;33m.\u001b[0m\u001b[0misin\u001b[0m\u001b[1;33m(\u001b[0m\u001b[1;33m[\u001b[0m\u001b[1;34m'10'\u001b[0m\u001b[1;33m,\u001b[0m \u001b[1;34m'11'\u001b[0m\u001b[1;33m,\u001b[0m\u001b[1;34m'12'\u001b[0m\u001b[1;33m]\u001b[0m\u001b[1;33m)\u001b[0m\u001b[1;33m]\u001b[0m\u001b[1;33m\u001b[0m\u001b[1;33m\u001b[0m\u001b[0m\n",
      "\u001b[1;32m~\\Anaconda3\\lib\\site-packages\\pandas\\core\\frame.py\u001b[0m in \u001b[0;36m__getitem__\u001b[1;34m(self, key)\u001b[0m\n\u001b[0;32m   2925\u001b[0m             \u001b[1;32mif\u001b[0m \u001b[0mself\u001b[0m\u001b[1;33m.\u001b[0m\u001b[0mcolumns\u001b[0m\u001b[1;33m.\u001b[0m\u001b[0mnlevels\u001b[0m \u001b[1;33m>\u001b[0m \u001b[1;36m1\u001b[0m\u001b[1;33m:\u001b[0m\u001b[1;33m\u001b[0m\u001b[1;33m\u001b[0m\u001b[0m\n\u001b[0;32m   2926\u001b[0m                 \u001b[1;32mreturn\u001b[0m \u001b[0mself\u001b[0m\u001b[1;33m.\u001b[0m\u001b[0m_getitem_multilevel\u001b[0m\u001b[1;33m(\u001b[0m\u001b[0mkey\u001b[0m\u001b[1;33m)\u001b[0m\u001b[1;33m\u001b[0m\u001b[1;33m\u001b[0m\u001b[0m\n\u001b[1;32m-> 2927\u001b[1;33m             \u001b[0mindexer\u001b[0m \u001b[1;33m=\u001b[0m \u001b[0mself\u001b[0m\u001b[1;33m.\u001b[0m\u001b[0mcolumns\u001b[0m\u001b[1;33m.\u001b[0m\u001b[0mget_loc\u001b[0m\u001b[1;33m(\u001b[0m\u001b[0mkey\u001b[0m\u001b[1;33m)\u001b[0m\u001b[1;33m\u001b[0m\u001b[1;33m\u001b[0m\u001b[0m\n\u001b[0m\u001b[0;32m   2928\u001b[0m             \u001b[1;32mif\u001b[0m \u001b[0mis_integer\u001b[0m\u001b[1;33m(\u001b[0m\u001b[0mindexer\u001b[0m\u001b[1;33m)\u001b[0m\u001b[1;33m:\u001b[0m\u001b[1;33m\u001b[0m\u001b[1;33m\u001b[0m\u001b[0m\n\u001b[0;32m   2929\u001b[0m                 \u001b[0mindexer\u001b[0m \u001b[1;33m=\u001b[0m \u001b[1;33m[\u001b[0m\u001b[0mindexer\u001b[0m\u001b[1;33m]\u001b[0m\u001b[1;33m\u001b[0m\u001b[1;33m\u001b[0m\u001b[0m\n",
      "\u001b[1;32m~\\Anaconda3\\lib\\site-packages\\pandas\\core\\indexes\\base.py\u001b[0m in \u001b[0;36mget_loc\u001b[1;34m(self, key, method, tolerance)\u001b[0m\n\u001b[0;32m   2657\u001b[0m                 \u001b[1;32mreturn\u001b[0m \u001b[0mself\u001b[0m\u001b[1;33m.\u001b[0m\u001b[0m_engine\u001b[0m\u001b[1;33m.\u001b[0m\u001b[0mget_loc\u001b[0m\u001b[1;33m(\u001b[0m\u001b[0mkey\u001b[0m\u001b[1;33m)\u001b[0m\u001b[1;33m\u001b[0m\u001b[1;33m\u001b[0m\u001b[0m\n\u001b[0;32m   2658\u001b[0m             \u001b[1;32mexcept\u001b[0m \u001b[0mKeyError\u001b[0m\u001b[1;33m:\u001b[0m\u001b[1;33m\u001b[0m\u001b[1;33m\u001b[0m\u001b[0m\n\u001b[1;32m-> 2659\u001b[1;33m                 \u001b[1;32mreturn\u001b[0m \u001b[0mself\u001b[0m\u001b[1;33m.\u001b[0m\u001b[0m_engine\u001b[0m\u001b[1;33m.\u001b[0m\u001b[0mget_loc\u001b[0m\u001b[1;33m(\u001b[0m\u001b[0mself\u001b[0m\u001b[1;33m.\u001b[0m\u001b[0m_maybe_cast_indexer\u001b[0m\u001b[1;33m(\u001b[0m\u001b[0mkey\u001b[0m\u001b[1;33m)\u001b[0m\u001b[1;33m)\u001b[0m\u001b[1;33m\u001b[0m\u001b[1;33m\u001b[0m\u001b[0m\n\u001b[0m\u001b[0;32m   2660\u001b[0m         \u001b[0mindexer\u001b[0m \u001b[1;33m=\u001b[0m \u001b[0mself\u001b[0m\u001b[1;33m.\u001b[0m\u001b[0mget_indexer\u001b[0m\u001b[1;33m(\u001b[0m\u001b[1;33m[\u001b[0m\u001b[0mkey\u001b[0m\u001b[1;33m]\u001b[0m\u001b[1;33m,\u001b[0m \u001b[0mmethod\u001b[0m\u001b[1;33m=\u001b[0m\u001b[0mmethod\u001b[0m\u001b[1;33m,\u001b[0m \u001b[0mtolerance\u001b[0m\u001b[1;33m=\u001b[0m\u001b[0mtolerance\u001b[0m\u001b[1;33m)\u001b[0m\u001b[1;33m\u001b[0m\u001b[1;33m\u001b[0m\u001b[0m\n\u001b[0;32m   2661\u001b[0m         \u001b[1;32mif\u001b[0m \u001b[0mindexer\u001b[0m\u001b[1;33m.\u001b[0m\u001b[0mndim\u001b[0m \u001b[1;33m>\u001b[0m \u001b[1;36m1\u001b[0m \u001b[1;32mor\u001b[0m \u001b[0mindexer\u001b[0m\u001b[1;33m.\u001b[0m\u001b[0msize\u001b[0m \u001b[1;33m>\u001b[0m \u001b[1;36m1\u001b[0m\u001b[1;33m:\u001b[0m\u001b[1;33m\u001b[0m\u001b[1;33m\u001b[0m\u001b[0m\n",
      "\u001b[1;32mpandas/_libs/index.pyx\u001b[0m in \u001b[0;36mpandas._libs.index.IndexEngine.get_loc\u001b[1;34m()\u001b[0m\n",
      "\u001b[1;32mpandas/_libs/index.pyx\u001b[0m in \u001b[0;36mpandas._libs.index.IndexEngine.get_loc\u001b[1;34m()\u001b[0m\n",
      "\u001b[1;32mpandas/_libs/hashtable_class_helper.pxi\u001b[0m in \u001b[0;36mpandas._libs.hashtable.PyObjectHashTable.get_item\u001b[1;34m()\u001b[0m\n",
      "\u001b[1;32mpandas/_libs/hashtable_class_helper.pxi\u001b[0m in \u001b[0;36mpandas._libs.hashtable.PyObjectHashTable.get_item\u001b[1;34m()\u001b[0m\n",
      "\u001b[1;31mKeyError\u001b[0m: 'mes'"
     ]
    }
   ],
   "source": [
    "train_df = df[df['mes'].isin(['10','11','12'])]\n",
    "teste_df = df[df['mes'].isin(['10', '11','12'])]"
   ]
  },
  {
   "cell_type": "code",
   "execution_count": 148,
   "metadata": {},
   "outputs": [],
   "source": [
    "train_df = train_df.drop(columns = 'mes')\n",
    "teste_df = teste_df.drop(columns = 'mes')"
   ]
  },
  {
   "cell_type": "code",
   "execution_count": 149,
   "metadata": {},
   "outputs": [],
   "source": [
    "y_train = train_df['consumo_cerveja']\n",
    "X_train = train_df.drop(columns = 'consumo_cerveja')\n",
    "y_test = teste_df['consumo_cerveja']\n",
    "X_test = teste_df.drop(columns = 'consumo_cerveja')"
   ]
  },
  {
   "cell_type": "code",
   "execution_count": 126,
   "metadata": {},
   "outputs": [
    {
     "data": {
      "text/plain": [
       "Index(['data', 'media', 'min', 'max', 'precipitacao', 'fds', 'consumo_cerveja',\n",
       "       'ano', 'dia', 'periodo_mes', 'chuva', 'grande_chuva', 'diadasemana',\n",
       "       'QtdeDia -media1', 'QtdeDia -media2', 'QtdeDia -media3',\n",
       "       'QtdeDia -media4', 'QtdeDia -media5', 'QtdeDia -media6',\n",
       "       'QtdeDia -media7', 'QtdeDia -min1', 'QtdeDia -min2', 'QtdeDia -min3',\n",
       "       'QtdeDia -min4', 'QtdeDia -min5', 'QtdeDia -min6', 'QtdeDia -min7',\n",
       "       'QtdeDia -max1', 'QtdeDia -max2', 'QtdeDia -max3', 'QtdeDia -max4',\n",
       "       'QtdeDia -max5', 'QtdeDia -max6', 'QtdeDia -max7',\n",
       "       'QtdeDia -precipitacao1', 'QtdeDia -precipitacao2',\n",
       "       'QtdeDia -precipitacao3', 'QtdeDia -precipitacao4',\n",
       "       'QtdeDia -precipitacao5', 'QtdeDia -precipitacao6',\n",
       "       'QtdeDia -precipitacao7', 'QtdeDia -fds1', 'QtdeDia -fds2',\n",
       "       'QtdeDia -fds3', 'QtdeDia -fds4', 'QtdeDia -fds5', 'QtdeDia -fds6',\n",
       "       'QtdeDia -fds7', 'QtdeDia -consumo_cerveja1',\n",
       "       'QtdeDia -consumo_cerveja2', 'QtdeDia -consumo_cerveja3',\n",
       "       'QtdeDia -consumo_cerveja4', 'QtdeDia -consumo_cerveja5',\n",
       "       'QtdeDia -consumo_cerveja6', 'QtdeDia -consumo_cerveja7',\n",
       "       'QtdeDia -dia1', 'QtdeDia -dia2', 'QtdeDia -dia3', 'QtdeDia -dia4',\n",
       "       'QtdeDia -dia5', 'QtdeDia -dia6', 'QtdeDia -dia7',\n",
       "       'QtdeDia -periodo_mes1', 'QtdeDia -periodo_mes2',\n",
       "       'QtdeDia -periodo_mes3', 'QtdeDia -periodo_mes4',\n",
       "       'QtdeDia -periodo_mes5', 'QtdeDia -periodo_mes6',\n",
       "       'QtdeDia -periodo_mes7', 'QtdeDia -chuva1', 'QtdeDia -chuva2',\n",
       "       'QtdeDia -chuva3', 'QtdeDia -chuva4', 'QtdeDia -chuva5',\n",
       "       'QtdeDia -chuva6', 'QtdeDia -chuva7', 'QtdeDia -grande_chuva1',\n",
       "       'QtdeDia -grande_chuva2', 'QtdeDia -grande_chuva3',\n",
       "       'QtdeDia -grande_chuva4', 'QtdeDia -grande_chuva5',\n",
       "       'QtdeDia -grande_chuva6', 'QtdeDia -grande_chuva7'],\n",
       "      dtype='object')"
      ]
     },
     "execution_count": 126,
     "metadata": {},
     "output_type": "execute_result"
    }
   ],
   "source": [
    "train_df.columns"
   ]
  },
  {
   "cell_type": "code",
   "execution_count": 150,
   "metadata": {},
   "outputs": [],
   "source": [
    "from catboost import CatBoost, Pool\n",
    "from catboost import CatBoostRegressor\n",
    "from catboost import CatBoostClassifier"
   ]
  },
  {
   "cell_type": "code",
   "execution_count": 151,
   "metadata": {},
   "outputs": [],
   "source": [
    "model_catBoost = CatBoostClassifier(cat_features=cat_columns, random_seed=123)"
   ]
  },
  {
   "cell_type": "code",
   "execution_count": null,
   "metadata": {},
   "outputs": [
    {
     "name": "stdout",
     "output_type": "stream",
     "text": [
      "0:\tlearn: 4.4800150\ttotal: 1m 8s\tremaining: 19h 5m 8s\n",
      "1:\tlearn: 4.4731861\ttotal: 1m 12s\tremaining: 10h 4m 56s\n",
      "2:\tlearn: 4.4729539\ttotal: 1m 13s\tremaining: 6h 44m 38s\n",
      "3:\tlearn: 4.4653974\ttotal: 1m 41s\tremaining: 7h 1m 27s\n",
      "4:\tlearn: 4.4589956\ttotal: 2m 5s\tremaining: 6h 56m 6s\n",
      "5:\tlearn: 4.4549409\ttotal: 2m 6s\tremaining: 5h 49m 1s\n",
      "6:\tlearn: 4.4547171\ttotal: 2m 6s\tremaining: 4h 59m 34s\n",
      "7:\tlearn: 4.4519331\ttotal: 2m 7s\tremaining: 4h 23m 48s\n",
      "8:\tlearn: 4.4476362\ttotal: 2m 8s\tremaining: 3h 56m 3s\n",
      "9:\tlearn: 4.4398297\ttotal: 2m 35s\tremaining: 4h 16m 40s\n",
      "10:\tlearn: 4.4354859\ttotal: 2m 47s\tremaining: 4h 10m 18s\n",
      "11:\tlearn: 4.4294210\ttotal: 2m 51s\tremaining: 3h 54m 50s\n",
      "12:\tlearn: 4.4252169\ttotal: 2m 51s\tremaining: 3h 37m 34s\n",
      "13:\tlearn: 4.4171129\ttotal: 3m 51s\tremaining: 4h 32m 16s\n",
      "14:\tlearn: 4.4094380\ttotal: 5m\tremaining: 5h 29m 24s\n",
      "15:\tlearn: 4.4053219\ttotal: 5m 1s\tremaining: 5h 9m 28s\n",
      "16:\tlearn: 4.3986192\ttotal: 5m 14s\tremaining: 5h 2m 42s\n",
      "17:\tlearn: 4.3906915\ttotal: 6m 28s\tremaining: 5h 53m 14s\n",
      "18:\tlearn: 4.3866583\ttotal: 6m 29s\tremaining: 5h 35m 20s\n",
      "19:\tlearn: 4.3786490\ttotal: 7m 41s\tremaining: 6h 16m 41s\n",
      "20:\tlearn: 4.3765156\ttotal: 7m 42s\tremaining: 5h 59m 7s\n",
      "21:\tlearn: 4.3734285\ttotal: 7m 43s\tremaining: 5h 43m 9s\n",
      "22:\tlearn: 4.3669025\ttotal: 7m 56s\tremaining: 5h 37m 18s\n",
      "23:\tlearn: 4.3603183\ttotal: 8m 21s\tremaining: 5h 40m 8s\n",
      "24:\tlearn: 4.3538755\ttotal: 8m 44s\tremaining: 5h 40m 42s\n",
      "25:\tlearn: 4.3465272\ttotal: 9m 53s\tremaining: 6h 10m 38s\n",
      "26:\tlearn: 4.3413973\ttotal: 10m 5s\tremaining: 6h 3m 42s\n",
      "27:\tlearn: 4.3355698\ttotal: 10m 17s\tremaining: 5h 57m 26s\n",
      "28:\tlearn: 4.3316489\ttotal: 10m 18s\tremaining: 5h 45m 12s\n",
      "29:\tlearn: 4.3234363\ttotal: 11m 18s\tremaining: 6h 5m 37s\n",
      "30:\tlearn: 4.3195347\ttotal: 11m 19s\tremaining: 5h 53m 58s\n",
      "31:\tlearn: 4.3159263\ttotal: 11m 20s\tremaining: 5h 43m 1s\n",
      "32:\tlearn: 4.3157425\ttotal: 11m 20s\tremaining: 5h 32m 25s\n",
      "33:\tlearn: 4.3090412\ttotal: 11m 46s\tremaining: 5h 34m 37s\n",
      "34:\tlearn: 4.3022747\ttotal: 11m 56s\tremaining: 5h 29m 3s\n",
      "35:\tlearn: 4.3020960\ttotal: 11m 56s\tremaining: 5h 19m 42s\n",
      "36:\tlearn: 4.3019206\ttotal: 11m 56s\tremaining: 5h 10m 51s\n",
      "37:\tlearn: 4.3017483\ttotal: 11m 56s\tremaining: 5h 2m 29s\n",
      "38:\tlearn: 4.2946878\ttotal: 12m 25s\tremaining: 5h 6m\n",
      "39:\tlearn: 4.2945190\ttotal: 12m 25s\tremaining: 4h 58m 9s\n",
      "40:\tlearn: 4.2943532\ttotal: 12m 25s\tremaining: 4h 50m 41s\n",
      "41:\tlearn: 4.2892919\ttotal: 12m 30s\tremaining: 4h 45m 9s\n",
      "42:\tlearn: 4.2850527\ttotal: 12m 42s\tremaining: 4h 42m 40s\n",
      "43:\tlearn: 4.2796259\ttotal: 12m 46s\tremaining: 4h 37m 30s\n",
      "44:\tlearn: 4.2794675\ttotal: 12m 46s\tremaining: 4h 31m 8s\n",
      "45:\tlearn: 4.2726576\ttotal: 13m 54s\tremaining: 4h 48m 30s\n",
      "46:\tlearn: 4.2662576\ttotal: 13m 59s\tremaining: 4h 43m 33s\n",
      "47:\tlearn: 4.2661035\ttotal: 13m 59s\tremaining: 4h 37m 27s\n",
      "48:\tlearn: 4.2593950\ttotal: 14m 28s\tremaining: 4h 40m 55s\n",
      "49:\tlearn: 4.2525384\ttotal: 15m 27s\tremaining: 4h 53m 41s\n",
      "50:\tlearn: 4.2451000\ttotal: 16m 17s\tremaining: 5h 3m 16s\n",
      "51:\tlearn: 4.2390336\ttotal: 16m 45s\tremaining: 5h 5m 38s\n",
      "52:\tlearn: 4.2312326\ttotal: 17m 46s\tremaining: 5h 17m 36s\n",
      "53:\tlearn: 4.2310827\ttotal: 17m 46s\tremaining: 5h 11m 29s\n",
      "54:\tlearn: 4.2233852\ttotal: 18m 56s\tremaining: 5h 25m 31s\n",
      "55:\tlearn: 4.2166573\ttotal: 19m 24s\tremaining: 5h 27m 5s\n",
      "56:\tlearn: 4.2125076\ttotal: 19m 28s\tremaining: 5h 22m 14s\n",
      "57:\tlearn: 4.2091357\ttotal: 19m 29s\tremaining: 5h 16m 34s\n",
      "58:\tlearn: 4.2028750\ttotal: 19m 41s\tremaining: 5h 14m 5s\n",
      "59:\tlearn: 4.1969166\ttotal: 19m 53s\tremaining: 5h 11m 44s\n",
      "60:\tlearn: 4.1905281\ttotal: 21m 4s\tremaining: 5h 24m 26s\n",
      "61:\tlearn: 4.1838797\ttotal: 21m 33s\tremaining: 5h 26m 13s\n",
      "62:\tlearn: 4.1770289\ttotal: 21m 38s\tremaining: 5h 21m 51s\n",
      "63:\tlearn: 4.1700318\ttotal: 22m 49s\tremaining: 5h 33m 51s\n",
      "64:\tlearn: 4.1622410\ttotal: 23m 58s\tremaining: 5h 44m 57s\n",
      "65:\tlearn: 4.1598158\ttotal: 23m 59s\tremaining: 5h 39m 34s\n",
      "66:\tlearn: 4.1557347\ttotal: 24m 4s\tremaining: 5h 35m 9s\n",
      "67:\tlearn: 4.1505383\ttotal: 24m 8s\tremaining: 5h 30m 54s\n",
      "68:\tlearn: 4.1480646\ttotal: 24m 9s\tremaining: 5h 25m 58s\n",
      "69:\tlearn: 4.1442596\ttotal: 24m 10s\tremaining: 5h 21m 10s\n",
      "70:\tlearn: 4.1403363\ttotal: 24m 15s\tremaining: 5h 17m 19s\n",
      "71:\tlearn: 4.1326038\ttotal: 25m 24s\tremaining: 5h 27m 28s\n",
      "72:\tlearn: 4.1288396\ttotal: 25m 25s\tremaining: 5h 22m 50s\n",
      "73:\tlearn: 4.1224131\ttotal: 26m 16s\tremaining: 5h 28m 47s\n",
      "74:\tlearn: 4.1222822\ttotal: 26m 16s\tremaining: 5h 24m 6s\n",
      "75:\tlearn: 4.1163665\ttotal: 26m 29s\tremaining: 5h 22m 6s\n",
      "76:\tlearn: 4.1109762\ttotal: 26m 40s\tremaining: 5h 19m 46s\n",
      "77:\tlearn: 4.1076798\ttotal: 26m 41s\tremaining: 5h 15m 29s\n",
      "78:\tlearn: 4.1075539\ttotal: 26m 41s\tremaining: 5h 11m 13s\n",
      "79:\tlearn: 4.1038289\ttotal: 26m 42s\tremaining: 5h 7m 9s\n",
      "80:\tlearn: 4.1037067\ttotal: 26m 42s\tremaining: 5h 3m 5s\n",
      "81:\tlearn: 4.1035868\ttotal: 26m 43s\tremaining: 4h 59m 6s\n",
      "82:\tlearn: 4.0966436\ttotal: 27m 53s\tremaining: 5h 8m 9s\n",
      "83:\tlearn: 4.0965259\ttotal: 27m 53s\tremaining: 5h 4m 11s\n",
      "84:\tlearn: 4.0964105\ttotal: 27m 54s\tremaining: 5h 20s\n",
      "85:\tlearn: 4.0962973\ttotal: 27m 54s\tremaining: 4h 56m 34s\n",
      "86:\tlearn: 4.0949736\ttotal: 27m 55s\tremaining: 4h 52m 59s\n",
      "87:\tlearn: 4.0899338\ttotal: 27m 58s\tremaining: 4h 49m 55s\n",
      "88:\tlearn: 4.0831121\ttotal: 29m 7s\tremaining: 4h 58m 3s\n",
      "89:\tlearn: 4.0803778\ttotal: 29m 8s\tremaining: 4h 54m 34s\n",
      "90:\tlearn: 4.0802699\ttotal: 29m 8s\tremaining: 4h 51m 3s\n",
      "91:\tlearn: 4.0750341\ttotal: 29m 12s\tremaining: 4h 48m 20s\n",
      "92:\tlearn: 4.0677970\ttotal: 30m 23s\tremaining: 4h 56m 21s\n",
      "93:\tlearn: 4.0642045\ttotal: 30m 24s\tremaining: 4h 53m 1s\n",
      "94:\tlearn: 4.0593345\ttotal: 30m 28s\tremaining: 4h 50m 22s\n",
      "95:\tlearn: 4.0551185\ttotal: 30m 33s\tremaining: 4h 47m 45s\n",
      "96:\tlearn: 4.0492729\ttotal: 31m 3s\tremaining: 4h 49m 10s\n",
      "97:\tlearn: 4.0446549\ttotal: 31m 8s\tremaining: 4h 46m 35s\n",
      "98:\tlearn: 4.0410855\ttotal: 31m 12s\tremaining: 4h 44m 2s\n",
      "99:\tlearn: 4.0379265\ttotal: 31m 13s\tremaining: 4h 41m 2s\n",
      "100:\tlearn: 4.0378298\ttotal: 31m 14s\tremaining: 4h 38m\n",
      "101:\tlearn: 4.0321869\ttotal: 31m 24s\tremaining: 4h 36m 33s\n",
      "102:\tlearn: 4.0320925\ttotal: 31m 25s\tremaining: 4h 33m 36s\n",
      "103:\tlearn: 4.0282783\ttotal: 31m 28s\tremaining: 4h 31m 9s\n",
      "104:\tlearn: 4.0221438\ttotal: 31m 58s\tremaining: 4h 32m 34s\n",
      "105:\tlearn: 4.0187403\ttotal: 31m 59s\tremaining: 4h 29m 49s\n",
      "106:\tlearn: 4.0186497\ttotal: 31m 59s\tremaining: 4h 27m 2s\n",
      "107:\tlearn: 4.0152443\ttotal: 32m\tremaining: 4h 24m 23s\n",
      "108:\tlearn: 4.0088793\ttotal: 32m 32s\tremaining: 4h 25m 57s\n",
      "109:\tlearn: 4.0087912\ttotal: 32m 32s\tremaining: 4h 23m 17s\n",
      "110:\tlearn: 4.0029042\ttotal: 32m 44s\tremaining: 4h 22m 14s\n",
      "111:\tlearn: 3.9995294\ttotal: 32m 45s\tremaining: 4h 19m 43s\n",
      "112:\tlearn: 3.9933166\ttotal: 33m 49s\tremaining: 4h 25m 31s\n",
      "113:\tlearn: 3.9871961\ttotal: 34m 57s\tremaining: 4h 31m 45s\n",
      "114:\tlearn: 3.9871104\ttotal: 34m 58s\tremaining: 4h 29m 7s\n",
      "115:\tlearn: 3.9800416\ttotal: 36m\tremaining: 4h 34m 28s\n",
      "116:\tlearn: 3.9739331\ttotal: 36m 32s\tremaining: 4h 35m 46s\n",
      "117:\tlearn: 3.9682753\ttotal: 36m 44s\tremaining: 4h 34m 37s\n",
      "118:\tlearn: 3.9649968\ttotal: 36m 45s\tremaining: 4h 32m 7s\n",
      "119:\tlearn: 3.9649142\ttotal: 36m 45s\tremaining: 4h 29m 34s\n",
      "120:\tlearn: 3.9615913\ttotal: 36m 46s\tremaining: 4h 27m 8s\n",
      "121:\tlearn: 3.9551669\ttotal: 37m 48s\tremaining: 4h 32m 2s\n",
      "122:\tlearn: 3.9501126\ttotal: 38m\tremaining: 4h 31m 2s\n",
      "123:\tlearn: 3.9437529\ttotal: 39m 6s\tremaining: 4h 36m 14s\n",
      "124:\tlearn: 3.9405844\ttotal: 39m 6s\tremaining: 4h 33m 48s\n",
      "125:\tlearn: 3.9395265\ttotal: 39m 11s\tremaining: 4h 31m 51s\n",
      "126:\tlearn: 3.9376479\ttotal: 39m 12s\tremaining: 4h 29m 31s\n",
      "127:\tlearn: 3.9325308\ttotal: 39m 25s\tremaining: 4h 28m 32s\n",
      "128:\tlearn: 3.9265997\ttotal: 39m 37s\tremaining: 4h 27m 34s\n",
      "129:\tlearn: 3.9197211\ttotal: 40m 40s\tremaining: 4h 32m 11s\n",
      "130:\tlearn: 3.9163782\ttotal: 40m 41s\tremaining: 4h 29m 53s\n",
      "131:\tlearn: 3.9095702\ttotal: 41m 40s\tremaining: 4h 34m 5s\n",
      "132:\tlearn: 3.9031931\ttotal: 42m 43s\tremaining: 4h 38m 32s\n",
      "133:\tlearn: 3.8959271\ttotal: 43m 13s\tremaining: 4h 39m 23s\n",
      "134:\tlearn: 3.8910773\ttotal: 43m 26s\tremaining: 4h 38m 20s\n",
      "135:\tlearn: 3.8836495\ttotal: 44m 36s\tremaining: 4h 43m 23s\n",
      "136:\tlearn: 3.8789171\ttotal: 44m 49s\tremaining: 4h 42m 19s\n",
      "137:\tlearn: 3.8756442\ttotal: 44m 49s\tremaining: 4h 40m 2s\n",
      "138:\tlearn: 3.8725890\ttotal: 44m 50s\tremaining: 4h 37m 46s\n",
      "139:\tlearn: 3.8670519\ttotal: 44m 55s\tremaining: 4h 35m 56s\n",
      "140:\tlearn: 3.8612009\ttotal: 45m 7s\tremaining: 4h 34m 57s\n",
      "141:\tlearn: 3.8581913\ttotal: 45m 8s\tremaining: 4h 32m 47s\n",
      "142:\tlearn: 3.8522320\ttotal: 45m 21s\tremaining: 4h 31m 49s\n"
     ]
    },
    {
     "name": "stdout",
     "output_type": "stream",
     "text": [
      "143:\tlearn: 3.8458061\ttotal: 46m 33s\tremaining: 4h 36m 45s\n",
      "144:\tlearn: 3.8395090\ttotal: 47m 3s\tremaining: 4h 37m 29s\n",
      "145:\tlearn: 3.8315716\ttotal: 48m 6s\tremaining: 4h 41m 22s\n",
      "146:\tlearn: 3.8235620\ttotal: 49m 5s\tremaining: 4h 44m 50s\n",
      "147:\tlearn: 3.8188554\ttotal: 49m 18s\tremaining: 4h 43m 48s\n",
      "148:\tlearn: 3.8160534\ttotal: 49m 18s\tremaining: 4h 41m 40s\n",
      "149:\tlearn: 3.8095857\ttotal: 50m 31s\tremaining: 4h 46m 16s\n",
      "150:\tlearn: 3.8049152\ttotal: 50m 35s\tremaining: 4h 44m 27s\n",
      "151:\tlearn: 3.7991793\ttotal: 50m 48s\tremaining: 4h 43m 25s\n",
      "152:\tlearn: 3.7953678\ttotal: 50m 48s\tremaining: 4h 41m 18s\n",
      "153:\tlearn: 3.7931045\ttotal: 50m 49s\tremaining: 4h 39m 13s\n",
      "154:\tlearn: 3.7900022\ttotal: 50m 50s\tremaining: 4h 37m 10s\n",
      "155:\tlearn: 3.7852830\ttotal: 51m 21s\tremaining: 4h 37m 51s\n",
      "156:\tlearn: 3.7794020\ttotal: 52m 32s\tremaining: 4h 42m 6s\n",
      "157:\tlearn: 3.7793334\ttotal: 52m 32s\tremaining: 4h 40m 1s\n",
      "158:\tlearn: 3.7762054\ttotal: 52m 33s\tremaining: 4h 38m\n",
      "159:\tlearn: 3.7690478\ttotal: 53m 43s\tremaining: 4h 42m 2s\n",
      "160:\tlearn: 3.7645183\ttotal: 53m 47s\tremaining: 4h 40m 19s\n",
      "161:\tlearn: 3.7591413\ttotal: 53m 59s\tremaining: 4h 39m 19s\n",
      "162:\tlearn: 3.7557479\ttotal: 54m 4s\tremaining: 4h 37m 39s\n",
      "163:\tlearn: 3.7490685\ttotal: 54m 34s\tremaining: 4h 38m 14s\n",
      "164:\tlearn: 3.7440814\ttotal: 54m 45s\tremaining: 4h 37m 6s\n",
      "165:\tlearn: 3.7407882\ttotal: 54m 46s\tremaining: 4h 35m 10s\n",
      "166:\tlearn: 3.7376082\ttotal: 54m 47s\tremaining: 4h 33m 16s\n",
      "167:\tlearn: 3.7332527\ttotal: 54m 50s\tremaining: 4h 31m 35s\n",
      "168:\tlearn: 3.7271924\ttotal: 56m 1s\tremaining: 4h 35m 28s\n",
      "169:\tlearn: 3.7241604\ttotal: 56m 2s\tremaining: 4h 33m 36s\n",
      "170:\tlearn: 3.7176583\ttotal: 57m 12s\tremaining: 4h 37m 22s\n",
      "171:\tlearn: 3.7102422\ttotal: 58m 23s\tremaining: 4h 41m 5s\n",
      "172:\tlearn: 3.7041199\ttotal: 59m 33s\tremaining: 4h 44m 42s\n",
      "173:\tlearn: 3.7019046\ttotal: 59m 38s\tremaining: 4h 43m 5s\n",
      "174:\tlearn: 3.6974381\ttotal: 59m 50s\tremaining: 4h 42m 8s\n",
      "175:\tlearn: 3.6902537\ttotal: 1h 58s\tremaining: 4h 45m 28s\n",
      "176:\tlearn: 3.6841238\ttotal: 1h 2m 9s\tremaining: 4h 48m 59s\n",
      "177:\tlearn: 3.6814287\ttotal: 1h 2m 10s\tremaining: 4h 47m 5s\n",
      "178:\tlearn: 3.6782800\ttotal: 1h 2m 10s\tremaining: 4h 45m 12s\n",
      "179:\tlearn: 3.6721162\ttotal: 1h 2m 41s\tremaining: 4h 45m 37s\n",
      "180:\tlearn: 3.6657105\ttotal: 1h 3m 12s\tremaining: 4h 45m 59s\n",
      "181:\tlearn: 3.6628942\ttotal: 1h 3m 12s\tremaining: 4h 44m 7s\n",
      "182:\tlearn: 3.6550077\ttotal: 1h 4m 27s\tremaining: 4h 47m 46s\n",
      "183:\tlearn: 3.6474111\ttotal: 1h 5m 37s\tremaining: 4h 51m 2s\n",
      "184:\tlearn: 3.6401417\ttotal: 1h 6m 37s\tremaining: 4h 53m 28s\n",
      "185:\tlearn: 3.6370361\ttotal: 1h 6m 38s\tremaining: 4h 51m 37s\n",
      "186:\tlearn: 3.6313515\ttotal: 1h 7m 6s\tremaining: 4h 51m 43s\n",
      "187:\tlearn: 3.6240672\ttotal: 1h 8m 3s\tremaining: 4h 53m 59s\n",
      "188:\tlearn: 3.6188358\ttotal: 1h 8m 34s\tremaining: 4h 54m 15s\n",
      "189:\tlearn: 3.6131860\ttotal: 1h 9m 3s\tremaining: 4h 54m 25s\n",
      "190:\tlearn: 3.6085477\ttotal: 1h 9m 13s\tremaining: 4h 53m 12s\n",
      "191:\tlearn: 3.6027118\ttotal: 1h 9m 43s\tremaining: 4h 53m 25s\n",
      "192:\tlearn: 3.5974025\ttotal: 1h 9m 55s\tremaining: 4h 52m 23s\n",
      "193:\tlearn: 3.5913736\ttotal: 1h 11m 6s\tremaining: 4h 55m 26s\n",
      "194:\tlearn: 3.5846378\ttotal: 1h 12m 11s\tremaining: 4h 58m 3s\n",
      "195:\tlearn: 3.5804259\ttotal: 1h 12m 16s\tremaining: 4h 56m 28s\n",
      "196:\tlearn: 3.5729889\ttotal: 1h 13m 24s\tremaining: 4h 59m 13s\n",
      "197:\tlearn: 3.5670136\ttotal: 1h 13m 54s\tremaining: 4h 59m 22s\n",
      "198:\tlearn: 3.5591780\ttotal: 1h 14m 24s\tremaining: 4h 59m 28s\n",
      "199:\tlearn: 3.5518038\ttotal: 1h 14m 56s\tremaining: 4h 59m 46s\n",
      "200:\tlearn: 3.5461314\ttotal: 1h 16m 7s\tremaining: 5h 2m 37s\n",
      "201:\tlearn: 3.5402231\ttotal: 1h 17m 17s\tremaining: 5h 5m 20s\n",
      "202:\tlearn: 3.5334733\ttotal: 1h 17m 45s\tremaining: 5h 5m 18s\n",
      "203:\tlearn: 3.5273741\ttotal: 1h 17m 55s\tremaining: 5h 4m 3s\n",
      "204:\tlearn: 3.5216099\ttotal: 1h 18m 53s\tremaining: 5h 5m 54s\n",
      "205:\tlearn: 3.5153451\ttotal: 1h 19m 6s\tremaining: 5h 4m 53s\n",
      "206:\tlearn: 3.5070984\ttotal: 1h 20m 12s\tremaining: 5h 7m 14s\n",
      "207:\tlearn: 3.5003149\ttotal: 1h 21m 21s\tremaining: 5h 9m 47s\n",
      "208:\tlearn: 3.4936071\ttotal: 1h 21m 34s\tremaining: 5h 8m 44s\n",
      "209:\tlearn: 3.4862545\ttotal: 1h 22m 26s\tremaining: 5h 10m 6s\n",
      "210:\tlearn: 3.4793374\ttotal: 1h 22m 50s\tremaining: 5h 9m 47s\n",
      "211:\tlearn: 3.4709109\ttotal: 1h 23m 53s\tremaining: 5h 11m 48s\n",
      "212:\tlearn: 3.4652574\ttotal: 1h 24m 18s\tremaining: 5h 11m 30s\n",
      "213:\tlearn: 3.4579688\ttotal: 1h 25m 23s\tremaining: 5h 13m 38s\n",
      "214:\tlearn: 3.4502462\ttotal: 1h 26m 25s\tremaining: 5h 15m 33s\n",
      "215:\tlearn: 3.4426519\ttotal: 1h 27m 39s\tremaining: 5h 18m 9s\n",
      "216:\tlearn: 3.4351232\ttotal: 1h 27m 52s\tremaining: 5h 17m 5s\n",
      "217:\tlearn: 3.4278336\ttotal: 1h 28m 56s\tremaining: 5h 19m 3s\n",
      "218:\tlearn: 3.4211362\ttotal: 1h 29m 6s\tremaining: 5h 17m 48s\n",
      "219:\tlearn: 3.4147924\ttotal: 1h 29m 19s\tremaining: 5h 16m 42s\n",
      "220:\tlearn: 3.4072929\ttotal: 1h 29m 46s\tremaining: 5h 16m 25s\n",
      "221:\tlearn: 3.4001120\ttotal: 1h 29m 57s\tremaining: 5h 15m 15s\n",
      "222:\tlearn: 3.3927024\ttotal: 1h 30m 11s\tremaining: 5h 14m 14s\n",
      "223:\tlearn: 3.3879120\ttotal: 1h 30m 15s\tremaining: 5h 12m 41s\n",
      "224:\tlearn: 3.3808977\ttotal: 1h 31m 24s\tremaining: 5h 14m 51s\n",
      "225:\tlearn: 3.3731893\ttotal: 1h 32m 14s\tremaining: 5h 15m 53s\n",
      "226:\tlearn: 3.3648067\ttotal: 1h 33m 28s\tremaining: 5h 18m 19s\n",
      "227:\tlearn: 3.3568803\ttotal: 1h 34m 31s\tremaining: 5h 20m 4s\n",
      "228:\tlearn: 3.3482688\ttotal: 1h 35m 31s\tremaining: 5h 21m 38s\n",
      "229:\tlearn: 3.3405177\ttotal: 1h 36m 31s\tremaining: 5h 23m 10s\n",
      "230:\tlearn: 3.3319532\ttotal: 1h 37m 35s\tremaining: 5h 24m 53s\n",
      "231:\tlearn: 3.3241034\ttotal: 1h 38m 23s\tremaining: 5h 25m 41s\n",
      "232:\tlearn: 3.3167884\ttotal: 1h 39m 21s\tremaining: 5h 27m 2s\n",
      "233:\tlearn: 3.3085785\ttotal: 1h 40m 38s\tremaining: 5h 29m 25s\n",
      "234:\tlearn: 3.3003336\ttotal: 1h 41m 43s\tremaining: 5h 31m 7s\n",
      "235:\tlearn: 3.2920253\ttotal: 1h 42m 54s\tremaining: 5h 33m 10s\n",
      "236:\tlearn: 3.2874596\ttotal: 1h 44m 4s\tremaining: 5h 35m 2s\n",
      "237:\tlearn: 3.2794613\ttotal: 1h 44m 34s\tremaining: 5h 34m 48s\n",
      "238:\tlearn: 3.2719084\ttotal: 1h 44m 47s\tremaining: 5h 33m 40s\n",
      "239:\tlearn: 3.2660660\ttotal: 1h 44m 55s\tremaining: 5h 32m 16s\n",
      "240:\tlearn: 3.2585477\ttotal: 1h 45m 40s\tremaining: 5h 32m 47s\n",
      "241:\tlearn: 3.2506606\ttotal: 1h 46m 14s\tremaining: 5h 32m 47s\n",
      "242:\tlearn: 3.2455886\ttotal: 1h 46m 18s\tremaining: 5h 31m 9s\n",
      "243:\tlearn: 3.2373068\ttotal: 1h 47m 32s\tremaining: 5h 33m 11s\n",
      "244:\tlearn: 3.2289775\ttotal: 1h 48m 41s\tremaining: 5h 34m 57s\n",
      "245:\tlearn: 3.2203321\ttotal: 1h 49m 50s\tremaining: 5h 36m 41s\n",
      "246:\tlearn: 3.2116167\ttotal: 1h 50m 55s\tremaining: 5h 38m 11s\n",
      "247:\tlearn: 3.2036994\ttotal: 1h 52m 8s\tremaining: 5h 40m 1s\n",
      "248:\tlearn: 3.1946809\ttotal: 1h 52m 56s\tremaining: 5h 40m 36s\n",
      "249:\tlearn: 3.1862507\ttotal: 1h 54m 2s\tremaining: 5h 42m 8s\n",
      "250:\tlearn: 3.1792557\ttotal: 1h 54m 13s\tremaining: 5h 40m 51s\n",
      "251:\tlearn: 3.1704864\ttotal: 1h 55m 5s\tremaining: 5h 41m 37s\n",
      "252:\tlearn: 3.1622817\ttotal: 1h 56m 12s\tremaining: 5h 43m 7s\n",
      "253:\tlearn: 3.1544041\ttotal: 1h 57m 13s\tremaining: 5h 44m 18s\n",
      "254:\tlearn: 3.1458149\ttotal: 1h 57m 55s\tremaining: 5h 44m 32s\n",
      "255:\tlearn: 3.1374590\ttotal: 1h 58m 54s\tremaining: 5h 45m 34s\n",
      "256:\tlearn: 3.1287187\ttotal: 1h 59m 55s\tremaining: 5h 46m 43s\n",
      "257:\tlearn: 3.1202910\ttotal: 2h 55s\tremaining: 5h 47m 46s\n",
      "258:\tlearn: 3.1115582\ttotal: 2h 1m 55s\tremaining: 5h 48m 49s\n",
      "259:\tlearn: 3.1032914\ttotal: 2h 2m 52s\tremaining: 5h 49m 43s\n",
      "260:\tlearn: 3.0943923\ttotal: 2h 3m 38s\tremaining: 5h 50m 5s\n",
      "261:\tlearn: 3.0865302\ttotal: 2h 4m 54s\tremaining: 5h 51m 51s\n",
      "262:\tlearn: 3.0780708\ttotal: 2h 5m 35s\tremaining: 5h 51m 55s\n",
      "263:\tlearn: 3.0696101\ttotal: 2h 6m 32s\tremaining: 5h 52m 45s\n",
      "264:\tlearn: 3.0610736\ttotal: 2h 7m 20s\tremaining: 5h 53m 12s\n",
      "265:\tlearn: 3.0526016\ttotal: 2h 8m 16s\tremaining: 5h 53m 58s\n",
      "266:\tlearn: 3.0442809\ttotal: 2h 9m 27s\tremaining: 5h 55m 24s\n",
      "267:\tlearn: 3.0362499\ttotal: 2h 10m 21s\tremaining: 5h 56m 3s\n",
      "268:\tlearn: 3.0279550\ttotal: 2h 11m 31s\tremaining: 5h 57m 24s\n",
      "269:\tlearn: 3.0196870\ttotal: 2h 12m 48s\tremaining: 5h 59m 5s\n",
      "270:\tlearn: 3.0112620\ttotal: 2h 13m 54s\tremaining: 6h 12s\n",
      "271:\tlearn: 3.0030061\ttotal: 2h 14m 45s\tremaining: 6h 39s\n",
      "272:\tlearn: 2.9950548\ttotal: 2h 15m 42s\tremaining: 6h 1m 22s\n",
      "273:\tlearn: 2.9869024\ttotal: 2h 16m 34s\tremaining: 6h 1m 51s\n",
      "274:\tlearn: 2.9785579\ttotal: 2h 17m 43s\tremaining: 6h 3m 5s\n",
      "275:\tlearn: 2.9701316\ttotal: 2h 18m 53s\tremaining: 6h 4m 20s\n",
      "276:\tlearn: 2.9617831\ttotal: 2h 19m 53s\tremaining: 6h 5m 7s\n",
      "277:\tlearn: 2.9532338\ttotal: 2h 20m 54s\tremaining: 6h 5m 57s\n",
      "278:\tlearn: 2.9445765\ttotal: 2h 21m 55s\tremaining: 6h 6m 45s\n"
     ]
    },
    {
     "name": "stdout",
     "output_type": "stream",
     "text": [
      "279:\tlearn: 2.9383756\ttotal: 2h 22m 59s\tremaining: 6h 7m 41s\n",
      "280:\tlearn: 2.9296227\ttotal: 2h 24m 6s\tremaining: 6h 8m 43s\n",
      "281:\tlearn: 2.9211412\ttotal: 2h 24m 53s\tremaining: 6h 8m 55s\n",
      "282:\tlearn: 2.9126393\ttotal: 2h 25m 49s\tremaining: 6h 9m 27s\n",
      "283:\tlearn: 2.9042398\ttotal: 2h 26m 37s\tremaining: 6h 9m 38s\n",
      "284:\tlearn: 2.8958490\ttotal: 2h 27m 30s\tremaining: 6h 10m 3s\n",
      "285:\tlearn: 2.8875358\ttotal: 2h 28m 17s\tremaining: 6h 10m 13s\n",
      "286:\tlearn: 2.8790484\ttotal: 2h 29m 27s\tremaining: 6h 11m 18s\n",
      "287:\tlearn: 2.8705709\ttotal: 2h 30m 23s\tremaining: 6h 11m 48s\n",
      "288:\tlearn: 2.8623443\ttotal: 2h 31m 28s\tremaining: 6h 12m 39s\n",
      "289:\tlearn: 2.8538887\ttotal: 2h 32m 14s\tremaining: 6h 12m 44s\n",
      "290:\tlearn: 2.8453284\ttotal: 2h 33m 5s\tremaining: 6h 12m 59s\n",
      "291:\tlearn: 2.8368328\ttotal: 2h 34m\tremaining: 6h 13m 26s\n",
      "292:\tlearn: 2.8285994\ttotal: 2h 35m 8s\tremaining: 6h 14m 21s\n",
      "293:\tlearn: 2.8201767\ttotal: 2h 35m 54s\tremaining: 6h 14m 23s\n",
      "294:\tlearn: 2.8118559\ttotal: 2h 36m 54s\tremaining: 6h 14m 59s\n",
      "295:\tlearn: 2.8032884\ttotal: 2h 37m 43s\tremaining: 6h 15m 7s\n",
      "296:\tlearn: 2.7947921\ttotal: 2h 38m 50s\tremaining: 6h 15m 57s\n",
      "297:\tlearn: 2.7867103\ttotal: 2h 39m 43s\tremaining: 6h 16m 15s\n",
      "298:\tlearn: 2.7784138\ttotal: 2h 40m 35s\tremaining: 6h 16m 30s\n",
      "299:\tlearn: 2.7697420\ttotal: 2h 41m 32s\tremaining: 6h 16m 55s\n",
      "300:\tlearn: 2.7612791\ttotal: 2h 42m 26s\tremaining: 6h 17m 12s\n",
      "301:\tlearn: 2.7528248\ttotal: 2h 43m 33s\tremaining: 6h 18m 2s\n",
      "302:\tlearn: 2.7444896\ttotal: 2h 44m 22s\tremaining: 6h 18m 5s\n",
      "303:\tlearn: 2.7362139\ttotal: 2h 45m 6s\tremaining: 6h 18m 1s\n",
      "304:\tlearn: 2.7278679\ttotal: 2h 46m 6s\tremaining: 6h 18m 29s\n",
      "305:\tlearn: 2.7193105\ttotal: 2h 46m 58s\tremaining: 6h 18m 40s\n",
      "306:\tlearn: 2.7109094\ttotal: 2h 47m 46s\tremaining: 6h 18m 43s\n",
      "307:\tlearn: 2.7026305\ttotal: 2h 48m 42s\tremaining: 6h 19m 2s\n",
      "308:\tlearn: 2.6943606\ttotal: 2h 49m 30s\tremaining: 6h 19m 2s\n",
      "309:\tlearn: 2.6861464\ttotal: 2h 50m 32s\tremaining: 6h 19m 34s\n",
      "310:\tlearn: 2.6782649\ttotal: 2h 51m 12s\tremaining: 6h 19m 18s\n",
      "311:\tlearn: 2.6704668\ttotal: 2h 51m 55s\tremaining: 6h 19m 6s\n",
      "312:\tlearn: 2.6618653\ttotal: 2h 52m 43s\tremaining: 6h 19m 5s\n",
      "313:\tlearn: 2.6540404\ttotal: 2h 53m 16s\tremaining: 6h 18m 33s\n",
      "314:\tlearn: 2.6459232\ttotal: 2h 54m 11s\tremaining: 6h 18m 47s\n",
      "315:\tlearn: 2.6380019\ttotal: 2h 55m 5s\tremaining: 6h 18m 58s\n",
      "316:\tlearn: 2.6297111\ttotal: 2h 55m 59s\tremaining: 6h 19m 10s\n",
      "317:\tlearn: 2.6217396\ttotal: 2h 56m 53s\tremaining: 6h 19m 23s\n",
      "318:\tlearn: 2.6137240\ttotal: 2h 57m 41s\tremaining: 6h 19m 20s\n",
      "319:\tlearn: 2.6055662\ttotal: 2h 58m 58s\tremaining: 6h 20m 18s\n",
      "320:\tlearn: 2.5973317\ttotal: 2h 59m 43s\tremaining: 6h 20m 9s\n",
      "321:\tlearn: 2.5894465\ttotal: 3h 28s\tremaining: 6h 20m\n",
      "322:\tlearn: 2.5813593\ttotal: 3h 1m 12s\tremaining: 6h 19m 49s\n",
      "323:\tlearn: 2.5733889\ttotal: 3h 2m 2s\tremaining: 6h 19m 48s\n",
      "324:\tlearn: 2.5659049\ttotal: 3h 3m 12s\tremaining: 6h 20m 29s\n"
     ]
    }
   ],
   "source": [
    "model_catBoost.fit(X_train, y_train)"
   ]
  },
  {
   "cell_type": "code",
   "execution_count": 124,
   "metadata": {},
   "outputs": [
    {
     "data": {
      "text/plain": [
       "Series([], Name: consumo_cerveja, dtype: float64)"
      ]
     },
     "execution_count": 124,
     "metadata": {},
     "output_type": "execute_result"
    }
   ],
   "source": [
    "y_train"
   ]
  },
  {
   "cell_type": "code",
   "execution_count": null,
   "metadata": {},
   "outputs": [],
   "source": []
  }
 ],
 "metadata": {
  "kernelspec": {
   "display_name": "Python 3",
   "language": "python",
   "name": "python3"
  },
  "language_info": {
   "codemirror_mode": {
    "name": "ipython",
    "version": 3
   },
   "file_extension": ".py",
   "mimetype": "text/x-python",
   "name": "python",
   "nbconvert_exporter": "python",
   "pygments_lexer": "ipython3",
   "version": "3.7.3"
  }
 },
 "nbformat": 4,
 "nbformat_minor": 2
}
